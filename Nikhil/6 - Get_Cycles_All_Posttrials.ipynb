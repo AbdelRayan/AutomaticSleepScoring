{
 "cells": [
  {
   "cell_type": "code",
   "execution_count": null,
   "id": "44a218fc-5e0d-48b1-92de-45054c80b6ab",
   "metadata": {},
   "outputs": [],
   "source": [
    "import numpy as np\n",
    "import pandas as pd\n",
    "from scipy.interpolate import interp1d\n",
    "import os\n",
    "\n",
    "# Import custom functions\n",
    "from scripts.functions import *"
   ]
  },
  {
   "cell_type": "markdown",
   "id": "4f44d55f-31fe-40b3-a2f0-e901d22a5fba",
   "metadata": {
    "jp-MarkdownHeadingCollapsed": true
   },
   "source": [
    "# Load data"
   ]
  },
  {
   "cell_type": "markdown",
   "id": "881b5c38-f9ad-47f8-8af6-1d14598a7c49",
   "metadata": {},
   "source": [
    "Select the appropriate dataset: rat number --> condition --> region (HPC/PFC)"
   ]
  },
  {
   "cell_type": "markdown",
   "id": "b6becc2c-bb3a-4adb-8b54-afd831ea0f08",
   "metadata": {
    "jp-MarkdownHeadingCollapsed": true
   },
   "source": [
    "## Rat_1"
   ]
  },
  {
   "cell_type": "markdown",
   "id": "e14adff9-e056-4814-94ba-460c901a968b",
   "metadata": {
    "jp-MarkdownHeadingCollapsed": true
   },
   "source": [
    "### OR_N"
   ]
  },
  {
   "cell_type": "code",
   "execution_count": null,
   "id": "bb94317d-ef4a-46c3-beaa-86503ee0b5d0",
   "metadata": {},
   "outputs": [],
   "source": [
    "condition = 'OR_N'"
   ]
  },
  {
   "cell_type": "markdown",
   "id": "ee420800-31f9-4a59-9e26-b35e49fe9cf8",
   "metadata": {
    "jp-MarkdownHeadingCollapsed": true
   },
   "source": [
    "#### PFC"
   ]
  },
  {
   "cell_type": "code",
   "execution_count": null,
   "id": "efcbccf5-9cf6-4f77-ba05-be14a5fc1ed8",
   "metadata": {},
   "outputs": [],
   "source": [
    "# Set path to LFP data and sleep state files\n",
    "rat = '1'\n",
    "region = 'PFC'\n",
    "path_to_data = './data/OS_basic_separated/1/study_day_5_OR_N/'\n",
    "data_file = 'Cleaned_Trial1_PFC_100_CH11.continuous.mat'\n",
    "states_file = 'post_trial1_states_merged.mat'\n",
    "data1, sleep_scoring1 = load_mat_data(path_to_data, data_file, states_file)\n",
    "\n",
    "data_file = 'Cleaned_Trial2_PFC_100_CH11.continuous.mat'\n",
    "states_file = 'post_trial2_2017-10-03_12-00-20_1-states.mat'\n",
    "data2, sleep_scoring2 = load_mat_data(path_to_data, data_file, states_file)\n",
    "\n",
    "data_file = 'Cleaned_Trial3_PFC_100_CH11.continuous.mat'\n",
    "states_file = 'post_trial3_2017-10-03_12-53-38-states.mat'\n",
    "data3, sleep_scoring3 = load_mat_data(path_to_data, data_file, states_file)\n",
    "\n",
    "data_file = 'Cleaned_Trial4_PFC_100_CH11.continuous.mat'\n",
    "states_file = 'post_trial4_2017-10-03_13-45-43-states.mat'\n",
    "data4, sleep_scoring4 = load_mat_data(path_to_data, data_file, states_file)\n",
    "\n",
    "data_file = 'Cleaned_Trial5_PFC_100_CH11_3.continuous.mat'\n",
    "states_file = 'post_trial5_2017-10-03_15-12-56_2-states.mat'\n",
    "data5, sleep_scoring5 = load_mat_data(path_to_data, data_file, states_file)"
   ]
  },
  {
   "cell_type": "markdown",
   "id": "e6650398-4c33-403a-b6e6-e5ff6c38825c",
   "metadata": {
    "jp-MarkdownHeadingCollapsed": true
   },
   "source": [
    "#### HPC"
   ]
  },
  {
   "cell_type": "code",
   "execution_count": null,
   "id": "60cfff71-c4b8-4623-969d-db613c6e483b",
   "metadata": {},
   "outputs": [],
   "source": [
    "# Set path to LFP data and sleep state files\n",
    "rat = '1'\n",
    "region = 'HPC'\n",
    "path_to_data = './data/OS_basic_separated/1/study_day_5_OR_N/'\n",
    "data_file = 'Cleaned_Trial1_HPC_100_CH46.continuous.mat'\n",
    "states_file = 'post_trial1_states_merged.mat'\n",
    "data1, sleep_scoring1 = load_mat_data(path_to_data, data_file, states_file, table_name='HPClfpCleaned')\n",
    "\n",
    "data_file = 'Cleaned_Trial2_HPC_100_CH46.continuous.mat'\n",
    "states_file = 'post_trial2_2017-10-03_12-00-20_1-states.mat'\n",
    "data2, sleep_scoring2 = load_mat_data(path_to_data, data_file, states_file, table_name='HPClfpCleaned')\n",
    "\n",
    "data_file = 'Cleaned_Trial3_HPC_100_CH46.continuous.mat'\n",
    "states_file = 'post_trial3_2017-10-03_12-53-38-states.mat'\n",
    "data3, sleep_scoring3 = load_mat_data(path_to_data, data_file, states_file, table_name='HPClfpCleaned')\n",
    "\n",
    "data_file = 'Cleaned_Trial4_HPC_100_CH46.continuous.mat'\n",
    "states_file = 'post_trial4_2017-10-03_13-45-43-states.mat'\n",
    "data4, sleep_scoring4 = load_mat_data(path_to_data, data_file, states_file, table_name='HPClfpCleaned')\n",
    "\n",
    "data_file = 'Cleaned_Trial5_HPC_100_CH46_3.continuous.mat'\n",
    "states_file = 'post_trial5_2017-10-03_15-12-56_2-states.mat'\n",
    "data5, sleep_scoring5 = load_mat_data(path_to_data, data_file, states_file, table_name='HPClfpCleaned')"
   ]
  },
  {
   "cell_type": "markdown",
   "id": "b34c9883-0868-408f-933e-ec125f64c14d",
   "metadata": {
    "jp-MarkdownHeadingCollapsed": true
   },
   "source": [
    "## Rat_3"
   ]
  },
  {
   "cell_type": "markdown",
   "id": "350da138-4c0d-4695-9ffa-4f28979b6691",
   "metadata": {
    "jp-MarkdownHeadingCollapsed": true
   },
   "source": [
    "### OR_N"
   ]
  },
  {
   "cell_type": "code",
   "execution_count": null,
   "id": "895e87d5-ca6d-4d2b-8161-24ce1e80ec87",
   "metadata": {},
   "outputs": [],
   "source": [
    "condition = 'OR_N'"
   ]
  },
  {
   "cell_type": "markdown",
   "id": "e8836b6e-46a2-4038-ac2f-d27d65aed534",
   "metadata": {
    "jp-MarkdownHeadingCollapsed": true
   },
   "source": [
    "#### PFC"
   ]
  },
  {
   "cell_type": "code",
   "execution_count": null,
   "id": "29dfe5a3-d9a5-4a2c-9729-d595e1e1748d",
   "metadata": {},
   "outputs": [],
   "source": [
    "# Set path to LFP data and sleep state files\n",
    "rat = '3'\n",
    "region = 'PFC'\n",
    "path_to_data = './data/OS_basic_separated/3/Rat_OS_Ephys_Rat3_SD5_OR_N_21-22_11_2017/'\n",
    "data_file = 'Cleaned_Trial1_PFC_100_CH49.continuous.mat'\n",
    "states_file = 'post_trial1_2017-11-21_10-53-58-states.mat'\n",
    "data1, sleep_scoring1 = load_mat_data(path_to_data, data_file, states_file)\n",
    "\n",
    "data_file = 'Cleaned_Trial2_PFC_100_CH49.continuous.mat'\n",
    "states_file = 'post_trial2_2017-11-21_11-44-35-states.mat'\n",
    "data2, sleep_scoring2 = load_mat_data(path_to_data, data_file, states_file)\n",
    "\n",
    "data_file = 'Cleaned_Trial3_PFC_100_CH49.continuous.mat'\n",
    "states_file = 'post_trial3_2017-11-21_12-35-06-states.mat'\n",
    "data3, sleep_scoring3 = load_mat_data(path_to_data, data_file, states_file)\n",
    "\n",
    "data_file = 'Cleaned_Trial4_PFC_100_CH49.continuous.mat'\n",
    "states_file = 'post_trial4_2017-11-21_13-25-29-states.mat'\n",
    "data4, sleep_scoring4 = load_mat_data(path_to_data, data_file, states_file)\n",
    "\n",
    "data_file = 'Cleaned_Trial5_PFC_100_CH49.continuous.mat'\n",
    "states_file = 'post_trial5_2017-11-21_14-49-47-states.mat'\n",
    "data5, sleep_scoring5 = load_mat_data(path_to_data, data_file, states_file)"
   ]
  },
  {
   "cell_type": "markdown",
   "id": "74b4516b-98a6-44e3-8ee4-78dc7c49aeea",
   "metadata": {
    "jp-MarkdownHeadingCollapsed": true
   },
   "source": [
    "#### HPC"
   ]
  },
  {
   "cell_type": "code",
   "execution_count": null,
   "id": "1fd6b2e1-6c82-4ca0-bdec-4f05f0af5d6e",
   "metadata": {},
   "outputs": [],
   "source": [
    "# Set path to LFP data and sleep state files\n",
    "rat = '3'\n",
    "region = 'HPC'\n",
    "path_to_data = './data/OS_basic_separated/3/Rat_OS_Ephys_Rat3_SD5_OR_N_21-22_11_2017/'\n",
    "data_file = 'Cleaned_Trial1_HPC_100_CH15.continuous.mat'\n",
    "states_file = 'post_trial1_2017-11-21_10-53-58-states.mat'\n",
    "data1, sleep_scoring1 = load_mat_data(path_to_data, data_file, states_file, table_name='HPClfpCleaned')\n",
    "\n",
    "data_file = 'Cleaned_Trial2_HPC_100_CH15.continuous.mat'\n",
    "states_file = 'post_trial2_2017-11-21_11-44-35-states.mat'\n",
    "data2, sleep_scoring2 = load_mat_data(path_to_data, data_file, states_file, table_name='HPClfpCleaned')\n",
    "\n",
    "data_file = 'Cleaned_Trial3_HPC_100_CH15.continuous.mat'\n",
    "states_file = 'post_trial3_2017-11-21_12-35-06-states.mat'\n",
    "data3, sleep_scoring3 = load_mat_data(path_to_data, data_file, states_file, table_name='HPClfpCleaned')\n",
    "\n",
    "data_file = 'Cleaned_Trial4_HPC_100_CH15.continuous.mat'\n",
    "states_file = 'post_trial4_2017-11-21_13-25-29-states.mat'\n",
    "data4, sleep_scoring4 = load_mat_data(path_to_data, data_file, states_file, table_name='HPClfpCleaned')\n",
    "\n",
    "data_file = 'Cleaned_Trial5_HPC_100_CH15.continuous.mat'\n",
    "states_file = 'post_trial5_2017-11-21_14-49-47-states.mat'\n",
    "data5, sleep_scoring5 = load_mat_data(path_to_data, data_file, states_file, table_name='HPClfpCleaned')"
   ]
  },
  {
   "cell_type": "markdown",
   "id": "5666ebc5-22e2-4c27-843c-40ef133c7300",
   "metadata": {
    "jp-MarkdownHeadingCollapsed": true
   },
   "source": [
    "## Rat_4"
   ]
  },
  {
   "cell_type": "markdown",
   "id": "131c9bfe-0e41-45a7-9c07-72f24820c370",
   "metadata": {},
   "source": [
    "### OR_N"
   ]
  },
  {
   "cell_type": "code",
   "execution_count": null,
   "id": "50674d3f-5ec3-4121-9a9d-8d78c66d5034",
   "metadata": {},
   "outputs": [],
   "source": [
    "condition = 'OR_N'"
   ]
  },
  {
   "cell_type": "markdown",
   "id": "2b36b794-d7b8-45c2-9266-7bdf43b1859b",
   "metadata": {
    "jp-MarkdownHeadingCollapsed": true
   },
   "source": [
    "#### PFC"
   ]
  },
  {
   "cell_type": "code",
   "execution_count": null,
   "id": "51f9225b-f504-4352-92e1-0060573b28d0",
   "metadata": {},
   "outputs": [],
   "source": [
    "# Set path to LFP data and sleep state files\n",
    "rat = '4'\n",
    "region = 'PFC'\n",
    "path_to_data = './data/OS_basic_separated/4/Rat_OS_Ephys_Rat4_SD4_OR_N_18-19_12_2017/'\n",
    "data_file = 'Cleaned_Trial1_PFC_100_CH34.continuous.mat'\n",
    "states_file = 'post_trial1_2017-12-18_10-28-46-states.mat'\n",
    "data1, sleep_scoring1 = load_mat_data(path_to_data, data_file, states_file)\n",
    "\n",
    "data_file = 'Cleaned_Trial2_PFC_100_CH34.continuous.mat'\n",
    "states_file = 'post_trial2_2017-12-18_11-20-02-states.mat'\n",
    "data2, sleep_scoring2 = load_mat_data(path_to_data, data_file, states_file)\n",
    "\n",
    "data_file = 'Cleaned_Trial3_PFC_100_CH34.continuous.mat'\n",
    "states_file = 'post_trial3_2017-12-18_12-10-35-states.mat'\n",
    "data3, sleep_scoring3 = load_mat_data(path_to_data, data_file, states_file)\n",
    "\n",
    "data_file = 'Cleaned_Trial4_PFC_100_CH34.continuous.mat'\n",
    "states_file = 'post_trial4_2017-12-18_13-08-50-states.mat'\n",
    "data4, sleep_scoring4 = load_mat_data(path_to_data, data_file, states_file)\n",
    "\n",
    "data_file = 'Cleaned_Trial5_PFC_100_CH34.continuous.mat'\n",
    "states_file = 'post_trial5_2017-12-18_14-30-11-states.mat'\n",
    "data5, sleep_scoring5 = load_mat_data(path_to_data, data_file, states_file)"
   ]
  },
  {
   "cell_type": "markdown",
   "id": "5e1e9017-a3cf-4be0-92a1-b29132e2c594",
   "metadata": {},
   "source": [
    "#### HPC"
   ]
  },
  {
   "cell_type": "code",
   "execution_count": null,
   "id": "83ffbd63-d410-4c77-a254-e36aa58b8384",
   "metadata": {},
   "outputs": [],
   "source": [
    "# Set path to LFP data and sleep state files\n",
    "rat = '4'\n",
    "region = 'HPC'\n",
    "path_to_data = './data/OS_basic_separated/4/Rat_OS_Ephys_Rat4_SD4_OR_N_18-19_12_2017/'\n",
    "data_file = 'Cleaned_Trial1_HPC_100_CH38.continuous.mat'\n",
    "states_file = 'post_trial1_2017-12-18_10-28-46-states.mat'\n",
    "data1, sleep_scoring1 = load_mat_data(path_to_data, data_file, states_file, table_name='HPClfpCleaned')\n",
    "\n",
    "data_file = 'Cleaned_Trial2_HPC_100_CH38.continuous.mat'\n",
    "states_file = 'post_trial2_2017-12-18_11-20-02-states.mat'\n",
    "data2, sleep_scoring2 = load_mat_data(path_to_data, data_file, states_file, table_name='HPClfpCleaned')\n",
    "\n",
    "data_file = 'Cleaned_Trial3_HPC_100_CH38.continuous.mat'\n",
    "states_file = 'post_trial3_2017-12-18_12-10-35-states.mat'\n",
    "data3, sleep_scoring3 = load_mat_data(path_to_data, data_file, states_file, table_name='HPClfpCleaned')\n",
    "\n",
    "data_file = 'Cleaned_Trial4_HPC_100_CH38.continuous.mat'\n",
    "states_file = 'post_trial4_2017-12-18_13-08-50-states.mat'\n",
    "data4, sleep_scoring4 = load_mat_data(path_to_data, data_file, states_file, table_name='HPClfpCleaned')\n",
    "\n",
    "data_file = 'Cleaned_Trial5_HPC_100_CH38.continuous.mat'\n",
    "states_file = 'post_trial5_2017-12-18_14-30-11-states.mat'\n",
    "data5, sleep_scoring5 = load_mat_data(path_to_data, data_file, states_file, table_name='HPClfpCleaned')"
   ]
  },
  {
   "cell_type": "markdown",
   "id": "dc5c5ac6-39f4-4a63-8872-6283f92c0382",
   "metadata": {
    "jp-MarkdownHeadingCollapsed": true
   },
   "source": [
    "## Rat_6"
   ]
  },
  {
   "cell_type": "markdown",
   "id": "ff2bd34e-8fd4-4163-b720-97fcdd777001",
   "metadata": {
    "jp-MarkdownHeadingCollapsed": true
   },
   "source": [
    "### OR_N"
   ]
  },
  {
   "cell_type": "code",
   "execution_count": null,
   "id": "a3f1f42a-513e-4c2d-a9c4-753799e3cfdb",
   "metadata": {},
   "outputs": [],
   "source": [
    "condition = 'OR_N'"
   ]
  },
  {
   "cell_type": "markdown",
   "id": "07d62265-557d-4426-a99e-5811648baaeb",
   "metadata": {
    "jp-MarkdownHeadingCollapsed": true
   },
   "source": [
    "#### PFC"
   ]
  },
  {
   "cell_type": "code",
   "execution_count": null,
   "id": "42fde84b-292f-4e2c-9f06-504ecd10486c",
   "metadata": {},
   "outputs": [],
   "source": [
    "# Set path to LFP data and sleep state files\n",
    "rat = '6'\n",
    "region = 'PFC'\n",
    "path_to_data = './data/OS_basic_separated/6/Study_day7_OR_N_1_2mar2018/'\n",
    "data_file = 'Cleaned_Trial1_PFC_100_CH33.continuous.mat'\n",
    "states_file = '2018-03-01_10-34-07_post_trial1-states.mat'\n",
    "data1, sleep_scoring1 = load_mat_data(path_to_data, data_file, states_file)\n",
    "\n",
    "data_file = 'Cleaned_Trial2_PFC_100_CH33.continuous.mat'\n",
    "states_file = '2018-03-01_11-24-38_post_trial2-states.mat'\n",
    "data2, sleep_scoring2 = load_mat_data(path_to_data, data_file, states_file)\n",
    "\n",
    "data_file = 'Cleaned_Trial3_PFC_100_CH33.continuous.mat'\n",
    "states_file = '2018-03-01_12-15-12_post_trial3-states.mat'\n",
    "data3, sleep_scoring3 = load_mat_data(path_to_data, data_file, states_file)\n",
    "\n",
    "data_file = 'Cleaned_Trial4_PFC_100_CH33.continuous.mat'\n",
    "states_file = '2018-03-01_13-05-56_post_trial4-states.mat'\n",
    "data4, sleep_scoring4 = load_mat_data(path_to_data, data_file, states_file)\n",
    "\n",
    "data_file = 'Cleaned_Trial5_PFC_100_CH33.continuous.mat'\n",
    "states_file = '2018-03-01_14-26-58_post_trial5-states.mat'\n",
    "data5, sleep_scoring5 = load_mat_data(path_to_data, data_file, states_file)"
   ]
  },
  {
   "cell_type": "markdown",
   "id": "4edc3673-536f-4849-b93e-f75af4ab8b57",
   "metadata": {
    "jp-MarkdownHeadingCollapsed": true
   },
   "source": [
    "#### HPC"
   ]
  },
  {
   "cell_type": "code",
   "execution_count": null,
   "id": "3008886a-c404-4db4-83ba-5ce7123b8389",
   "metadata": {},
   "outputs": [],
   "source": [
    "# Set path to LFP data and sleep state files\n",
    "rat = '6'\n",
    "region = 'HPC'\n",
    "path_to_data = './data/OS_basic_separated/6/Study_day7_OR_N_1_2mar2018/'\n",
    "data_file = 'Cleaned_Trial1_HPC_100_CH2.continuous.mat'\n",
    "states_file = '2018-03-01_10-34-07_post_trial1-states.mat'\n",
    "data1, sleep_scoring1 = load_mat_data(path_to_data, data_file, states_file, table_name='HPClfpCleaned')\n",
    "\n",
    "data_file = 'Cleaned_Trial2_HPC_100_CH2.continuous.mat'\n",
    "states_file = '2018-03-01_11-24-38_post_trial2-states.mat'\n",
    "data2, sleep_scoring2 = load_mat_data(path_to_data, data_file, states_file, table_name='HPClfpCleaned')\n",
    "\n",
    "data_file = 'Cleaned_Trial3_HPC_100_CH2.continuous.mat'\n",
    "states_file = '2018-03-01_12-15-12_post_trial3-states.mat'\n",
    "data3, sleep_scoring3 = load_mat_data(path_to_data, data_file, states_file, table_name='HPClfpCleaned')\n",
    "\n",
    "data_file = 'Cleaned_Trial4_HPC_100_CH2.continuous.mat'\n",
    "states_file = '2018-03-01_13-05-56_post_trial4-states.mat'\n",
    "data4, sleep_scoring4 = load_mat_data(path_to_data, data_file, states_file, table_name='HPClfpCleaned')\n",
    "\n",
    "data_file = 'Cleaned_Trial5_HPC_100_CH2.continuous.mat'\n",
    "states_file = '2018-03-01_14-26-58_post_trial5-states.mat'\n",
    "data5, sleep_scoring5 = load_mat_data(path_to_data, data_file, states_file, table_name='HPClfpCleaned')"
   ]
  },
  {
   "cell_type": "markdown",
   "id": "a9b0a60a-e590-4a57-aea3-545fadb1a3d1",
   "metadata": {
    "jp-MarkdownHeadingCollapsed": true
   },
   "source": [
    "## Rat_9"
   ]
  },
  {
   "cell_type": "markdown",
   "id": "1e0e1f7a-5a51-4a43-9a72-2de5c6b14caa",
   "metadata": {
    "jp-MarkdownHeadingCollapsed": true
   },
   "source": [
    "### OR_N"
   ]
  },
  {
   "cell_type": "code",
   "execution_count": null,
   "id": "1ac7ce5e-d2a3-4a57-ac95-1723ebbadc61",
   "metadata": {},
   "outputs": [],
   "source": [
    "condition = 'OR_N'"
   ]
  },
  {
   "cell_type": "markdown",
   "id": "68fecc6a-9e3f-4c10-b494-aaaaaad1d0d8",
   "metadata": {
    "jp-MarkdownHeadingCollapsed": true
   },
   "source": [
    "#### PFC"
   ]
  },
  {
   "cell_type": "code",
   "execution_count": null,
   "id": "8441bc7d-3f1b-47ab-9325-8e059593520b",
   "metadata": {},
   "outputs": [],
   "source": [
    "# Set path to LFP data and sleep state files\n",
    "rat = '9'\n",
    "region = 'PFC'\n",
    "path_to_data = './data/OS_basic_separated/9/2018_06_27_Study_day_16_OR_N/'\n",
    "data_file = 'Cleaned_Trial1_PFC_100_CH30.continuous.mat'\n",
    "states_file = '2018-06-27_10-04-32_Post_trial1-states.mat'\n",
    "data1, sleep_scoring1 = load_mat_data(path_to_data, data_file, states_file)\n",
    "\n",
    "data_file = 'Cleaned_Trial2_PFC_100_CH30.continuous.mat'\n",
    "states_file = '2018-06-27_10-55-01_Post_trial2-states.mat'\n",
    "data2, sleep_scoring2 = load_mat_data(path_to_data, data_file, states_file)\n",
    "\n",
    "data_file = 'Cleaned_Trial3_PFC_100_CH30.continuous.mat'\n",
    "states_file = '2018-06-27_11-45-36_Post_trial3-states.mat'\n",
    "data3, sleep_scoring3 = load_mat_data(path_to_data, data_file, states_file)\n",
    "\n",
    "data_file = 'Cleaned_Trial4_PFC_100_CH30.continuous.mat'\n",
    "states_file = '2018-06-27_12-36-07_Post_trial4-states.mat'\n",
    "data4, sleep_scoring4 = load_mat_data(path_to_data, data_file, states_file)\n",
    "\n",
    "data_file = 'Cleaned_Trial5_PFC_100_CH30.continuous.mat'\n",
    "states_file = '2018-06-27_13-57-02_Post_trial5-states.mat'\n",
    "data5, sleep_scoring5 = load_mat_data(path_to_data, data_file, states_file)"
   ]
  },
  {
   "cell_type": "markdown",
   "id": "b9af96f9-d1fc-4540-ba57-9fb4342f8e4f",
   "metadata": {
    "jp-MarkdownHeadingCollapsed": true
   },
   "source": [
    "#### HPC"
   ]
  },
  {
   "cell_type": "code",
   "execution_count": null,
   "id": "8485d81b-888c-4c7f-809e-fcfa8703d044",
   "metadata": {},
   "outputs": [],
   "source": [
    "# Set path to LFP data and sleep state files\n",
    "rat = '9'\n",
    "region = 'HPC'\n",
    "path_to_data = './data/OS_basic_separated/9/2018_06_27_Study_day_16_OR_N/'\n",
    "data_file = 'Cleaned_Trial1_HPC_100_CH49.continuous.mat'\n",
    "states_file = '2018-06-27_10-04-32_Post_trial1-states.mat'\n",
    "data1, sleep_scoring1 = load_mat_data(path_to_data, data_file, states_file, table_name='HPClfpCleaned')\n",
    "\n",
    "data_file = 'Cleaned_Trial2_HPC_100_CH49.continuous.mat'\n",
    "states_file = '2018-06-27_10-55-01_Post_trial2-states.mat'\n",
    "data2, sleep_scoring2 = load_mat_data(path_to_data, data_file, states_file, table_name='HPClfpCleaned')\n",
    "\n",
    "data_file = 'Cleaned_Trial3_HPC_100_CH49.continuous.mat'\n",
    "states_file = '2018-06-27_11-45-36_Post_trial3-states.mat'\n",
    "data3, sleep_scoring3 = load_mat_data(path_to_data, data_file, states_file, table_name='HPClfpCleaned')\n",
    "\n",
    "data_file = 'Cleaned_Trial4_HPC_100_CH49.continuous.mat'\n",
    "states_file = '2018-06-27_12-36-07_Post_trial4-states.mat'\n",
    "data4, sleep_scoring4 = load_mat_data(path_to_data, data_file, states_file, table_name='HPClfpCleaned')\n",
    "\n",
    "data_file = 'Cleaned_Trial5_HPC_100_CH49.continuous.mat'\n",
    "states_file = '2018-06-27_13-57-02_Post_trial5-states.mat'\n",
    "data5, sleep_scoring5 = load_mat_data(path_to_data, data_file, states_file, table_name='HPClfpCleaned')"
   ]
  },
  {
   "cell_type": "markdown",
   "id": "6e2bafc5-e72b-48fc-9269-ca72c2df4a5c",
   "metadata": {
    "jp-MarkdownHeadingCollapsed": true
   },
   "source": [
    "### OR_SD"
   ]
  },
  {
   "cell_type": "code",
   "execution_count": null,
   "id": "41bd7acd-4484-459e-8f54-58fed012d526",
   "metadata": {},
   "outputs": [],
   "source": [
    "condition = 'OR_SD'"
   ]
  },
  {
   "cell_type": "markdown",
   "id": "4d2d3ea1-6d8f-43d6-b322-17f3b73f5fb6",
   "metadata": {
    "jp-MarkdownHeadingCollapsed": true
   },
   "source": [
    "#### PFC"
   ]
  },
  {
   "cell_type": "code",
   "execution_count": null,
   "id": "3f250c4b-657d-49b5-8b3a-dced874ce274",
   "metadata": {},
   "outputs": [],
   "source": [
    "# Set path to LFP data and sleep state files\n",
    "rat = '9'\n",
    "region = 'PFC'\n",
    "path_to_data = './data/OS_basic_separated/9/2018_06_25_study_day15_OR_SD/'\n",
    "data_file = 'Cleaned_Trial1_PFC_100_CH30.continuous.mat'\n",
    "states_file = '2018-06-25_10-11-00_Post_trial1-states.mat'\n",
    "data1, sleep_scoring1 = load_mat_data(path_to_data, data_file, states_file)\n",
    "\n",
    "data_file = 'Cleaned_Trial2_PFC_100_CH30.continuous.mat'\n",
    "states_file = '2018-06-25_11-01-21_Post_trial2-states.mat'\n",
    "data2, sleep_scoring2 = load_mat_data(path_to_data, data_file, states_file)\n",
    "\n",
    "data_file = 'Cleaned_Trial3_PFC_100_CH30.continuous.mat'\n",
    "states_file = '2018-06-25_11-51-36_Post_trial3-states.mat'\n",
    "data3, sleep_scoring3 = load_mat_data(path_to_data, data_file, states_file)\n",
    "\n",
    "data_file = 'Cleaned_Trial4_PFC_100_CH30.continuous.mat'\n",
    "states_file = '2018-06-25_12-42-08_Post_trial4-states.mat'\n",
    "data4, sleep_scoring4 = load_mat_data(path_to_data, data_file, states_file)\n",
    "\n",
    "data_file = 'Cleaned_Trial5_PFC_100_CH30.continuous.mat'\n",
    "states_file = '2018-06-25_14-04-40_Post-trial5_2-states.mat'\n",
    "data5, sleep_scoring5 = load_mat_data(path_to_data, data_file, states_file)"
   ]
  },
  {
   "cell_type": "markdown",
   "id": "f9ac9ce2-1f08-4677-9ec6-94149313c7fb",
   "metadata": {
    "jp-MarkdownHeadingCollapsed": true
   },
   "source": [
    "#### HPC"
   ]
  },
  {
   "cell_type": "code",
   "execution_count": null,
   "id": "03de4f71-a24f-4b82-86e2-86696e847e97",
   "metadata": {},
   "outputs": [],
   "source": [
    "# Set path to LFP data and sleep state files\n",
    "rat = '9'\n",
    "region = 'HPC'\n",
    "path_to_data = './data/OS_basic_separated/9/2018_06_25_study_day15_OR_SD/'\n",
    "data_file = 'Cleaned_Trial1_HPC_100_CH49.continuous.mat'\n",
    "states_file = '2018-06-25_10-11-00_Post_trial1-states.mat'\n",
    "data1, sleep_scoring1 = load_mat_data(path_to_data, data_file, states_file, table_name='HPClfpCleaned')\n",
    "\n",
    "data_file = 'Cleaned_Trial2_HPC_100_CH49.continuous.mat'\n",
    "states_file = '2018-06-25_11-01-21_Post_trial2-states.mat'\n",
    "data2, sleep_scoring2 = load_mat_data(path_to_data, data_file, states_file, table_name='HPClfpCleaned')\n",
    "\n",
    "data_file = 'Cleaned_Trial3_HPC_100_CH49.continuous.mat'\n",
    "states_file = '2018-06-25_11-51-36_Post_trial3-states.mat'\n",
    "data3, sleep_scoring3 = load_mat_data(path_to_data, data_file, states_file, table_name='HPClfpCleaned')\n",
    "\n",
    "data_file = 'Cleaned_Trial4_HPC_100_CH49.continuous.mat'\n",
    "states_file = '2018-06-25_12-42-08_Post_trial4-states.mat'\n",
    "data4, sleep_scoring4 = load_mat_data(path_to_data, data_file, states_file, table_name='HPClfpCleaned')\n",
    "\n",
    "data_file = 'Cleaned_Trial5_HPC_100_CH49.continuous.mat'\n",
    "states_file = '2018-06-25_14-04-40_Post-trial5_2-states.mat'\n",
    "data5, sleep_scoring5 = load_mat_data(path_to_data, data_file, states_file, table_name='HPClfpCleaned')"
   ]
  },
  {
   "cell_type": "markdown",
   "id": "bc70de10-f816-485b-b34b-6dcfab97cc7b",
   "metadata": {
    "jp-MarkdownHeadingCollapsed": true
   },
   "source": [
    "### OR_SD_N"
   ]
  },
  {
   "cell_type": "code",
   "execution_count": null,
   "id": "c075d270-ec69-4653-8359-f9013097b71d",
   "metadata": {},
   "outputs": [],
   "source": [
    "condition = 'OR_SD_N'"
   ]
  },
  {
   "cell_type": "markdown",
   "id": "d8f27fec-6b07-4464-b25a-75ad43bb58ef",
   "metadata": {
    "jp-MarkdownHeadingCollapsed": true
   },
   "source": [
    "#### PFC"
   ]
  },
  {
   "cell_type": "code",
   "execution_count": null,
   "id": "ec209325-0c40-4d8e-b4f2-6f7dacdb54f7",
   "metadata": {},
   "outputs": [],
   "source": [
    "# Set path to LFP data and sleep state files\n",
    "rat = '9'\n",
    "region = 'PFC'\n",
    "path_to_data = './data/OS_basic_separated/9/2018_06_23_study_day14_OR_SD_N/'\n",
    "data_file = 'Cleaned_Trial1_PFC_100_CH30.continuous.mat'\n",
    "states_file = '2018-06-23_10-52-05_Post_trial1-states.mat'\n",
    "data1, sleep_scoring1 = load_mat_data(path_to_data, data_file, states_file)\n",
    "\n",
    "data_file = 'Cleaned_Trial2_PFC_100_CH30.continuous.mat'\n",
    "states_file = '2018-06-23_11-42-23_Post_trial2-states.mat'\n",
    "data2, sleep_scoring2 = load_mat_data(path_to_data, data_file, states_file)\n",
    "\n",
    "data_file = 'Cleaned_Trial3_PFC_100_CH30.continuous.mat'\n",
    "states_file = '2018-06-23_12-33-07_Post_trial3-states.mat'\n",
    "data3, sleep_scoring3 = load_mat_data(path_to_data, data_file, states_file)\n",
    "\n",
    "data_file = 'Cleaned_Trial4_PFC_100_CH30.continuous.mat'\n",
    "states_file = '2018-06-23_13-23-50_Post_trial4-states.mat'\n",
    "data4, sleep_scoring4 = load_mat_data(path_to_data, data_file, states_file)\n",
    "\n",
    "data_file = 'Cleaned_Trial5_PFC_100_CH30.continuous.mat'\n",
    "states_file = '2018-06-23_14-44-16_Post_trial5-states.mat'\n",
    "data5, sleep_scoring5 = load_mat_data(path_to_data, data_file, states_file)"
   ]
  },
  {
   "cell_type": "markdown",
   "id": "6285af5b-7455-442a-ae86-0cc2b65205f3",
   "metadata": {
    "jp-MarkdownHeadingCollapsed": true
   },
   "source": [
    "#### HPC"
   ]
  },
  {
   "cell_type": "code",
   "execution_count": null,
   "id": "92132619-3fdf-4c99-b298-9e63335b1746",
   "metadata": {},
   "outputs": [],
   "source": [
    "# Set path to LFP data and sleep state files\n",
    "rat = '9'\n",
    "region = 'HPC'\n",
    "path_to_data = './data/OS_basic_separated/9/2018_06_23_study_day14_OR_SD_N/'\n",
    "data_file = 'Cleaned_Trial1_HPC_100_CH49.continuous.mat'\n",
    "states_file = '2018-06-23_10-52-05_Post_trial1-states.mat'\n",
    "data1, sleep_scoring1 = load_mat_data(path_to_data, data_file, states_file, table_name='HPClfpCleaned')\n",
    "\n",
    "data_file = 'Cleaned_Trial2_HPC_100_CH49.continuous.mat'\n",
    "states_file = '2018-06-23_11-42-23_Post_trial2-states.mat'\n",
    "data2, sleep_scoring2 = load_mat_data(path_to_data, data_file, states_file, table_name='HPClfpCleaned')\n",
    "\n",
    "data_file = 'Cleaned_Trial3_HPC_100_CH49.continuous.mat'\n",
    "states_file = '2018-06-23_12-33-07_Post_trial3-states.mat'\n",
    "data3, sleep_scoring3 = load_mat_data(path_to_data, data_file, states_file, table_name='HPClfpCleaned')\n",
    "\n",
    "data_file = 'Cleaned_Trial4_HPC_100_CH49.continuous.mat'\n",
    "states_file = '2018-06-23_13-23-50_Post_trial4-states.mat'\n",
    "data4, sleep_scoring4 = load_mat_data(path_to_data, data_file, states_file, table_name='HPClfpCleaned')\n",
    "\n",
    "data_file = 'Cleaned_Trial5_HPC_100_CH49.continuous.mat'\n",
    "states_file = '2018-06-23_14-44-16_Post_trial5-states.mat'\n",
    "data5, sleep_scoring5 = load_mat_data(path_to_data, data_file, states_file, table_name='HPClfpCleaned')"
   ]
  },
  {
   "cell_type": "markdown",
   "id": "5f94102b-92e8-4f67-b97d-ee43d37ed89f",
   "metadata": {
    "jp-MarkdownHeadingCollapsed": true
   },
   "source": [
    "## Rat_11"
   ]
  },
  {
   "cell_type": "markdown",
   "id": "a0e8c9c6-9753-4d4d-bc09-b8bc61e31376",
   "metadata": {
    "jp-MarkdownHeadingCollapsed": true
   },
   "source": [
    "## Rat_13"
   ]
  },
  {
   "cell_type": "markdown",
   "id": "6a095859-63eb-4899-ba5f-ee472a0ade23",
   "metadata": {
    "jp-MarkdownHeadingCollapsed": true
   },
   "source": [
    "### CN"
   ]
  },
  {
   "cell_type": "code",
   "execution_count": null,
   "id": "a177ed4b-8bca-43c2-b02f-d1f4c4f1dc05",
   "metadata": {},
   "outputs": [],
   "source": [
    "path_to_data = './data/OS_basic_separated/13/CN/'\n",
    "data_file = 'Cleaned_Trial1_PFC_100_CH63_0.continuous.mat'\n",
    "states_file = '2019-05-13_11-24-48_post_trial1-states.mat'\n",
    "pfc_data1, sleep_scoring1 = load_mat_data(path_to_data, data_file, states_file)\n",
    "\n",
    "data_file = 'Cleaned_Trial2_PFC_100_CH63_0.continuous.mat'\n",
    "states_file = '2019-05-13_12-15-25_post_trial2-states.mat'\n",
    "pfc_data2, sleep_scoring2 = load_mat_data(path_to_data, data_file, states_file)\n",
    "\n",
    "data_file = 'Cleaned_Trial3_PFC_100_CH63_0.continuous.mat'\n",
    "states_file = '2019-05-13_13-05-57_post_trial3-states.mat'\n",
    "pfc_data3, sleep_scoring3 = load_mat_data(path_to_data, data_file, states_file)\n",
    "\n",
    "data_file = 'Cleaned_Trial4_PFC_100_CH63_0.continuous.mat'\n",
    "states_file = '2019-05-13_13-56-29_post_trial4-states.mat'\n",
    "pfc_data4, sleep_scoring4 = load_mat_data(path_to_data, data_file, states_file)\n",
    "\n",
    "data_file = 'Cleaned_Trial5_PFC_100_CH63_0.continuous.mat'\n",
    "states_file = '2019-05-13_14-53-54_post_trial5-states.mat'\n",
    "pfc_data5, sleep_scoring5 = load_mat_data(path_to_data, data_file, states_file)"
   ]
  },
  {
   "cell_type": "markdown",
   "id": "6c9b9dcf-723a-49b8-a67e-509337f1a4ab",
   "metadata": {
    "jp-MarkdownHeadingCollapsed": true
   },
   "source": [
    "### OR_N"
   ]
  },
  {
   "cell_type": "code",
   "execution_count": null,
   "id": "d4ef452a-f91d-4d71-a1f1-3e6202467a98",
   "metadata": {},
   "outputs": [],
   "source": [
    "condition = 'OR_N'"
   ]
  },
  {
   "cell_type": "markdown",
   "id": "a67490bb-4168-4256-9c61-5fbe506a151d",
   "metadata": {
    "jp-MarkdownHeadingCollapsed": true
   },
   "source": [
    "#### PFC"
   ]
  },
  {
   "cell_type": "code",
   "execution_count": null,
   "id": "b486a6b9-4f33-4500-bc64-e5ff3b7eb6ff",
   "metadata": {},
   "outputs": [],
   "source": [
    "# Set path to LFP data and sleep state files\n",
    "rat = '13'\n",
    "region = 'PFC'\n",
    "path_to_data = './data/OS_basic_separated/13/Rat_OS_Ephys_Rat13_344994_SD11_OR_N_06-07_06_2019/'\n",
    "data_file = 'Cleaned_Trial1_PFC_100_CH63_0.continuous.mat'\n",
    "states_file = '2019-06-06_11-44-01_post_trial1-states.mat'\n",
    "data1, sleep_scoring1 = load_mat_data(path_to_data, data_file, states_file)\n",
    "\n",
    "data_file = 'Cleaned_Trial2_PFC_100_CH63_0.continuous.mat'\n",
    "states_file = '2019-06-06_12-34-54_post_trial2-states.mat'\n",
    "data2, sleep_scoring2 = load_mat_data(path_to_data, data_file, states_file)\n",
    "\n",
    "data_file = 'Cleaned_Trial3_PFC_100_CH63_0.continuous.mat'\n",
    "states_file = '2019-06-06_13-26-20_post_trial3-states.mat'\n",
    "data3, sleep_scoring3 = load_mat_data(path_to_data, data_file, states_file)\n",
    "\n",
    "data_file = 'Cleaned_Trial4_PFC_100_CH63_0.continuous.mat'\n",
    "states_file = '2019-06-06_14-17-32_post_trial4-states.mat'\n",
    "data4, sleep_scoring4 = load_mat_data(path_to_data, data_file, states_file)\n",
    "\n",
    "data_file = 'Cleaned_Trial5_PFC_100_CH63_0.continuous.mat'\n",
    "states_file = '2019-06-06_15-39-11_post_trial5-states.mat'\n",
    "data5, sleep_scoring5 = load_mat_data(path_to_data, data_file, states_file)"
   ]
  },
  {
   "cell_type": "markdown",
   "id": "0f60292f-b84a-4b97-bc79-a10ab5a9fa0c",
   "metadata": {
    "jp-MarkdownHeadingCollapsed": true
   },
   "source": [
    "#### HPC"
   ]
  },
  {
   "cell_type": "code",
   "execution_count": null,
   "id": "dd92a3e9-8400-4e73-a38b-06f5aa1d8002",
   "metadata": {},
   "outputs": [],
   "source": [
    "# Set path to LFP data and sleep state files\n",
    "rat = '13'\n",
    "region = 'HPC'\n",
    "path_to_data = './data/OS_basic_separated/13/Rat_OS_Ephys_Rat13_344994_SD11_OR_N_06-07_06_2019/'\n",
    "data_file = 'Cleaned_Trial1_HPC_100_CH8_0.continuous.mat'\n",
    "states_file = '2019-06-06_11-44-01_post_trial1-states.mat'\n",
    "data1, sleep_scoring1 = load_mat_data(path_to_data, data_file, states_file, table_name='HPClfpCleaned')\n",
    "\n",
    "data_file = 'Cleaned_Trial2_HPC_100_CH8_0.continuous.mat'\n",
    "states_file = '2019-06-06_12-34-54_post_trial2-states.mat'\n",
    "data2, sleep_scoring2 = load_mat_data(path_to_data, data_file, states_file, table_name='HPClfpCleaned')\n",
    "\n",
    "data_file = 'Cleaned_Trial3_HPC_100_CH8_0.continuous.mat'\n",
    "states_file = '2019-06-06_13-26-20_post_trial3-states.mat'\n",
    "data3, sleep_scoring3 = load_mat_data(path_to_data, data_file, states_file, table_name='HPClfpCleaned')\n",
    "\n",
    "data_file = 'Cleaned_Trial4_HPC_100_CH8_0.continuous.mat'\n",
    "states_file = '2019-06-06_14-17-32_post_trial4-states.mat'\n",
    "data4, sleep_scoring4 = load_mat_data(path_to_data, data_file, states_file, table_name='HPClfpCleaned')\n",
    "\n",
    "data_file = 'Cleaned_Trial5_HPC_100_CH8_0.continuous.mat'\n",
    "states_file = '2019-06-06_15-39-11_post_trial5-states.mat'\n",
    "data5, sleep_scoring5 = load_mat_data(path_to_data, data_file, states_file, table_name='HPClfpCleaned')"
   ]
  },
  {
   "cell_type": "markdown",
   "id": "b236fd90-53d5-4850-aa60-abd22cb4c872",
   "metadata": {
    "jp-MarkdownHeadingCollapsed": true
   },
   "source": [
    "### OR_SD"
   ]
  },
  {
   "cell_type": "code",
   "execution_count": null,
   "id": "8a65e507-b890-436f-b8ea-1c0b65c24413",
   "metadata": {},
   "outputs": [],
   "source": [
    "condition = 'OR_SD'"
   ]
  },
  {
   "cell_type": "markdown",
   "id": "780ade49-b99b-4081-a232-0503a32232be",
   "metadata": {
    "jp-MarkdownHeadingCollapsed": true
   },
   "source": [
    "#### PFC"
   ]
  },
  {
   "cell_type": "code",
   "execution_count": null,
   "id": "a0ba225d-ded8-4a25-a41a-14194ece397c",
   "metadata": {},
   "outputs": [],
   "source": [
    "# Set path to LFP data and sleep state files\n",
    "rat = '13'\n",
    "region = 'PFC'\n",
    "path_to_data = './data/OS_basic_separated/13/Rat_OS_Ephys_Rat13_344994_SD12_OR_SD_10-11_06_2019/'\n",
    "data_file = 'Cleaned_Trial1_PFC_100_CH63_0.continuous.mat'\n",
    "states_file = '2019-06-10_14-01-35_post_trial1-states.mat'\n",
    "data1, sleep_scoring1 = load_mat_data(path_to_data, data_file, states_file)\n",
    "\n",
    "data_file = 'Cleaned_Trial2_PFC_100_CH63_0.continuous.mat'\n",
    "states_file = '2019-06-10_14-52-28_post_trial2-states.mat'\n",
    "data2, sleep_scoring2 = load_mat_data(path_to_data, data_file, states_file)\n",
    "\n",
    "data_file = 'Cleaned_Trial3_PFC_100_CH63_0.continuous.mat'\n",
    "states_file = '2019-06-10_15-43-16_post_trial3-states.mat'\n",
    "data3, sleep_scoring3 = load_mat_data(path_to_data, data_file, states_file)\n",
    "\n",
    "data_file = 'Cleaned_Trial4_PFC_100_CH63_0.continuous.mat'\n",
    "states_file = '2019-06-10_16-34-14_post_trial4-states.mat'\n",
    "data4, sleep_scoring4 = load_mat_data(path_to_data, data_file, states_file)\n",
    "\n",
    "data_file = 'Cleaned_Trial5_PFC_100_CH63_0.continuous.mat'\n",
    "states_file = '2019-06-10_17-24-55_post_trial5-states.mat'\n",
    "data5, sleep_scoring5 = load_mat_data(path_to_data, data_file, states_file)"
   ]
  },
  {
   "cell_type": "markdown",
   "id": "8d2a71ad-1a11-4334-8a41-1874d69e8b24",
   "metadata": {
    "jp-MarkdownHeadingCollapsed": true
   },
   "source": [
    "#### HPC"
   ]
  },
  {
   "cell_type": "code",
   "execution_count": null,
   "id": "5c7a6651-d3b7-4a8f-8542-4afb9eb9276a",
   "metadata": {},
   "outputs": [],
   "source": [
    "# Set path to LFP data and sleep state files\n",
    "rat = '13'\n",
    "region = 'HPC'\n",
    "path_to_data = './data/OS_basic_separated/13/Rat_OS_Ephys_Rat13_344994_SD12_OR_SD_10-11_06_2019/'\n",
    "data_file = 'Cleaned_Trial1_HPC_100_CH8_0.continuous.mat'\n",
    "states_file = '2019-06-10_14-01-35_post_trial1-states.mat'\n",
    "data1, sleep_scoring1 = load_mat_data(path_to_data, data_file, states_file, table_name='HPClfpCleaned')\n",
    "\n",
    "data_file = 'Cleaned_Trial2_HPC_100_CH8_0.continuous.mat'\n",
    "states_file = '2019-06-10_14-52-28_post_trial2-states.mat'\n",
    "data2, sleep_scoring2 = load_mat_data(path_to_data, data_file, states_file, table_name='HPClfpCleaned')\n",
    "\n",
    "data_file = 'Cleaned_Trial3_HPC_100_CH8_0.continuous.mat'\n",
    "states_file = '2019-06-10_15-43-16_post_trial3-states.mat'\n",
    "data3, sleep_scoring3 = load_mat_data(path_to_data, data_file, states_file, table_name='HPClfpCleaned')\n",
    "\n",
    "data_file = 'Cleaned_Trial4_HPC_100_CH8_0.continuous.mat'\n",
    "states_file = '2019-06-10_16-34-14_post_trial4-states.mat'\n",
    "data4, sleep_scoring4 = load_mat_data(path_to_data, data_file, states_file, table_name='HPClfpCleaned')\n",
    "\n",
    "data_file = 'Cleaned_Trial5_HPC_100_CH8_0.continuous.mat'\n",
    "states_file = '2019-06-10_17-24-55_post_trial5-states.mat'\n",
    "data5, sleep_scoring5 = load_mat_data(path_to_data, data_file, states_file, table_name='HPClfpCleaned')"
   ]
  },
  {
   "cell_type": "markdown",
   "id": "ea322695-7dcc-49bf-b16a-c8f3267e10ed",
   "metadata": {
    "jp-MarkdownHeadingCollapsed": true
   },
   "source": [
    "### OR_SD_N"
   ]
  },
  {
   "cell_type": "code",
   "execution_count": null,
   "id": "18095227-7d4d-4a7c-93a7-2b31c68b179a",
   "metadata": {},
   "outputs": [],
   "source": [
    "condition = 'OR_SD_N'"
   ]
  },
  {
   "cell_type": "markdown",
   "id": "5f4354bc-b0e4-4902-9667-2e84fafc6c13",
   "metadata": {
    "jp-MarkdownHeadingCollapsed": true
   },
   "source": [
    "#### PFC"
   ]
  },
  {
   "cell_type": "code",
   "execution_count": null,
   "id": "43e27dee-906e-45c0-9817-c110261c171c",
   "metadata": {},
   "outputs": [],
   "source": [
    "# Set path to LFP data and sleep state files\n",
    "rat = '13'\n",
    "region = 'PFC'\n",
    "path_to_data = './data/OS_basic_separated/13/Rat_OS_Ephys_Rat13_344994_SD13_OR_SD_N_13-14_06_2019/'\n",
    "data_file = 'Cleaned_Trial1_PFC_100_CH63_0.continuous.mat'\n",
    "states_file = '2019-06-13_10-44-46_post_trial1-states.mat'\n",
    "data1, sleep_scoring1 = load_mat_data(path_to_data, data_file, states_file)\n",
    "\n",
    "data_file = 'Cleaned_Trial2_PFC_100_CH63_0.continuous.mat'\n",
    "states_file = '2019-06-13_11-35-44_post_trial2-states.mat'\n",
    "data2, sleep_scoring2 = load_mat_data(path_to_data, data_file, states_file)\n",
    "\n",
    "data_file = 'Cleaned_Trial3_PFC_100_CH63_0.continuous.mat'\n",
    "states_file = '2019-06-13_12-26-56_post_trial3-states.mat'\n",
    "data3, sleep_scoring3 = load_mat_data(path_to_data, data_file, states_file)\n",
    "\n",
    "data_file = 'Cleaned_Trial4_PFC_100_CH63_0.continuous.mat'\n",
    "states_file = '2019-06-13_13-18-09_post_trial4-states.mat'\n",
    "data4, sleep_scoring4 = load_mat_data(path_to_data, data_file, states_file)\n",
    "\n",
    "data_file = 'Cleaned_Trial5_PFC_100_CH63_0.continuous.mat'\n",
    "states_file = '2019-06-13_14-40-49_post_trial5-states.mat'\n",
    "data5, sleep_scoring5 = load_mat_data(path_to_data, data_file, states_file)"
   ]
  },
  {
   "cell_type": "markdown",
   "id": "84349727-8822-4d81-a404-47aaba37e3e5",
   "metadata": {
    "jp-MarkdownHeadingCollapsed": true
   },
   "source": [
    "#### HPC"
   ]
  },
  {
   "cell_type": "code",
   "execution_count": null,
   "id": "9f867e65-e151-4cb1-a605-5bfc93145f95",
   "metadata": {},
   "outputs": [],
   "source": [
    "# Set path to LFP data and sleep state files\n",
    "rat = '13'\n",
    "region = 'HPC'\n",
    "path_to_data = './data/OS_basic_separated/13/Rat_OS_Ephys_Rat13_344994_SD13_OR_SD_N_13-14_06_2019/'\n",
    "data_file = 'Cleaned_Trial1_HPC_100_CH8_0.continuous.mat'\n",
    "states_file = '2019-06-13_10-44-46_post_trial1-states.mat'\n",
    "data1, sleep_scoring1 = load_mat_data(path_to_data, data_file, states_file, table_name='HPClfpCleaned')\n",
    "\n",
    "data_file = 'Cleaned_Trial2_HPC_100_CH8_0.continuous.mat'\n",
    "states_file = '2019-06-13_11-35-44_post_trial2-states.mat'\n",
    "data2, sleep_scoring2 = load_mat_data(path_to_data, data_file, states_file, table_name='HPClfpCleaned')\n",
    "\n",
    "data_file = 'Cleaned_Trial3_HPC_100_CH8_0.continuous.mat'\n",
    "states_file = '2019-06-13_12-26-56_post_trial3-states.mat'\n",
    "data3, sleep_scoring3 = load_mat_data(path_to_data, data_file, states_file, table_name='HPClfpCleaned')\n",
    "\n",
    "data_file = 'Cleaned_Trial4_HPC_100_CH8_0.continuous.mat'\n",
    "states_file = '2019-06-13_13-18-09_post_trial4-states.mat'\n",
    "data4, sleep_scoring4 = load_mat_data(path_to_data, data_file, states_file, table_name='HPClfpCleaned')\n",
    "\n",
    "data_file = 'Cleaned_Trial5_HPC_100_CH8_0.continuous.mat'\n",
    "states_file = '2019-06-13_14-40-49_post_trial5-states.mat'\n",
    "data5, sleep_scoring5 = load_mat_data(path_to_data, data_file, states_file, table_name='HPClfpCleaned')"
   ]
  },
  {
   "cell_type": "markdown",
   "id": "c89f786e-3572-4c4d-9f0d-dad4e2d585cb",
   "metadata": {
    "jp-MarkdownHeadingCollapsed": true
   },
   "source": [
    "## 2018-07-26_14-20-46_Post-Trial5 data"
   ]
  },
  {
   "cell_type": "code",
   "execution_count": null,
   "id": "3a284c70-c0f3-415e-858a-df0718c794ce",
   "metadata": {},
   "outputs": [],
   "source": [
    "path_to_data = \"./data/2018-07-26_14-20-46_Post-Trial5/\"\n",
    "data_file = 'Cleaned_PFC_100_CH52_0.continuous.mat'\n",
    "states_file = '2018-07-26_14-20-46_Post-Trial5-states.mat'\n",
    "pfc_data, sleep_scoring = load_mat_data(path_to_data, data_file, states_file)\n",
    "\n",
    "nrem_epochs = np.array(get_all_NREM_epochs(sleep_scoring))"
   ]
  },
  {
   "cell_type": "markdown",
   "id": "1a43ae41-65a6-447a-b6ad-c3bdd36f908b",
   "metadata": {},
   "source": [
    "# Get Cycles"
   ]
  },
  {
   "cell_type": "code",
   "execution_count": null,
   "id": "b7f40a64-4f41-45a2-ab51-4d3c9c491d18",
   "metadata": {},
   "outputs": [],
   "source": [
    "# Z-scoring\n",
    "data1 = (data1 - np.mean(data1)) / np.std(data1)\n",
    "data2 = (data2 - np.mean(data2)) / np.std(data2)\n",
    "data3 = (data3 - np.mean(data3)) / np.std(data3)\n",
    "data4 = (data4 - np.mean(data4)) / np.std(data4)\n",
    "data5 = (data5 - np.mean(data5)) / np.std(data5)"
   ]
  },
  {
   "cell_type": "code",
   "execution_count": null,
   "id": "2d497a1e-6930-4189-ae7b-e066982d2d7e",
   "metadata": {},
   "outputs": [],
   "source": [
    "fs = 2500 # Set sampling Frequency if different\n",
    "\n",
    "filtered_data1 = filter_signal(data1, fs, 'bandpass', (0.1, 4), n_cycles=3, filter_type='iir', butterworth_order=6, remove_edges=False)\n",
    "# filtered_data1 = filter_signal(data1, fs, 'bandpass', (0.1, 4), n_cycles=3, filter_type='fir', remove_edges=False)\n",
    "IP1, IF1, IA1 = emd.spectra.frequency_transform(filtered_data1, fs, 'hilbert')\n",
    "cycles1 = emd.cycles.Cycles(IP1)\n",
    "cycles1 = get_cycles_with_metrics(cycles1, filtered_data1, IA1, IF1)\n",
    "\n",
    "filtered_data2 = filter_signal(data2, fs, 'bandpass', (0.1, 4), n_cycles=3, filter_type='iir', butterworth_order=6, remove_edges=False)\n",
    "# filtered_data2 = filter_signal(data2, fs, 'bandpass', (0.1, 4), n_cycles=3, filter_type='fir', remove_edges=False)\n",
    "IP2, IF2, IA2 = emd.spectra.frequency_transform(filtered_data2, fs, 'hilbert')\n",
    "cycles2 = emd.cycles.Cycles(IP2)\n",
    "cycles2 = get_cycles_with_metrics(cycles2, filtered_data2, IA2, IF2)\n",
    "\n",
    "filtered_data3 = filter_signal(data3, fs, 'bandpass', (0.1, 4), n_cycles=3, filter_type='iir', butterworth_order=6, remove_edges=False)\n",
    "# filtered_data3 = filter_signal(data3, fs, 'bandpass', (0.1, 4), n_cycles=3, filter_type='fir', remove_edges=False)\n",
    "IP3, IF3, IA3 = emd.spectra.frequency_transform(filtered_data3, fs, 'hilbert')\n",
    "cycles3 = emd.cycles.Cycles(IP3)\n",
    "cycles3 = get_cycles_with_metrics(cycles3, filtered_data3, IA3, IF3)\n",
    "\n",
    "filtered_data4 = filter_signal(data4, fs, 'bandpass', (0.1, 4), n_cycles=3, filter_type='iir', butterworth_order=6, remove_edges=False)\n",
    "# filtered_data4 = filter_signal(data4, fs, 'bandpass', (0.1, 4), n_cycles=3, filter_type='fir', remove_edges=False)\n",
    "IP4, IF4, IA4 = emd.spectra.frequency_transform(filtered_data4, fs, 'hilbert')\n",
    "cycles4 = emd.cycles.Cycles(IP4)\n",
    "cycles4 = get_cycles_with_metrics(cycles4, filtered_data4, IA4, IF4)\n",
    "\n",
    "filtered_data5 = filter_signal(data5, fs, 'bandpass', (0.1, 4), n_cycles=3, filter_type='iir', butterworth_order=6, remove_edges=False)\n",
    "# filtered_data5 = filter_signal(data5, fs, 'bandpass', (0.1, 4), n_cycles=3, filter_type='fir', remove_edges=False)\n",
    "IP5, IF5, IA5 = emd.spectra.frequency_transform(filtered_data5, fs, 'hilbert')\n",
    "cycles5 = emd.cycles.Cycles(IP5)\n",
    "cycles5 = get_cycles_with_metrics(cycles5, filtered_data5, IA5, IF5)"
   ]
  },
  {
   "cell_type": "code",
   "execution_count": null,
   "id": "c91186de-a6ee-4292-b5d5-0557a6f2e009",
   "metadata": {},
   "outputs": [],
   "source": [
    "cycles1 = get_cycles_with_conditions(cycles1, ['is_good==1'])\n",
    "cycles2 = get_cycles_with_conditions(cycles2, ['is_good==1'])\n",
    "cycles3 = get_cycles_with_conditions(cycles3, ['is_good==1'])\n",
    "cycles4 = get_cycles_with_conditions(cycles4, ['is_good==1'])\n",
    "cycles5 = get_cycles_with_conditions(cycles5, ['is_good==1'])"
   ]
  },
  {
   "cell_type": "code",
   "execution_count": null,
   "id": "10d691ee-32ff-4fcc-a1d4-816daeb32974",
   "metadata": {},
   "outputs": [],
   "source": [
    "del IA1, IA2, IA3, IA4, IA5, data1, data2, data3, data4, data5"
   ]
  },
  {
   "cell_type": "code",
   "execution_count": null,
   "id": "1deaed38-9326-4f4e-8d2b-56f2d20cd69f",
   "metadata": {},
   "outputs": [],
   "source": [
    "# Put all metrics in one dataframe\n",
    "metrics1 = cycles1.get_metric_dataframe(subset=True)\n",
    "metrics1['State'] = ((metrics1['start_sample']+metrics1['stop_sample'])//2).apply(get_sleep_state, sleep_scoring=sleep_scoring1)\n",
    "metrics1['Post_Trial'] = 1\n",
    "\n",
    "metrics2 = cycles2.get_metric_dataframe(subset=True)\n",
    "metrics2['State'] = ((metrics2['start_sample']+metrics2['stop_sample'])//2).apply(get_sleep_state, sleep_scoring=sleep_scoring2)\n",
    "metrics2['Post_Trial'] = 2\n",
    "\n",
    "metrics3 = cycles3.get_metric_dataframe(subset=True)\n",
    "metrics3['State'] = ((metrics3['start_sample']+metrics3['stop_sample'])//2).apply(get_sleep_state, sleep_scoring=sleep_scoring3)\n",
    "metrics3['Post_Trial'] = 3\n",
    "\n",
    "metrics4 = cycles4.get_metric_dataframe(subset=True)\n",
    "metrics4['State'] = ((metrics4['start_sample']+metrics4['stop_sample'])//2).apply(get_sleep_state, sleep_scoring=sleep_scoring4)\n",
    "metrics4['Post_Trial'] = 4\n",
    "\n",
    "metrics5 = cycles5.get_metric_dataframe(subset=True)\n",
    "metrics5['State'] = ((metrics5['start_sample']+metrics5['stop_sample'])//2).apply(get_sleep_state, sleep_scoring=sleep_scoring5)\n",
    "metrics5['Post_Trial'] = 5\n",
    "\n",
    "all_metrics = pd.concat([metrics1, metrics2, metrics3, metrics4, metrics5])\n",
    "all_metrics['cycle_time'] = (all_metrics['start_sample']+all_metrics['stop_sample'])/(2*fs)"
   ]
  },
  {
   "cell_type": "markdown",
   "id": "ca769471-26b0-42d4-bfc1-21be9051dd1b",
   "metadata": {
    "jp-MarkdownHeadingCollapsed": true
   },
   "source": [
    "### Normalized IF waveforms"
   ]
  },
  {
   "cell_type": "code",
   "execution_count": null,
   "id": "8d4e4ad3-350f-4c49-88f8-4ceabcd33897",
   "metadata": {},
   "outputs": [],
   "source": [
    "# Get phase-aligned cycle waveforms\n",
    "waveforms1, _ = emd.cycles.phase_align(IP1, IF1, cycles=cycles1.iterate(through='subset'), npoints=127)\n",
    "norm_waveform1, _ = emd.cycles.normalised_waveform(waveforms1)\n",
    "waveforms2, _ = emd.cycles.phase_align(IP2, IF2, cycles=cycles2.iterate(through='subset'), npoints=127)\n",
    "norm_waveform2, _ = emd.cycles.normalised_waveform(waveforms2)\n",
    "waveforms3, _ = emd.cycles.phase_align(IP3, IF3, cycles=cycles3.iterate(through='subset'), npoints=127)\n",
    "norm_waveform3, _ = emd.cycles.normalised_waveform(waveforms3)\n",
    "waveforms4, _ = emd.cycles.phase_align(IP4, IF4, cycles=cycles4.iterate(through='subset'), npoints=127)\n",
    "norm_waveform4, _ = emd.cycles.normalised_waveform(waveforms4)\n",
    "waveforms5, _ = emd.cycles.phase_align(IP5, IF5, cycles=cycles5.iterate(through='subset'), npoints=127)\n",
    "norm_waveform5, _ = emd.cycles.normalised_waveform(waveforms5)"
   ]
  },
  {
   "cell_type": "code",
   "execution_count": null,
   "id": "479d1f6c-6387-4746-b1f7-be0f914d1856",
   "metadata": {},
   "outputs": [],
   "source": [
    "all_norm_waveforms = pd.concat([pd.DataFrame(norm_waveform1.T),\n",
    "                                pd.DataFrame(norm_waveform2.T),\n",
    "                                pd.DataFrame(norm_waveform3.T),\n",
    "                                pd.DataFrame(norm_waveform4.T),\n",
    "                                pd.DataFrame(norm_waveform5.T)])"
   ]
  },
  {
   "cell_type": "code",
   "execution_count": null,
   "id": "e5be3351-d9d4-4e10-9cb1-9de7bd3c4f9c",
   "metadata": {},
   "outputs": [],
   "source": [
    "all_norm_data = pd.concat([all_metrics, all_norm_waveforms], axis=1)"
   ]
  },
  {
   "cell_type": "code",
   "execution_count": null,
   "id": "4f41062d-a8ee-4e56-984e-0c0afd847612",
   "metadata": {},
   "outputs": [],
   "source": [
    "all_norm_data.to_hdf(f'./cycles_data/{region}_normalized_if_cycles_data.h5', key=f'Rat_{rat}_{condition}', mode='a', format='table')"
   ]
  },
  {
   "cell_type": "markdown",
   "id": "8f1686fb-19fd-4947-80ca-44ca468d7f24",
   "metadata": {
    "jp-MarkdownHeadingCollapsed": true
   },
   "source": [
    "### Normalized Cycles"
   ]
  },
  {
   "cell_type": "code",
   "execution_count": null,
   "id": "34bda606-3aaa-4c17-a316-95543ea5e04f",
   "metadata": {},
   "outputs": [],
   "source": [
    "# Get phase-aligned cycle waveforms\n",
    "wave1, _ = emd.cycles.phase_align(IP1, filtered_data1, cycles=cycles1.iterate(through='subset'), npoints=128)\n",
    "wave1 = pd.DataFrame(wave1.T)\n",
    "wave2, _ = emd.cycles.phase_align(IP2, filtered_data2, cycles=cycles2.iterate(through='subset'), npoints=128)\n",
    "wave2 = pd.DataFrame(wave2.T)\n",
    "wave3, _ = emd.cycles.phase_align(IP3, filtered_data3, cycles=cycles3.iterate(through='subset'), npoints=128)\n",
    "wave3 = pd.DataFrame(wave3.T)\n",
    "wave4, _ = emd.cycles.phase_align(IP4, filtered_data4, cycles=cycles4.iterate(through='subset'), npoints=128)\n",
    "wave4 = pd.DataFrame(wave4.T)\n",
    "wave5, _ = emd.cycles.phase_align(IP5, filtered_data5, cycles=cycles5.iterate(through='subset'), npoints=128)\n",
    "wave5 = pd.DataFrame(wave5.T)"
   ]
  },
  {
   "cell_type": "code",
   "execution_count": null,
   "id": "21f319b1-dae1-4e38-9380-b42d39850fb3",
   "metadata": {},
   "outputs": [],
   "source": [
    "all_waveforms = pd.concat([wave1, wave2, wave3, wave4, wave5])"
   ]
  },
  {
   "cell_type": "code",
   "execution_count": null,
   "id": "ea41fde8-24c9-464f-a78f-5f8777aab8f6",
   "metadata": {},
   "outputs": [],
   "source": [
    "all_data = pd.concat([all_metrics, all_waveforms], axis=1)"
   ]
  },
  {
   "cell_type": "code",
   "execution_count": null,
   "id": "23bd72b9-a489-4a60-9648-6bfb609a38b9",
   "metadata": {},
   "outputs": [],
   "source": [
    "all_data.to_hdf(f'./cycles_data/{region}_normalized_cycles_data.h5', key=f'Rat_{rat}_{condition}', mode='a', format='table')"
   ]
  },
  {
   "cell_type": "markdown",
   "id": "875d60d5-a6b3-49f1-82dd-fcf79b6c4450",
   "metadata": {
    "jp-MarkdownHeadingCollapsed": true
   },
   "source": [
    "### Resampled Cycles"
   ]
  },
  {
   "cell_type": "code",
   "execution_count": null,
   "id": "5fea46db-e408-4fd7-99d5-9cfeaffd5c5b",
   "metadata": {},
   "outputs": [],
   "source": [
    "from tqdm import tqdm\n",
    "\n",
    "def resampled_waveforms(data, cycles, metrics):\n",
    "    waveforms = np.zeros((128, metrics.shape[0]))*np.nan\n",
    "    for i, inds in tqdm(cycles.iterate(through='subset')):\n",
    "        values = data[inds]\n",
    "        time = np.arange(len(values))\n",
    "        time_normalized = time / (len(values) - 1)\n",
    "        t_new = np.linspace(0, 1, 128)\n",
    "        func = interp1d(time_normalized, values, kind='linear')\n",
    "        v_new = func(t_new)\n",
    "        waveforms[:, i] = v_new\n",
    "    return waveforms"
   ]
  },
  {
   "cell_type": "code",
   "execution_count": null,
   "id": "9ad42be1-b041-4b67-a8c5-9e89dd7505fe",
   "metadata": {},
   "outputs": [],
   "source": [
    "resampled_waveform1 = resampled_waveforms(filtered_data1, cycles1, metrics1)\n",
    "resampled_waveform2 = resampled_waveforms(filtered_data2, cycles2, metrics2)\n",
    "resampled_waveform3 = resampled_waveforms(filtered_data3, cycles3, metrics3)\n",
    "resampled_waveform4 = resampled_waveforms(filtered_data4, cycles4, metrics4)\n",
    "resampled_waveform5 = resampled_waveforms(filtered_data5, cycles5, metrics5)"
   ]
  },
  {
   "cell_type": "code",
   "execution_count": null,
   "id": "e97995c3-a4f5-4e44-a221-3dc1fd1248c5",
   "metadata": {},
   "outputs": [],
   "source": [
    "all_resampled_waveforms = pd.concat([pd.DataFrame(resampled_waveform1.T),\n",
    "                                pd.DataFrame(resampled_waveform2.T),\n",
    "                                pd.DataFrame(resampled_waveform3.T),\n",
    "                                pd.DataFrame(resampled_waveform4.T),\n",
    "                                pd.DataFrame(resampled_waveform5.T)])"
   ]
  },
  {
   "cell_type": "code",
   "execution_count": null,
   "id": "3ce9f66a-f737-498e-87cd-ed301d03f173",
   "metadata": {},
   "outputs": [],
   "source": [
    "all_resampled_data = pd.concat([all_metrics, all_resampled_waveforms], axis=1)"
   ]
  },
  {
   "cell_type": "code",
   "execution_count": null,
   "id": "8bb01d0c-b6d1-4f88-b430-bf8f980e7902",
   "metadata": {},
   "outputs": [],
   "source": [
    "all_resampled_data.to_hdf(f'./cycles_data/{region}_resampled_cycles_data.h5', key=f'Rat_{rat}_{condition}', mode='a', format='table')"
   ]
  },
  {
   "cell_type": "code",
   "execution_count": null,
   "id": "359736be-02d9-4eb6-b6c4-f684c3492359",
   "metadata": {},
   "outputs": [],
   "source": [
    "rat"
   ]
  },
  {
   "cell_type": "markdown",
   "id": "1b318434-cc6a-4039-abf8-e978f154cc9f",
   "metadata": {},
   "source": [
    "# Load and Check Data"
   ]
  },
  {
   "cell_type": "code",
   "execution_count": null,
   "id": "05b6d7f6-bcbb-4fb5-856d-b3a1553fad90",
   "metadata": {},
   "outputs": [],
   "source": [
    "rat = '9'\n",
    "region = 'HPC'\n",
    "condition = 'OR_N'"
   ]
  },
  {
   "cell_type": "code",
   "execution_count": null,
   "id": "c69c9e09-6095-46ab-a34e-2d6690130a03",
   "metadata": {},
   "outputs": [],
   "source": [
    "all_norm_data = pd.read_hdf(f'./cycles_data/{region}_normalized_if_cycles_data.h5', f'Rat_{rat}_{condition}')"
   ]
  },
  {
   "cell_type": "code",
   "execution_count": null,
   "id": "82b229dd-07bf-4657-995b-b68c4a1561c5",
   "metadata": {},
   "outputs": [],
   "source": [
    "all_norm_data.to_hdf(f'./cycles_data/{region}_normalized_if_cycles_data.h5', key=f'Rat_{rat}_{condition}', mode='a', format='table')"
   ]
  },
  {
   "cell_type": "code",
   "execution_count": null,
   "id": "fff30300-b5d2-40e1-ab0b-9f6fe8887ed4",
   "metadata": {},
   "outputs": [],
   "source": [
    "store = pd.HDFStore(f'./cycles_data/{region}_normalized_if_cycles_data.h5')"
   ]
  },
  {
   "cell_type": "code",
   "execution_count": null,
   "id": "52ae0ce1-33dc-411f-93b1-a84dac3af035",
   "metadata": {},
   "outputs": [],
   "source": [
    "store.keys()"
   ]
  },
  {
   "cell_type": "code",
   "execution_count": null,
   "id": "c5b09fc7-2de0-4856-860a-01b4df1715fb",
   "metadata": {},
   "outputs": [],
   "source": [
    "store.close()"
   ]
  },
  {
   "cell_type": "code",
   "execution_count": null,
   "id": "d639f167-6547-45ac-b921-ba2ea0d2085e",
   "metadata": {},
   "outputs": [],
   "source": []
  }
 ],
 "metadata": {
  "kernelspec": {
   "display_name": "Python 3 (ipykernel)",
   "language": "python",
   "name": "python3"
  },
  "language_info": {
   "codemirror_mode": {
    "name": "ipython",
    "version": 3
   },
   "file_extension": ".py",
   "mimetype": "text/x-python",
   "name": "python",
   "nbconvert_exporter": "python",
   "pygments_lexer": "ipython3",
   "version": "3.11.7"
  }
 },
 "nbformat": 4,
 "nbformat_minor": 5
}
