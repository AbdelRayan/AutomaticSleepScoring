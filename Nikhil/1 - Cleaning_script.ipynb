{
 "cells": [
  {
   "cell_type": "code",
   "execution_count": 1,
   "id": "9291d5bf",
   "metadata": {},
   "outputs": [],
   "source": [
    "# Load required libraries\n",
    "import os\n",
    "from scipy.io import savemat, loadmat\n",
    "\n",
    "# Import custom functions\n",
    "from scripts.Artefacts_Detection import *"
   ]
  },
  {
   "cell_type": "markdown",
   "id": "8222aa1d-595b-4dc1-86b3-01d11f7aa16a",
   "metadata": {},
   "source": [
    "Put in the appropriate path to data. You may need to change some things, so be sure to understand where the data is."
   ]
  },
  {
   "cell_type": "markdown",
   "id": "2b70654d-f732-40e5-a11e-255e249c1c36",
   "metadata": {},
   "source": [
    "removeArtefacts() function does the main job."
   ]
  },
  {
   "cell_type": "code",
   "execution_count": 3,
   "id": "2564556d-3967-4577-8cb9-7a2784a19abe",
   "metadata": {},
   "outputs": [],
   "source": [
    "# For Hippocampus\n",
    "path_to_data = './data/OS_basic_separated/1/study_day_5_OR_N/'\n",
    "for n in range(1,6):\n",
    "    folder = [f for f in os.listdir(path_to_data) if os.path.isdir(os.path.join(path_to_data, f)) and f'trial{n}' in f.lower()][0]\n",
    "    datafile = [s for s in os.listdir(path_to_data + folder) if \"HPC\" in s]\n",
    "    data = loadmat(path_to_data + folder + '/' + datafile[0])['HPC']\n",
    "    cleaned_data, _, _ = removeArtefacts(data, 2500, (4, 8), (1, 0.1))\n",
    "    cleaned_data = cleaned_data.reshape(-1,1)\n",
    "    savemat(path_to_data+f\"Cleaned_Trial{n}_\"+datafile[0], {\"HPClfpCleaned\": cleaned_data})"
   ]
  },
  {
   "cell_type": "code",
   "execution_count": 4,
   "id": "b3af3b1b-cb54-46f1-a92c-634ea588a0d4",
   "metadata": {},
   "outputs": [],
   "source": [
    "# For Prefrontal Cortex\n",
    "path_to_data = './data/OS_basic_separated/1/study_day_5_OR_N/'\n",
    "for n in range(1,6):\n",
    "    folder = [f for f in os.listdir(path_to_data) if os.path.isdir(os.path.join(path_to_data, f)) and f'trial{n}' in f.lower()][0]\n",
    "    datafile = [s for s in os.listdir(path_to_data + folder) if \"PFC\" in s]\n",
    "    data = loadmat(path_to_data + folder + '/' + datafile[0])['PFC']\n",
    "    cleaned_data, _, _ = removeArtefacts(data, 2500, (4, 8), (1, 0.1))\n",
    "    cleaned_data = cleaned_data.reshape(-1,1)\n",
    "    savemat(path_to_data+f\"Cleaned_Trial{n}_\"+datafile[0], {\"PFClfpCleaned\": cleaned_data})"
   ]
  },
  {
   "cell_type": "markdown",
   "id": "eb7f187a-1096-4dfc-b817-cafd2e9b2721",
   "metadata": {},
   "source": [
    "After this, the cleaned files should be in the path_to_data folder. Also, manually copy the states files from each of the subfolders to the path_to_data folder."
   ]
  },
  {
   "cell_type": "code",
   "execution_count": null,
   "id": "51b7f4aa-0b57-4f04-839c-0594f61dde2a",
   "metadata": {},
   "outputs": [],
   "source": []
  }
 ],
 "metadata": {
  "kernelspec": {
   "display_name": "Python 3 (ipykernel)",
   "language": "python",
   "name": "python3"
  },
  "language_info": {
   "codemirror_mode": {
    "name": "ipython",
    "version": 3
   },
   "file_extension": ".py",
   "mimetype": "text/x-python",
   "name": "python",
   "nbconvert_exporter": "python",
   "pygments_lexer": "ipython3",
   "version": "3.11.7"
  }
 },
 "nbformat": 4,
 "nbformat_minor": 5
}
