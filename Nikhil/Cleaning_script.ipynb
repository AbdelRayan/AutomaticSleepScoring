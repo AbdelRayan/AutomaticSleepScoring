{
 "cells": [
  {
   "cell_type": "code",
   "execution_count": 2,
   "id": "9291d5bf",
   "metadata": {},
   "outputs": [],
   "source": [
    "# Load required libraries\n",
    "import numpy as np\n",
    "from scipy.io import loadmat\n",
    "from scipy.signal import hilbert\n",
    "from scipy.interpolate import interp1d\n",
    "import matplotlib.pyplot as plt\n",
    "import seaborn as sns\n",
    "from neurodsp.filt import filter_signal, filter_signal_fir, design_fir_filter\n",
    "import emd\n",
    "import pandas as pd\n",
    "import os\n",
    "from scipy.io import savemat\n",
    "\n",
    "# Import custom functions\n",
    "from Artefacts_Detection import *"
   ]
  },
  {
   "cell_type": "markdown",
   "id": "01021daf",
   "metadata": {},
   "source": [
    "# OS_basic_separated"
   ]
  },
  {
   "cell_type": "code",
   "execution_count": 78,
   "id": "057ce5af",
   "metadata": {},
   "outputs": [],
   "source": [
    "path_to_data = './data/OS_basic_separated/'"
   ]
  },
  {
   "cell_type": "code",
   "execution_count": 79,
   "id": "d8d7b97d",
   "metadata": {},
   "outputs": [
    {
     "name": "stdout",
     "output_type": "stream",
     "text": [
      "./data/OS_basic_separated/1/study_day_5_OR_N\n",
      "./data/OS_basic_separated/13/Rat_OS_Ephys_Rat13_344994_SD11_OR_N_06-07_06_2019\n",
      "./data/OS_basic_separated/3/Rat_OS_Ephys_Rat3_SD5_OR_N_21-22_11_2017\n",
      "./data/OS_basic_separated/4/Rat_OS_Ephys_Rat4_SD4_OR_N_18-19_12_2017\n",
      "./data/OS_basic_separated/6/Study_day7_OR_N_1_2mar2018\n"
     ]
    }
   ],
   "source": [
    "# Print all the folder with OR_N\n",
    "for rodent_folder in os.listdir(path_to_data):\n",
    "    group_folders = os.listdir(path_to_data + rodent_folder)\n",
    "    for group in group_folders:\n",
    "        if 'OR_N' in group:\n",
    "            print(path_to_data+rodent_folder+'/'+group)"
   ]
  },
  {
   "cell_type": "markdown",
   "id": "7e917e67",
   "metadata": {},
   "source": [
    "# OS_basic_1_OR_N"
   ]
  },
  {
   "cell_type": "code",
   "execution_count": 87,
   "id": "c51b0f9a",
   "metadata": {},
   "outputs": [],
   "source": [
    "# OS_basic_1_OR_N data artifact cleaning\n",
    "\n",
    "path_to_data = './data/OS_basic_separated/1/study_day_5_OR_N/'\n",
    "datafile = 'Trial1_PFC_100_CH11.continuous.mat'\n",
    "data = loadmat(path_to_data + datafile)['PFC']\n",
    "cleaned_data, _, _ = removeArtefacts(data, 2500, (4, 8), (1, 0.1))\n",
    "cleaned_data = cleaned_data.reshape(-1,1)\n",
    "savemat(path_to_data+\"Cleaned_\"+datafile, {\"PFClfpCleaned\": cleaned_data})\n",
    "\n",
    "datafile = 'Trial2_PFC_100_CH11.continuous.mat'\n",
    "data = loadmat(path_to_data + datafile)['PFC']\n",
    "cleaned_data, _, _ = removeArtefacts(data, 2500, (4, 8), (1, 0.1))\n",
    "cleaned_data = cleaned_data.reshape(-1,1)\n",
    "savemat(path_to_data+\"Cleaned_\"+datafile, {\"PFClfpCleaned\": cleaned_data})\n",
    "\n",
    "datafile = 'Trial3_PFC_100_CH11.continuous.mat'\n",
    "data = loadmat(path_to_data + datafile)['PFC']\n",
    "cleaned_data, _, _ = removeArtefacts(data, 2500, (4, 8), (1, 0.1))\n",
    "cleaned_data = cleaned_data.reshape(-1,1)\n",
    "savemat(path_to_data+\"Cleaned_\"+datafile, {\"PFClfpCleaned\": cleaned_data})\n",
    "\n",
    "datafile = 'Trial4_PFC_100_CH11.continuous.mat'\n",
    "data = loadmat(path_to_data + datafile)['PFC']\n",
    "cleaned_data, _, _ = removeArtefacts(data, 2500, (4, 8), (1, 0.1))\n",
    "cleaned_data = cleaned_data.reshape(-1,1)\n",
    "savemat(path_to_data+\"Cleaned_\"+datafile, {\"PFClfpCleaned\": cleaned_data})\n",
    "\n",
    "datafile = 'Trial5_PFC_100_CH11_3.continuous.mat'\n",
    "data = loadmat(path_to_data + datafile)['PFC']\n",
    "cleaned_data, _, _ = removeArtefacts(data, 2500, (4, 8), (1, 0.1))\n",
    "cleaned_data = cleaned_data.reshape(-1,1)\n",
    "savemat(path_to_data+\"Cleaned_\"+datafile, {\"PFClfpCleaned\": cleaned_data})"
   ]
  },
  {
   "cell_type": "markdown",
   "id": "1c35eccb",
   "metadata": {},
   "source": [
    "# OS_basic_3_OR_N"
   ]
  },
  {
   "cell_type": "code",
   "execution_count": 82,
   "id": "6a73b9a0",
   "metadata": {},
   "outputs": [],
   "source": [
    "# OS_basic_3_OR_N data artifact cleaning\n",
    "\n",
    "path_to_data = './data/OS_basic_separated/3/Rat_OS_Ephys_Rat3_SD5_OR_N_21-22_11_2017/'\n",
    "datafile = 'Trial1_PFC_100_CH49.continuous.mat'\n",
    "data = loadmat(path_to_data + datafile)['PFC']\n",
    "cleaned_data, _, _ = removeArtefacts(data, 2500, (4, 8), (1, 0.1))\n",
    "cleaned_data = cleaned_data.reshape(-1,1)\n",
    "savemat(path_to_data+\"Cleaned_\"+datafile, {\"PFClfpCleaned\": cleaned_data})\n",
    "\n",
    "datafile = 'Trial2_PFC_100_CH49.continuous.mat'\n",
    "data = loadmat(path_to_data + datafile)['PFC']\n",
    "cleaned_data, _, _ = removeArtefacts(data, 2500, (4, 8), (1, 0.1))\n",
    "cleaned_data = cleaned_data.reshape(-1,1)\n",
    "savemat(path_to_data+\"Cleaned_\"+datafile, {\"PFClfpCleaned\": cleaned_data})\n",
    "\n",
    "datafile = 'Trial3_PFC_100_CH49.continuous.mat'\n",
    "data = loadmat(path_to_data + datafile)['PFC']\n",
    "cleaned_data, _, _ = removeArtefacts(data, 2500, (4, 8), (1, 0.1))\n",
    "cleaned_data = cleaned_data.reshape(-1,1)\n",
    "savemat(path_to_data+\"Cleaned_\"+datafile, {\"PFClfpCleaned\": cleaned_data})\n",
    "\n",
    "datafile = 'Trial4_PFC_100_CH49.continuous.mat'\n",
    "data = loadmat(path_to_data + datafile)['PFC']\n",
    "cleaned_data, _, _ = removeArtefacts(data, 2500, (4, 8), (1, 0.1))\n",
    "cleaned_data = cleaned_data.reshape(-1,1)\n",
    "savemat(path_to_data+\"Cleaned_\"+datafile, {\"PFClfpCleaned\": cleaned_data})\n",
    "\n",
    "datafile = 'Trial5_PFC_100_CH49.continuous.mat'\n",
    "data = loadmat(path_to_data + datafile)['PFC']\n",
    "cleaned_data, _, _ = removeArtefacts(data, 2500, (4, 8), (1, 0.1))\n",
    "cleaned_data = cleaned_data.reshape(-1,1)\n",
    "savemat(path_to_data+\"Cleaned_\"+datafile, {\"PFClfpCleaned\": cleaned_data})"
   ]
  },
  {
   "cell_type": "markdown",
   "id": "cb0d3112",
   "metadata": {},
   "source": [
    "# OS_basic_4_OR_N"
   ]
  },
  {
   "cell_type": "code",
   "execution_count": 84,
   "id": "eb1baf10",
   "metadata": {},
   "outputs": [],
   "source": [
    "# OS_basic_4_OR_N data artifact cleaning\n",
    "\n",
    "path_to_data = './data/OS_basic_separated/4/Rat_OS_Ephys_Rat4_SD4_OR_N_18-19_12_2017/'\n",
    "datafile = 'Trial1_PFC_100_CH34.continuous.mat'\n",
    "data = loadmat(path_to_data + datafile)['PFC']\n",
    "cleaned_data, _, _ = removeArtefacts(data, 2500, (4, 8), (1, 0.1))\n",
    "cleaned_data = cleaned_data.reshape(-1,1)\n",
    "savemat(path_to_data+\"Cleaned_\"+datafile, {\"PFClfpCleaned\": cleaned_data})\n",
    "\n",
    "datafile = 'Trial2_PFC_100_CH34.continuous.mat'\n",
    "data = loadmat(path_to_data + datafile)['PFC']\n",
    "cleaned_data, _, _ = removeArtefacts(data, 2500, (4, 8), (1, 0.1))\n",
    "cleaned_data = cleaned_data.reshape(-1,1)\n",
    "savemat(path_to_data+\"Cleaned_\"+datafile, {\"PFClfpCleaned\": cleaned_data})\n",
    "\n",
    "datafile = 'Trial3_PFC_100_CH34.continuous.mat'\n",
    "data = loadmat(path_to_data + datafile)['PFC']\n",
    "cleaned_data, _, _ = removeArtefacts(data, 2500, (4, 8), (1, 0.1))\n",
    "cleaned_data = cleaned_data.reshape(-1,1)\n",
    "savemat(path_to_data+\"Cleaned_\"+datafile, {\"PFClfpCleaned\": cleaned_data})\n",
    "\n",
    "datafile = 'Trial4_PFC_100_CH34.continuous.mat'\n",
    "data = loadmat(path_to_data + datafile)['PFC']\n",
    "cleaned_data, _, _ = removeArtefacts(data, 2500, (4, 8), (1, 0.1))\n",
    "cleaned_data = cleaned_data.reshape(-1,1)\n",
    "savemat(path_to_data+\"Cleaned_\"+datafile, {\"PFClfpCleaned\": cleaned_data})\n",
    "\n",
    "datafile = 'Trial5_PFC_100_CH34.continuous.mat'\n",
    "data = loadmat(path_to_data + datafile)['PFC']\n",
    "cleaned_data, _, _ = removeArtefacts(data, 2500, (4, 8), (1, 0.1))\n",
    "cleaned_data = cleaned_data.reshape(-1,1)\n",
    "savemat(path_to_data+\"Cleaned_\"+datafile, {\"PFClfpCleaned\": cleaned_data})"
   ]
  },
  {
   "cell_type": "markdown",
   "id": "28c8ec21",
   "metadata": {},
   "source": [
    "# OS_basic_6_OR_N"
   ]
  },
  {
   "cell_type": "code",
   "execution_count": 85,
   "id": "cea2b905",
   "metadata": {},
   "outputs": [],
   "source": [
    "# OS_basic_6_OR_N data artifact cleaning\n",
    "\n",
    "path_to_data = './data/OS_basic_separated/6/Study_day7_OR_N_1_2mar2018/'\n",
    "datafile = 'Trial1_PFC_100_CH33.continuous.mat'\n",
    "data = loadmat(path_to_data + datafile)['PFC']\n",
    "cleaned_data, _, _ = removeArtefacts(data, 2500, (4, 8), (1, 0.1))\n",
    "cleaned_data = cleaned_data.reshape(-1,1)\n",
    "savemat(path_to_data+\"Cleaned_\"+datafile, {\"PFClfpCleaned\": cleaned_data})\n",
    "\n",
    "datafile = 'Trial2_PFC_100_CH33.continuous.mat'\n",
    "data = loadmat(path_to_data + datafile)['PFC']\n",
    "cleaned_data, _, _ = removeArtefacts(data, 2500, (4, 8), (1, 0.1))\n",
    "cleaned_data = cleaned_data.reshape(-1,1)\n",
    "savemat(path_to_data+\"Cleaned_\"+datafile, {\"PFClfpCleaned\": cleaned_data})\n",
    "\n",
    "datafile = 'Trial3_PFC_100_CH33.continuous.mat'\n",
    "data = loadmat(path_to_data + datafile)['PFC']\n",
    "cleaned_data, _, _ = removeArtefacts(data, 2500, (4, 8), (1, 0.1))\n",
    "cleaned_data = cleaned_data.reshape(-1,1)\n",
    "savemat(path_to_data+\"Cleaned_\"+datafile, {\"PFClfpCleaned\": cleaned_data})\n",
    "\n",
    "datafile = 'Trial4_PFC_100_CH33.continuous.mat'\n",
    "data = loadmat(path_to_data + datafile)['PFC']\n",
    "cleaned_data, _, _ = removeArtefacts(data, 2500, (4, 8), (1, 0.1))\n",
    "cleaned_data = cleaned_data.reshape(-1,1)\n",
    "savemat(path_to_data+\"Cleaned_\"+datafile, {\"PFClfpCleaned\": cleaned_data})\n",
    "\n",
    "datafile = 'Trial5_PFC_100_CH33.continuous.mat'\n",
    "data = loadmat(path_to_data + datafile)['PFC']\n",
    "cleaned_data, _, _ = removeArtefacts(data, 2500, (4, 8), (1, 0.1))\n",
    "cleaned_data = cleaned_data.reshape(-1,1)\n",
    "savemat(path_to_data+\"Cleaned_\"+datafile, {\"PFClfpCleaned\": cleaned_data})"
   ]
  },
  {
   "cell_type": "markdown",
   "id": "4f81a5be",
   "metadata": {},
   "source": [
    "# OS_basic_13_OR_N"
   ]
  },
  {
   "cell_type": "code",
   "execution_count": 86,
   "id": "2469b789",
   "metadata": {},
   "outputs": [],
   "source": [
    "# OS_basic_13_OR_N data artifact cleaning\n",
    "\n",
    "path_to_data = './data/OS_basic_separated/13/Rat_OS_Ephys_Rat13_344994_SD11_OR_N_06-07_06_2019/'\n",
    "datafile = 'Trial1_PFC_100_CH63_0.continuous.mat'\n",
    "data = loadmat(path_to_data + datafile)['PFC']\n",
    "cleaned_data, _, _ = removeArtefacts(data, 2500, (4, 8), (1, 0.1))\n",
    "cleaned_data = cleaned_data.reshape(-1,1)\n",
    "savemat(path_to_data+\"Cleaned_\"+datafile, {\"PFClfpCleaned\": cleaned_data})\n",
    "\n",
    "datafile = 'Trial2_PFC_100_CH63_0.continuous.mat'\n",
    "data = loadmat(path_to_data + datafile)['PFC']\n",
    "cleaned_data, _, _ = removeArtefacts(data, 2500, (4, 8), (1, 0.1))\n",
    "cleaned_data = cleaned_data.reshape(-1,1)\n",
    "savemat(path_to_data+\"Cleaned_\"+datafile, {\"PFClfpCleaned\": cleaned_data})\n",
    "\n",
    "datafile = 'Trial3_PFC_100_CH63_0.continuous.mat'\n",
    "data = loadmat(path_to_data + datafile)['PFC']\n",
    "cleaned_data, _, _ = removeArtefacts(data, 2500, (4, 8), (1, 0.1))\n",
    "cleaned_data = cleaned_data.reshape(-1,1)\n",
    "savemat(path_to_data+\"Cleaned_\"+datafile, {\"PFClfpCleaned\": cleaned_data})\n",
    "\n",
    "datafile = 'Trial4_PFC_100_CH63_0.continuous.mat'\n",
    "data = loadmat(path_to_data + datafile)['PFC']\n",
    "cleaned_data, _, _ = removeArtefacts(data, 2500, (4, 8), (1, 0.1))\n",
    "cleaned_data = cleaned_data.reshape(-1,1)\n",
    "savemat(path_to_data+\"Cleaned_\"+datafile, {\"PFClfpCleaned\": cleaned_data})\n",
    "\n",
    "datafile = 'Trial5_PFC_100_CH63_0.continuous.mat'\n",
    "data = loadmat(path_to_data + datafile)['PFC']\n",
    "cleaned_data, _, _ = removeArtefacts(data, 2500, (4, 8), (1, 0.1))\n",
    "cleaned_data = cleaned_data.reshape(-1,1)\n",
    "savemat(path_to_data+\"Cleaned_\"+datafile, {\"PFClfpCleaned\": cleaned_data})"
   ]
  },
  {
   "cell_type": "markdown",
   "id": "0958246e",
   "metadata": {},
   "source": [
    "# 2018-07-26_14-20-46_Post-Trial5"
   ]
  },
  {
   "cell_type": "code",
   "execution_count": 38,
   "id": "67840334",
   "metadata": {},
   "outputs": [],
   "source": [
    "# 2018-07-26_14-20-46_Post-Trial5 data artifact cleaning\n",
    "\n",
    "path_to_data = './data/2018-07-26_14-20-46_Post-Trial5/'\n",
    "datafile = 'PFC_100_CH52_0.continuous.mat'\n",
    "data = loadmat(path_to_data + datafile)['PFC']\n",
    "cleaned_data, _, _ = removeArtefacts(data, 2500, (4, 8), (1, 0.1))\n",
    "cleaned_data = cleaned_data.reshape(-1,1)\n",
    "savemat(path_to_data+\"Cleaned_\"+datafile, {\"PFClfpCleaned\": cleaned_data})"
   ]
  },
  {
   "cell_type": "markdown",
   "id": "f8a72f68",
   "metadata": {},
   "source": [
    "# OS_basic_13_CN"
   ]
  },
  {
   "cell_type": "code",
   "execution_count": 31,
   "id": "69fbf2d6",
   "metadata": {},
   "outputs": [],
   "source": [
    "# OS_basic_13_CN data artifact cleaning\n",
    "\n",
    "path_to_data = './data/OS_basic_13_CN/'\n",
    "datafile = 'Trial1_PFC_100_CH63_0.continuous.mat'\n",
    "data = loadmat(path_to_data + datafile)['PFC']\n",
    "cleaned_data, _, _ = removeArtefacts(data, 2500, (4, 8), (1, 0.1))\n",
    "cleaned_data = cleaned_data.reshape(-1,1)\n",
    "savemat(path_to_data+\"Cleaned_\"+datafile, {\"PFClfpCleaned\": cleaned_data})\n",
    "\n",
    "datafile = 'Trial2_PFC_100_CH63_0.continuous.mat'\n",
    "data = loadmat(path_to_data + datafile)['PFC']\n",
    "cleaned_data, _, _ = removeArtefacts(data, 2500, (4, 8), (1, 0.1))\n",
    "cleaned_data = cleaned_data.reshape(-1,1)\n",
    "savemat(path_to_data+\"Cleaned_\"+datafile, {\"PFClfpCleaned\": cleaned_data})\n",
    "\n",
    "datafile = 'Trial3_PFC_100_CH63_0.continuous.mat'\n",
    "data = loadmat(path_to_data + datafile)['PFC']\n",
    "cleaned_data, _, _ = removeArtefacts(data, 2500, (4, 8), (1, 0.1))\n",
    "cleaned_data = cleaned_data.reshape(-1,1)\n",
    "savemat(path_to_data+\"Cleaned_\"+datafile, {\"PFClfpCleaned\": cleaned_data})\n",
    "\n",
    "datafile = 'Trial4_PFC_100_CH63_0.continuous.mat'\n",
    "data = loadmat(path_to_data + datafile)['PFC']\n",
    "cleaned_data, _, _ = removeArtefacts(data, 2500, (4, 8), (1, 0.1))\n",
    "cleaned_data = cleaned_data.reshape(-1,1)\n",
    "savemat(path_to_data+\"Cleaned_\"+datafile, {\"PFClfpCleaned\": cleaned_data})\n",
    "\n",
    "datafile = 'Trial5_PFC_100_CH63_0.continuous.mat'\n",
    "data = loadmat(path_to_data + datafile)['PFC']\n",
    "cleaned_data, _, _ = removeArtefacts(data, 2500, (4, 8), (1, 0.1))\n",
    "cleaned_data = cleaned_data.reshape(-1,1)\n",
    "savemat(path_to_data+\"Cleaned_\"+datafile, {\"PFClfpCleaned\": cleaned_data})"
   ]
  },
  {
   "cell_type": "markdown",
   "id": "69134b98",
   "metadata": {},
   "source": [
    "# CBD_6_SD1"
   ]
  },
  {
   "cell_type": "code",
   "execution_count": 33,
   "id": "c7d09e4d",
   "metadata": {},
   "outputs": [],
   "source": [
    "# CBD_6_SD1 data artifact cleaning\n",
    "\n",
    "path_to_data = './data/CBD_6_SD1/'\n",
    "datafile = 'Trial1_PFC_100_CH12_0.continuous.mat'\n",
    "data = loadmat(path_to_data + datafile)['PFC']\n",
    "cleaned_data, _, _ = removeArtefacts(data, 2500, (4, 8), (1, 0.1))\n",
    "cleaned_data = cleaned_data.reshape(-1,1)\n",
    "savemat(path_to_data+\"Cleaned_\"+datafile, {\"PFClfpCleaned\": cleaned_data})\n",
    "\n",
    "datafile = 'Trial2_PFC_100_CH12_0.continuous.mat'\n",
    "data = loadmat(path_to_data + datafile)['PFC']\n",
    "cleaned_data, _, _ = removeArtefacts(data, 2500, (4, 8), (1, 0.1))\n",
    "cleaned_data = cleaned_data.reshape(-1,1)\n",
    "savemat(path_to_data+\"Cleaned_\"+datafile, {\"PFClfpCleaned\": cleaned_data})\n",
    "\n",
    "datafile = 'Trial3_PFC_100_CH12_0.continuous.mat'\n",
    "data = loadmat(path_to_data + datafile)['PFC']\n",
    "cleaned_data, _, _ = removeArtefacts(data, 2500, (4, 8), (1, 0.1))\n",
    "cleaned_data = cleaned_data.reshape(-1,1)\n",
    "savemat(path_to_data+\"Cleaned_\"+datafile, {\"PFClfpCleaned\": cleaned_data})\n",
    "\n",
    "datafile = 'Trial4_PFC_100_CH12_0.continuous.mat'\n",
    "data = loadmat(path_to_data + datafile)['PFC']\n",
    "cleaned_data, _, _ = removeArtefacts(data, 2500, (4, 8), (1, 0.1))\n",
    "cleaned_data = cleaned_data.reshape(-1,1)\n",
    "savemat(path_to_data+\"Cleaned_\"+datafile, {\"PFClfpCleaned\": cleaned_data})\n",
    "\n",
    "datafile = 'Trial5_PFC_100_CH12_0.continuous.mat'\n",
    "data = loadmat(path_to_data + datafile)['PFC']\n",
    "cleaned_data, _, _ = removeArtefacts(data, 2500, (4, 8), (1, 0.1))\n",
    "cleaned_data = cleaned_data.reshape(-1,1)\n",
    "savemat(path_to_data+\"Cleaned_\"+datafile, {\"PFClfpCleaned\": cleaned_data})"
   ]
  },
  {
   "cell_type": "markdown",
   "id": "1d9675fd",
   "metadata": {},
   "source": [
    "# CBD_5_SD4"
   ]
  },
  {
   "cell_type": "code",
   "execution_count": 37,
   "id": "5e00b17b",
   "metadata": {},
   "outputs": [],
   "source": [
    "# CBD_5_SD4 data artifact cleaning\n",
    "\n",
    "path_to_data = './data/CBD_5_SD4/'\n",
    "datafile = 'Trial1_PFC_100_CH12_0.continuous.mat'\n",
    "data = loadmat(path_to_data + datafile)['PFC']\n",
    "cleaned_data, _, _ = removeArtefacts(data, 2500, (4, 8), (1, 0.1))\n",
    "cleaned_data = cleaned_data.reshape(-1,1)\n",
    "savemat(path_to_data+\"Cleaned_\"+datafile, {\"PFClfpCleaned\": cleaned_data})\n",
    "\n",
    "datafile = 'Trial2_PFC_100_CH12_0.continuous.mat'\n",
    "data = loadmat(path_to_data + datafile)['PFC']\n",
    "cleaned_data, _, _ = removeArtefacts(data, 2500, (4, 8), (1, 0.1))\n",
    "cleaned_data = cleaned_data.reshape(-1,1)\n",
    "savemat(path_to_data+\"Cleaned_\"+datafile, {\"PFClfpCleaned\": cleaned_data})\n",
    "\n",
    "datafile = 'Trial3_PFC_100_CH12_0.continuous.mat'\n",
    "data = loadmat(path_to_data + datafile)['PFC']\n",
    "cleaned_data, _, _ = removeArtefacts(data, 2500, (4, 8), (1, 0.1))\n",
    "cleaned_data = cleaned_data.reshape(-1,1)\n",
    "savemat(path_to_data+\"Cleaned_\"+datafile, {\"PFClfpCleaned\": cleaned_data})\n",
    "\n",
    "datafile = 'Trial4_PFC_100_CH12_0.continuous.mat'\n",
    "data = loadmat(path_to_data + datafile)['PFC']\n",
    "cleaned_data, _, _ = removeArtefacts(data, 2500, (4, 8), (1, 0.1))\n",
    "cleaned_data = cleaned_data.reshape(-1,1)\n",
    "savemat(path_to_data+\"Cleaned_\"+datafile, {\"PFClfpCleaned\": cleaned_data})\n",
    "\n",
    "datafile = 'Trial5_PFC_100_CH12_0.continuous.mat'\n",
    "data = loadmat(path_to_data + datafile)['PFC']\n",
    "cleaned_data, _, _ = removeArtefacts(data, 2500, (4, 8), (1, 0.1))\n",
    "cleaned_data = cleaned_data.reshape(-1,1)\n",
    "savemat(path_to_data+\"Cleaned_\"+datafile, {\"PFClfpCleaned\": cleaned_data})"
   ]
  },
  {
   "cell_type": "markdown",
   "id": "12349c0f",
   "metadata": {},
   "source": [
    "# RGS_13_SD4"
   ]
  },
  {
   "cell_type": "code",
   "execution_count": 35,
   "id": "8ad7f220",
   "metadata": {},
   "outputs": [],
   "source": [
    "# RGS_13_SD4 data artifact cleaning\n",
    "\n",
    "path_to_data = './data/RGS_13_SD4/'\n",
    "datafile = 'Trial1_PFC_100_CH63_0.continuous.mat'\n",
    "data = loadmat(path_to_data + datafile)['PFC']\n",
    "cleaned_data, _, _ = removeArtefacts(data, 1000, (4, 8), (1, 0.1))\n",
    "cleaned_data = cleaned_data.reshape(-1,1)\n",
    "savemat(path_to_data+\"Cleaned_\"+datafile, {\"PFClfpCleaned\": cleaned_data})\n",
    "\n",
    "datafile = 'Trial2_PFC_100_CH63_0.continuous.mat'\n",
    "data = loadmat(path_to_data + datafile)['PFC']\n",
    "cleaned_data, _, _ = removeArtefacts(data, 1000, (4, 8), (1, 0.1))\n",
    "cleaned_data = cleaned_data.reshape(-1,1)\n",
    "savemat(path_to_data+\"Cleaned_\"+datafile, {\"PFClfpCleaned\": cleaned_data})\n",
    "\n",
    "datafile = 'Trial3_PFC_100_CH63_0.continuous.mat'\n",
    "data = loadmat(path_to_data + datafile)['PFC']\n",
    "cleaned_data, _, _ = removeArtefacts(data, 1000, (4, 8), (1, 0.1))\n",
    "cleaned_data = cleaned_data.reshape(-1,1)\n",
    "savemat(path_to_data+\"Cleaned_\"+datafile, {\"PFClfpCleaned\": cleaned_data})\n",
    "\n",
    "datafile = 'Trial4_PFC_100_CH63_0.continuous.mat'\n",
    "data = loadmat(path_to_data + datafile)['PFC']\n",
    "cleaned_data, _, _ = removeArtefacts(data, 1000, (4, 8), (1, 0.1))\n",
    "cleaned_data = cleaned_data.reshape(-1,1)\n",
    "savemat(path_to_data+\"Cleaned_\"+datafile, {\"PFClfpCleaned\": cleaned_data})\n",
    "\n",
    "datafile = 'Trial5_PFC_100_CH63_0.continuous.mat'\n",
    "data = loadmat(path_to_data + datafile)['PFC']\n",
    "cleaned_data, _, _ = removeArtefacts(data, 1000, (4, 8), (1, 0.1))\n",
    "cleaned_data = cleaned_data.reshape(-1,1)\n",
    "savemat(path_to_data+\"Cleaned_\"+datafile, {\"PFClfpCleaned\": cleaned_data})"
   ]
  },
  {
   "cell_type": "code",
   "execution_count": null,
   "id": "2608b747",
   "metadata": {},
   "outputs": [],
   "source": []
  }
 ],
 "metadata": {
  "kernelspec": {
   "display_name": "Python 3 (ipykernel)",
   "language": "python",
   "name": "python3"
  },
  "language_info": {
   "codemirror_mode": {
    "name": "ipython",
    "version": 3
   },
   "file_extension": ".py",
   "mimetype": "text/x-python",
   "name": "python",
   "nbconvert_exporter": "python",
   "pygments_lexer": "ipython3",
   "version": "3.11.7"
  }
 },
 "nbformat": 4,
 "nbformat_minor": 5
}
