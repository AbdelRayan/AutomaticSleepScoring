{
 "cells": [
  {
   "cell_type": "code",
   "execution_count": 3,
   "metadata": {},
   "outputs": [],
   "source": [
    "import sys\n",
    "sys.path.append('/home/nero/AutomaticSleepScoring/Tuguldur') # change this to your local path"
   ]
  },
  {
   "cell_type": "markdown",
   "metadata": {},
   "source": [
    "### Setting up\n",
    "Once the configuration file is set up, the `DatasetLoader` can be used to load the datasets and iterate through the recordings. \n",
    "It functions similarly to PyTorch’s `DataFolder`:"
   ]
  },
  {
   "cell_type": "code",
   "execution_count": 8,
   "metadata": {},
   "outputs": [],
   "source": [
    "from pipeline.DatasetLoader import DatasetLoader\n",
    "\n",
    "CONFIG_DIR = \"/home/nero/AutomaticSleepScoring/Tuguldur/data/dataset_loading.yaml\" # change this to your local path"
   ]
  },
  {
   "cell_type": "markdown",
   "metadata": {},
   "source": [
    "### Two ways of using DatasetLoader:\n",
    "1. You can use the instance as it is."
   ]
  },
  {
   "cell_type": "code",
   "execution_count": 12,
   "metadata": {},
   "outputs": [
    {
     "name": "stdout",
     "output_type": "stream",
     "text": [
      "Rat5_SD8_HC_0_posttrial3\n",
      "/home/nero/datasets/CBD/Rat5/Rat_OS_Ephys_cbd_chronic_Rat5_411358_SD8_HC_20210721/2021-07-21_13-33-49_posttrial3/2021-07-21_13-33-49_posttrial3-states_ES.mat\n",
      "/home/nero/datasets/CBD/Rat5/Rat_OS_Ephys_cbd_chronic_Rat5_411358_SD8_HC_20210721/2021-07-21_13-33-49_posttrial3/HPC_100_CH14_0.continuous.mat\n"
     ]
    }
   ],
   "source": [
    "datasets = DatasetLoader(CONFIG_DIR)\n",
    "datasets.load_datasets()\n",
    "\n",
    "for name in datasets:\n",
    "    print(name)\n",
    "    states_fname, hpc_fname, pfc_fname = datasets[name]\n",
    "    print(states_fname)\n",
    "    print(hpc_fname)\n",
    "    break"
   ]
  },
  {
   "cell_type": "markdown",
   "metadata": {},
   "source": [
    "2. `load_datasets` method returns dictionary of datasets paths mapped to their appropriate names. You can iterate through the dictionary:"
   ]
  },
  {
   "cell_type": "code",
   "execution_count": 13,
   "metadata": {},
   "outputs": [
    {
     "name": "stdout",
     "output_type": "stream",
     "text": [
      "Rat5_SD8_HC_0_posttrial3\n",
      "/home/nero/datasets/CBD/Rat5/Rat_OS_Ephys_cbd_chronic_Rat5_411358_SD8_HC_20210721/2021-07-21_13-33-49_posttrial3/2021-07-21_13-33-49_posttrial3-states_ES.mat\n",
      "/home/nero/datasets/CBD/Rat5/Rat_OS_Ephys_cbd_chronic_Rat5_411358_SD8_HC_20210721/2021-07-21_13-33-49_posttrial3/HPC_100_CH14_0.continuous.mat\n"
     ]
    }
   ],
   "source": [
    "datasets = DatasetLoader(CONFIG_DIR)\n",
    "mapped_datasets = datasets.load_datasets()\n",
    "\n",
    "for name in mapped_datasets.keys():\n",
    "    print(name)\n",
    "    states_fname, hpc_fname, pfc_fname = mapped_datasets[name]\n",
    "    print(states_fname)\n",
    "    print(hpc_fname)\n",
    "    break"
   ]
  },
  {
   "cell_type": "markdown",
   "metadata": {},
   "source": [
    "You can use `get_metadata` to obtain the metadata (rat id, study day, behaviour etc.)"
   ]
  },
  {
   "cell_type": "code",
   "execution_count": 19,
   "metadata": {},
   "outputs": [
    {
     "name": "stdout",
     "output_type": "stream",
     "text": [
      "{'rat_id': 5, 'study_day': 8, 'condition': 'HC', 'treatment': 0, 'trial_num': '3'}\n"
     ]
    }
   ],
   "source": [
    "from pipeline.helper import get_metadata\n",
    "\n",
    "for name in mapped_datasets.keys():\n",
    "    metadata = get_metadata(name)\n",
    "    print(metadata)\n",
    "    break"
   ]
  },
  {
   "cell_type": "markdown",
   "metadata": {},
   "source": [
    "### Further expanding your workflow.\n",
    "`tqdm` can be used to print the progress bar when iterating."
   ]
  },
  {
   "cell_type": "code",
   "execution_count": 20,
   "metadata": {},
   "outputs": [
    {
     "data": {
      "application/vnd.jupyter.widget-view+json": {
       "model_id": "a2b44b1056e144d9954134e08527ac09",
       "version_major": 2,
       "version_minor": 0
      },
      "text/plain": [
       "  0%|          | 0/539 [00:00<?, ?it/s]"
      ]
     },
     "metadata": {},
     "output_type": "display_data"
    }
   ],
   "source": [
    "from tqdm.auto import tqdm\n",
    "\n",
    "with tqdm(mapped_datasets) as mapped_tqdm:\n",
    "    for name in mapped_tqdm:\n",
    "        mapped_tqdm.set_postfix_str(name)"
   ]
  },
  {
   "cell_type": "markdown",
   "metadata": {},
   "source": [
    "### Finally, we can get a template workflow:\n"
   ]
  },
  {
   "cell_type": "code",
   "execution_count": 22,
   "metadata": {},
   "outputs": [
    {
     "data": {
      "application/vnd.jupyter.widget-view+json": {
       "model_id": "86b866e43ddc4cb28ced9e332c7f3d9b",
       "version_major": 2,
       "version_minor": 0
      },
      "text/plain": [
       "  0%|          | 0/539 [00:00<?, ?it/s]"
      ]
     },
     "metadata": {},
     "output_type": "display_data"
    }
   ],
   "source": [
    "from pipeline.DatasetLoader import DatasetLoader\n",
    "from pipeline.helper import get_metadata\n",
    "\n",
    "from tqdm.auto import tqdm\n",
    "from scipy.io import loadmat\n",
    "\n",
    "CONFIG_DIR = \"/home/nero/AutomaticSleepScoring/Tuguldur/data/dataset_loading.yaml\" # change this to your local path\n",
    "\n",
    "datasets = DatasetLoader(CONFIG_DIR)\n",
    "mapped_datasets = datasets.load_datasets()\n",
    "\n",
    "with tqdm(mapped_datasets) as mapped_tqdm:\n",
    "    for name in mapped_tqdm:\n",
    "        metadata = get_metadata(name)\n",
    "        mapped_tqdm.set_postfix_str(name)\n",
    "        states_fname, hpc_fname, pfc_fname = mapped_datasets[name]\n",
    "\n",
    "        # Load the LFP data\n",
    "        lfpHPC = loadmat(hpc_fname)['HPC'].flatten()\n",
    "        lfpPFC = loadmat(pfc_fname)['PFC'].flatten()\n",
    "\n",
    "        # Load the states\n",
    "        hypno = loadmat(states_fname)['states'].flatten()\n",
    "\n",
    "        #\n",
    "        # Further analysis\n",
    "        #\n",
    "        "
   ]
  }
 ],
 "metadata": {
  "kernelspec": {
   "display_name": "Python 3",
   "language": "python",
   "name": "python3"
  },
  "language_info": {
   "codemirror_mode": {
    "name": "ipython",
    "version": 3
   },
   "file_extension": ".py",
   "mimetype": "text/x-python",
   "name": "python",
   "nbconvert_exporter": "python",
   "pygments_lexer": "ipython3",
   "version": "3.10.12"
  }
 },
 "nbformat": 4,
 "nbformat_minor": 2
}
