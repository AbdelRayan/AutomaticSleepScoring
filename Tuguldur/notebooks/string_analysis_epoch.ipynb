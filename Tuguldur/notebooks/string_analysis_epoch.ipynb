{
 "cells": [
  {
   "cell_type": "code",
   "execution_count": 1,
   "metadata": {},
   "outputs": [
    {
     "data": {
      "text/plain": [
       "699"
      ]
     },
     "execution_count": 1,
     "metadata": {},
     "output_type": "execute_result"
    }
   ],
   "source": [
    "from phasic_tonic.detect_phasic import detect_phasic, detect_phasic_v2\n",
    "from phasic_tonic.PhasicTonic import PhasicTonic\n",
    "from phasic_tonic.DatasetLoader import DatasetLoader\n",
    "from phasic_tonic.helper import get_metadata\n",
    "from phasic_tonic.runtime_logger import logger_setup\n",
    "from phasic_tonic.utils import get_sequences, get_segments, load_data, get_start_end, preprocess\n",
    "\n",
    "import math\n",
    "import numpy as np\n",
    "import pandas as pd\n",
    "import pynapple as nap\n",
    "\n",
    "from pathlib import Path\n",
    "from tqdm.auto import tqdm\n",
    "from scipy.io import loadmat\n",
    "\n",
    "fs = 500\n",
    "fs_cbd = 2500\n",
    "fs_os = 2500\n",
    "fs_rgs = 1000\n",
    "\n",
    "targetFs = 500\n",
    "n_down_cbd = fs_cbd/targetFs\n",
    "n_down_rgs = fs_rgs/targetFs\n",
    "n_down_os = fs_os/targetFs\n",
    "\n",
    "logger = logger_setup()\n",
    "\n",
    "CONFIG_DIR = \"/home/nero/phasic_tonic/data/dataset_loading.yaml\"\n",
    "DATASET_DIR = \"/home/nero/datasets/preprocessed\"\n",
    "OUTPUT_DIR1 = \"/home/nero/phasic_tonic/data/analysis_output/whole_posttrial5/\"\n",
    "OUTPUT_DIR2 = \"/home/nero/phasic_tonic/data/analysis_output/segmented_posttrial5/\"\n",
    "\n",
    "def half_round_up(n):\n",
    "    if n - math.floor(n) < 0.5:\n",
    "        return math.floor(n)\n",
    "    return math.ceil(n)\n",
    "\n",
    "compressed_datasets = list(Path(DATASET_DIR).glob('*.npz'))\n",
    "\n",
    "Datasets = DatasetLoader(CONFIG_DIR)\n",
    "mapped_datasets = Datasets.load_datasets()\n",
    "\n",
    "len(compressed_datasets)"
   ]
  },
  {
   "cell_type": "markdown",
   "metadata": {},
   "source": [
    "# Whole post-trial 5"
   ]
  },
  {
   "cell_type": "code",
   "execution_count": 2,
   "metadata": {},
   "outputs": [
    {
     "data": {
      "application/vnd.jupyter.widget-view+json": {
       "model_id": "bf76e749dd29407db978119eba32c658",
       "version_major": 2,
       "version_minor": 0
      },
      "text/plain": [
       "  0%|          | 0/539 [00:00<?, ?it/s]"
      ]
     },
     "metadata": {},
     "output_type": "display_data"
    }
   ],
   "source": [
    "container = []\n",
    "\n",
    "with tqdm(mapped_datasets) as mapped_tqdm:\n",
    "    for name in mapped_tqdm:\n",
    "        metadata = get_metadata(name)\n",
    "        mapped_tqdm.set_postfix_str(name)\n",
    "        states_fname, hpc_fname, _ = mapped_datasets[name]\n",
    "        logger.debug(\"Loading: {0}\".format(name))\n",
    "\n",
    "        if metadata[\"treatment\"] == 0 or metadata[\"treatment\"] == 1:\n",
    "            n_down = n_down_cbd\n",
    "        elif metadata[\"treatment\"] == 2 or metadata[\"treatment\"] == 3:\n",
    "            n_down = n_down_rgs\n",
    "        elif metadata[\"treatment\"] == 4:\n",
    "            n_down = n_down_os\n",
    "        \n",
    "        # Load the LFP data\n",
    "        lfpHPC = loadmat(hpc_fname)['HPC'].flatten()\n",
    "        # Load the sleep states\n",
    "        hypno = loadmat(states_fname)['states'].flatten()\n",
    "        \n",
    "        # Skip if no REM epoch is detected\n",
    "        if(not (np.any(hypno == 5))):\n",
    "            logger.debug(\"No REM detected. Skipping.\")\n",
    "            continue\n",
    "        elif(np.sum(np.diff(get_sequences(np.where(hypno == 5)[0]))) < 10):\n",
    "            logger.debug(\"No REM longer than 10s. Skipping.\")\n",
    "            continue\n",
    "        \n",
    "        # Detect phasic intervals\n",
    "        lfpHPC_down = preprocess(lfpHPC, n_down)\n",
    "        phREM = detect_phasic(lfpHPC_down, hypno, targetFs)\n",
    "        break\n",
    "        # Classify each time window as tonic or phasic event\n",
    "        for rem_idx in phREM:\n",
    "            # Container for storing results and metadata\n",
    "            data = metadata.copy()\n",
    "            \n",
    "            rem_start, rem_end = rem_idx[0], rem_idx[1]\n",
    "            data[\"rem_start\"] = rem_start\n",
    "            data[\"rem_end\"] = rem_end\n",
    "\n",
    "            phasic_idx = phREM[rem_idx]\n",
    "\n",
    "            # Fill the whole REM epoch as Tonic state\n",
    "            result = [\"T\" for _ in range(rem_end-rem_start)] \n",
    "\n",
    "            # print(f\"REM epoch {rem_idx}\")\n",
    "            if phasic_idx:\n",
    "                for ph in phasic_idx:\n",
    "                    # Round up the phasic timestamp if its fractional part is greater than 0.5\n",
    "                    ph_start, ph_end = half_round_up(ph[0]/500), half_round_up(ph[1]/500)\n",
    "\n",
    "                    # print(f\"({ph[0]/500}, {ph[1]/500}) -> ({ph_start}, {ph_end})\")\n",
    "                    ph_start -= rem_start\n",
    "                    ph_end -= rem_start\n",
    "                    \n",
    "                    # print(ph_start, ph_end)\n",
    "                    result[ph_start:ph_end] = \"P\"\n",
    "            \n",
    "            # print(\"\".join(result))\n",
    "            data[\"event_strings\"] = \"\".join(result)\n",
    "            container.append(data)\n",
    "df = pd.DataFrame(container)"
   ]
  },
  {
   "cell_type": "code",
   "execution_count": 3,
   "metadata": {},
   "outputs": [
    {
     "data": {
      "text/plain": [
       "{(1331, 1485): [(689992, 690885), (706502, 707232), (729634, 730948)],\n",
       " (2428, 2475): [(1214577, 1216154)]}"
      ]
     },
     "execution_count": 3,
     "metadata": {},
     "output_type": "execute_result"
    }
   ],
   "source": [
    "phREM"
   ]
  },
  {
   "cell_type": "code",
   "execution_count": null,
   "metadata": {},
   "outputs": [],
   "source": [
    "for rem_idx in phREM:\n",
    "    # Container for storing results and metadata\n",
    "    data = metadata.copy()\n",
    "    \n",
    "    rem_start, rem_end = rem_idx[0], rem_idx[1]\n",
    "    data[\"rem_start\"] = rem_start\n",
    "    data[\"rem_end\"] = rem_end\n",
    "\n",
    "    phasic_idx = phREM[rem_idx]\n"
   ]
  },
  {
   "cell_type": "code",
   "execution_count": null,
   "metadata": {},
   "outputs": [],
   "source": [
    "for rem_idx in phREM:\n",
    "    # Container for storing results and metadata\n",
    "    data = metadata.copy()\n",
    "    \n",
    "    rem_start, rem_end = rem_idx[0], rem_idx[1]\n",
    "    data[\"rem_start\"] = rem_start\n",
    "    data[\"rem_end\"] = rem_end\n",
    "\n",
    "    phasic_idx = phREM[rem_idx]\n",
    "\n",
    "    # Fill the whole REM epoch as Tonic state\n",
    "    result = [\"T\" for _ in range(rem_end-rem_start)] \n",
    "\n",
    "    # print(f\"REM epoch {rem_idx}\")\n",
    "    if phasic_idx:\n",
    "        for ph in phasic_idx:\n",
    "            # Round up the phasic timestamp if its fractional part is greater than 0.5\n",
    "            ph_start, ph_end = half_round_up(ph[0]/500), half_round_up(ph[1]/500)\n",
    "\n",
    "            # print(f\"({ph[0]/500}, {ph[1]/500}) -> ({ph_start}, {ph_end})\")\n",
    "            ph_start -= rem_start\n",
    "            ph_end -= rem_start\n",
    "            \n",
    "            # print(ph_start, ph_end)\n",
    "            result[ph_start:ph_end] = \"P\"\n",
    "    \n",
    "    # print(\"\".join(result))\n",
    "    data[\"event_strings\"] = \"\".join(result)\n",
    "    container.append(data)\n"
   ]
  }
 ],
 "metadata": {
  "kernelspec": {
   "display_name": "phasic_tonic",
   "language": "python",
   "name": "python3"
  },
  "language_info": {
   "codemirror_mode": {
    "name": "ipython",
    "version": 3
   },
   "file_extension": ".py",
   "mimetype": "text/x-python",
   "name": "python",
   "nbconvert_exporter": "python",
   "pygments_lexer": "ipython3",
   "version": "3.12.4"
  }
 },
 "nbformat": 4,
 "nbformat_minor": 2
}
