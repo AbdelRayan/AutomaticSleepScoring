{
 "cells": [
  {
   "cell_type": "code",
   "execution_count": 3,
   "metadata": {},
   "outputs": [],
   "source": [
    "from phasic_tonic.detect_phasic import detect_phasic\n",
    "from phasic_tonic.DatasetLoader import DatasetLoader\n",
    "from phasic_tonic.helper import get_metadata\n",
    "from phasic_tonic.runtime_logger import logger_setup    \n",
    "from phasic_tonic.utils import get_sequences, preprocess\n",
    "\n",
    "import numpy as np\n",
    "import pandas as pd\n",
    "import pynapple as nap\n",
    "\n",
    "from tqdm.auto import tqdm\n",
    "from scipy.io import loadmat\n",
    "\n",
    "fs_cbd = 2500\n",
    "fs_os = 2500\n",
    "fs_rgs = 1000\n",
    "\n",
    "targetFs = 500\n",
    "n_down_cbd = fs_cbd/targetFs\n",
    "n_down_rgs = fs_rgs/targetFs\n",
    "n_down_os = fs_os/targetFs\n",
    "\n",
    "logger = logger_setup()\n",
    "\n",
    "CONFIG_DIR = \"/home/nero/phasic_tonic/data/dataset_loading.yaml\"\n",
    "OUTPUT_DIR1 = \"/home/nero/phasic_tonic/data/analysis_output/whole_posttrial5/\"\n",
    "OUTPUT_DIR2 = \"/home/nero/phasic_tonic/data/analysis_output/segmented_posttrial5/\"\n",
    "\n",
    "Datasets = DatasetLoader(CONFIG_DIR)\n",
    "mapped_datasets = Datasets.load_datasets()"
   ]
  },
  {
   "cell_type": "code",
   "execution_count": 2,
   "metadata": {},
   "outputs": [],
   "source": [
    "cbd_cnt = 0\n",
    "rgs_cnt = 0\n",
    "os_cnt = 0\n",
    "\n",
    "# Count recordings belonging to CBD dataset\n",
    "for name in mapped_datasets:\n",
    "    metadata = get_metadata(name)\n",
    "    if metadata['treatment'] == 0 or metadata['treatment'] == 1:\n",
    "        cbd_cnt += 1\n",
    "    elif metadata['treatment'] == 2 or metadata['treatment'] == 3:\n",
    "        rgs_cnt += 1\n",
    "    elif metadata['treatment'] == 4:\n",
    "        os_cnt += 1\n",
    "\n",
    "assert cbd_cnt == 170\n",
    "assert rgs_cnt == 159\n",
    "assert os_cnt == 210"
   ]
  },
  {
   "cell_type": "code",
   "execution_count": 8,
   "metadata": {},
   "outputs": [
    {
     "data": {
      "application/vnd.jupyter.widget-view+json": {
       "model_id": "0ccd3ab0a8d64f2a8c1aeaae32d2401e",
       "version_major": 2,
       "version_minor": 0
      },
      "text/plain": [
       "  0%|          | 0/539 [00:00<?, ?it/s]"
      ]
     },
     "metadata": {},
     "output_type": "display_data"
    },
    {
     "name": "stderr",
     "output_type": "stream",
     "text": [
      "/tmp/ipykernel_37308/523632892.py:54: UserWarning: Some epochs have no duration\n",
      "  rem_interval = nap.IntervalSet(rem_start, rem_end)\n",
      "/tmp/ipykernel_37308/523632892.py:55: UserWarning: end is not sorted. Sorting it.\n",
      "  phasic_interval = nap.IntervalSet(start, end)\n",
      "/tmp/ipykernel_37308/523632892.py:55: UserWarning: Some ends precede the relative start. Dropping them!\n",
      "  phasic_interval = nap.IntervalSet(start, end)\n",
      "/tmp/ipykernel_37308/523632892.py:55: UserWarning: end is not sorted. Sorting it.\n",
      "  phasic_interval = nap.IntervalSet(start, end)\n",
      "/tmp/ipykernel_37308/523632892.py:55: UserWarning: Some ends precede the relative start. Dropping them!\n",
      "  phasic_interval = nap.IntervalSet(start, end)\n",
      "/tmp/ipykernel_37308/523632892.py:55: UserWarning: end is not sorted. Sorting it.\n",
      "  phasic_interval = nap.IntervalSet(start, end)\n",
      "/tmp/ipykernel_37308/523632892.py:55: UserWarning: Some ends precede the relative start. Dropping them!\n",
      "  phasic_interval = nap.IntervalSet(start, end)\n",
      "/tmp/ipykernel_37308/523632892.py:55: UserWarning: start is not sorted. Sorting it.\n",
      "  phasic_interval = nap.IntervalSet(start, end)\n",
      "/tmp/ipykernel_37308/523632892.py:54: UserWarning: Some epochs have no duration\n",
      "  rem_interval = nap.IntervalSet(rem_start, rem_end)\n"
     ]
    }
   ],
   "source": [
    "per_trial_stats = {\n",
    "    'rat_id': [],\n",
    "    'study_day': [],\n",
    "    'condition': [],\n",
    "    'treatment': [],\n",
    "    'trial_num': [],\n",
    "    'state' : [],\n",
    "    'num_bouts': [],\n",
    "    'total_duration' : []\n",
    "}\n",
    "\n",
    "with tqdm(mapped_datasets) as mapped_tqdm:\n",
    "    for name in mapped_tqdm:\n",
    "        metadata = get_metadata(name)\n",
    "        mapped_tqdm.set_postfix_str(name)\n",
    "        states_fname, hpc_fname, _ = mapped_datasets[name]\n",
    "        logger.debug(\"Loading: {0}\".format(name))\n",
    "\n",
    "        if metadata[\"treatment\"] == 0 or metadata[\"treatment\"] == 1:\n",
    "            n_down = n_down_cbd\n",
    "        elif metadata[\"treatment\"] == 2 or metadata[\"treatment\"] == 3:\n",
    "            n_down = n_down_rgs\n",
    "        elif metadata[\"treatment\"] == 4:\n",
    "            n_down = n_down_os\n",
    "        \n",
    "        # Load the LFP data\n",
    "        lfpHPC = loadmat(hpc_fname)['HPC'].flatten()\n",
    "\n",
    "        # Load the states\n",
    "        hypno = loadmat(states_fname)['states'].flatten()\n",
    "        \n",
    "        # Skip if no REM epoch is detected\n",
    "        if(not (np.any(hypno == 5))):\n",
    "            logger.debug(\"No REM detected. Skipping.\")\n",
    "            continue\n",
    "        elif(np.sum(np.diff(get_sequences(np.where(hypno == 5)[0]))) < 10):\n",
    "            logger.debug(\"No REM longer than 10s. Skipping.\")\n",
    "            continue\n",
    "        \n",
    "        # Preprocess\n",
    "        lfpHPC_down = preprocess(lfpHPC, n_down, targetFs)\n",
    "        phrem = detect_phasic(lfpHPC_down, hypno, targetFs)\n",
    "\n",
    "        start, end = [], []\n",
    "        rem_start, rem_end = [], []\n",
    "        for rem_idx in phrem:\n",
    "            rem_start.append(rem_idx[0])\n",
    "            rem_end.append(rem_idx[1])\n",
    "\n",
    "            for s, e in phrem[rem_idx]:\n",
    "                start.append(s / targetFs)\n",
    "                end.append(e / targetFs)\n",
    "        \n",
    "        rem_interval = nap.IntervalSet(rem_start, rem_end)\n",
    "        phasic_interval = nap.IntervalSet(start, end)\n",
    "        tonic_interval = rem_interval.set_diff(phasic_interval)\n",
    "     \n",
    "        # Save duration bouts\n",
    "        for state, interval in [(\"phasic\", phasic_interval), (\"tonic\", tonic_interval)]:\n",
    "            for condition in metadata.keys():\n",
    "                per_trial_stats[condition].append(metadata[condition])\n",
    "            per_trial_stats['state'].append(state)\n",
    "            per_trial_stats['total_duration'].append(interval.tot_length())\n",
    "            per_trial_stats['num_bouts'].append(len(interval))\n",
    "\n",
    "df_trial = pd.DataFrame(per_trial_stats)"
   ]
  },
  {
   "cell_type": "code",
   "execution_count": 3,
   "metadata": {},
   "outputs": [
    {
     "data": {
      "text/plain": [
       "<Axes: xlabel='trial_num', ylabel='total_duration'>"
      ]
     },
     "execution_count": 3,
     "metadata": {},
     "output_type": "execute_result"
    },
    {
     "data": {
      "image/png": "[encoded data removed]",
      "text/plain": [
       "<Figure size 640x480 with 1 Axes>"
      ]
     },
     "metadata": {},
     "output_type": "display_data"
    }
   ],
   "source": [
    "import pandas as pd\n",
    "import seaborn as sns\n",
    "\n",
    "df = pd.read_csv(\"/home/nero/phasic_tonic/data/analysis_output/whole_posttrial5/phasic_tonic_per_rem_trials.csv\")\n",
    "sns.barplot(data=df, x='trial_num', y='total_duration')"
   ]
  },
  {
   "cell_type": "code",
   "execution_count": 10,
   "metadata": {},
   "outputs": [],
   "source": [
    "df_trial.to_csv(OUTPUT_DIR1+\"phasic_tonic_per_rem_trials.csv\", index=False)"
   ]
  },
  {
   "cell_type": "code",
   "execution_count": null,
   "metadata": {},
   "outputs": [],
   "source": []
  }
 ],
 "metadata": {
  "kernelspec": {
   "display_name": "phasic_tonic",
   "language": "python",
   "name": "python3"
  },
  "language_info": {
   "codemirror_mode": {
    "name": "ipython",
    "version": 3
   },
   "file_extension": ".py",
   "mimetype": "text/x-python",
   "name": "python",
   "nbconvert_exporter": "python",
   "pygments_lexer": "ipython3",
   "version": "3.12.4"
  }
 },
 "nbformat": 4,
 "nbformat_minor": 2
}
