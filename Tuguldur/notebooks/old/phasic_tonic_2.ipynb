{
 "cells": [
  {
   "cell_type": "markdown",
   "id": "4703853b-58fe-4c36-8c8a-c259297360aa",
   "metadata": {},
   "source": [
    "# Setup"
   ]
  },
  {
   "cell_type": "code",
   "execution_count": 63,
   "id": "523901a3-02c2-47e4-b334-e3fe2ba5ab56",
   "metadata": {},
   "outputs": [],
   "source": [
    "import sys\n",
    "module_path = 'W:/home/nero/phasic_tonic/notebooks/buzsaki_method'\n",
    "if module_path not in sys.path:\n",
    "    sys.path.insert(0, module_path)\n",
    "    \n",
    "from src.DatasetLoader import DatasetLoader\n",
    "from src.runtime_logger import logger_setup\n",
    "from src.utils import *\n",
    "from src.helper import get_metadata\n",
    "\n",
    "import os\n",
    "import re\n",
    "import numpy as np\n",
    "import pandas as pd\n",
    "import matplotlib.pyplot as plt\n",
    "import yasa\n",
    "import seaborn as sns\n",
    "\n",
    "from pathlib import Path\n",
    "from scipy.io import loadmat\n",
    "from scipy.signal import spectrogram\n",
    "from mne.filter import resample\n",
    "from scipy.signal import hilbert\n",
    "from neurodsp.filt import filter_signal\n",
    "import pynapple as nap\n",
    "\n",
    "plt.style.use('seaborn-v0_8-white')\n",
    "custom_params = {\"axes.spines.right\": False, \"axes.spines.top\": False}\n",
    "sns.set_theme(style=\"ticks\", palette=\"colorblind\", font_scale=1.5, rc=custom_params)\n",
    "\n",
    "def preprocess(signal, n_down, target_fs=500):\n",
    "    \"\"\"\n",
    "    Downsample and remove artifacts.\n",
    "    \"\"\"\n",
    "    data = resample(signal, down=n_down, method='fft', npad='auto')\n",
    "    \n",
    "    # Remove artifacts\n",
    "    art_std, _ = yasa.art_detect(data, target_fs , window=1, method='std', threshold=4)\n",
    "    art_up = yasa.hypno_upsample_to_data(art_std, 1, data, target_fs)\n",
    "    data[art_up] = 0\n",
    "    \n",
    "    data -= data.mean()\n",
    "    return data\n",
    "\n",
    "def _detect_troughs(signal, thr):\n",
    "    lidx  = np.where(signal[0:-2] > signal[1:-1])[0]\n",
    "    ridx  = np.where(signal[1:-1] <= signal[2:])[0]\n",
    "    thidx = np.where(signal[1:-1] < thr)[0]\n",
    "    sidx = np.intersect1d(lidx, np.intersect1d(ridx, thidx))+1\n",
    "    return sidx\n",
    "\n",
    "def _despine_axes(ax):\n",
    "    ax.spines[\"top\"].set_visible(False)\n",
    "    ax.spines[\"right\"].set_visible(False)\n",
    "    ax.spines[\"bottom\"].set_visible(False)\n",
    "    ax.spines[\"left\"].set_visible(False)\n",
    "    ax.axes.get_xaxis().set_visible(False)\n",
    "    ax.axes.get_yaxis().set_visible(False)\n",
    "\n",
    "def get_start_end(sleep_states, sleep_state_id, target_fs=500):\n",
    "    seq = get_sequences(np.where(sleep_states == sleep_state_id)[0])\n",
    "    start = []\n",
    "    end = []\n",
    "    for s, e in seq:\n",
    "        start.append(s/target_fs)\n",
    "        end.append(e/target_fs)\n",
    "    return (start, end)"
   ]
  },
  {
   "cell_type": "code",
   "execution_count": 64,
   "id": "88b3ddca-b8dc-4ddf-b953-5624b51fdfe4",
   "metadata": {},
   "outputs": [],
   "source": [
    "plt.style.use('seaborn-v0_8-white')\n",
    "\n",
    "CBD_DIR = \"W:/home/nero/datasets/CBD\"\n",
    "RGS_DIR = \"W:/home/nero/datasets/RGS14\"\n",
    "OS_DIR = \"W:/home/nero/datasets/OSbasic/\"\n",
    "CONF = \"W:/home/nero/phasic_tonic/configs/dataset_loading.yaml\"\n",
    "\n",
    "fs_cbd = 2500\n",
    "fs_os = 2500\n",
    "fs_rgs = 1000\n",
    "\n",
    "target_fs = 500\n",
    "n_down_cbd = fs_cbd/target_fs\n",
    "n_down_rgs = fs_rgs/target_fs\n",
    "n_down_os = fs_os/target_fs\n",
    "\n",
    "datasets = {\n",
    "# 'dataset_name' : {'dir' : '/path/to/dataset', 'pattern_set': 'pattern_set_in_config'}\n",
    "    \"CBD\": {\"dir\": CBD_DIR, \"pattern_set\": \"CBD\"},\n",
    "    \"RGS\": {\"dir\": RGS_DIR, \"pattern_set\": \"RGS\"},\n",
    "    \"OS\": {\"dir\": OS_DIR, \"pattern_set\": \"OS\"}\n",
    "}\n",
    "\n",
    "def get_name(m):\n",
    "    return f\"Rat{m['rat_id']}_SD{m['study_day']}_{m['condition']}_{m['treatment']}_posttrial{m['trial_num']}\"\n",
    "\n",
    "Datasets = DatasetLoader(datasets, CONF)\n",
    "mapped_datasets = Datasets.load_datasets()\n",
    "n_down = n_down_rgs"
   ]
  },
  {
   "cell_type": "code",
   "execution_count": 65,
   "id": "8de13b5c-6657-4a5a-b304-97f97287f2a2",
   "metadata": {},
   "outputs": [
    {
     "name": "stderr",
     "output_type": "stream",
     "text": [
      "24-Jun-24 16:25:26 | WARNING | Hypnogram is SHORTER than data by 0.36 seconds. Padding hypnogram with last value to match data.size.\n",
      "24-Jun-24 16:25:27 | WARNING | Hypnogram is SHORTER than data by 0.36 seconds. Padding hypnogram with last value to match data.size.\n"
     ]
    }
   ],
   "source": [
    "test_id = \"Rat6_SD1_HC_2_posttrial5\"\n",
    "sleep_states, lfpHPC, lfpPFC = mapped_datasets[test_id]\n",
    "\n",
    "lfpHPC = loadmat(lfpHPC)['HPC']\n",
    "lfpPFC = loadmat(lfpPFC)['PFC']\n",
    "\n",
    "# Load the states\n",
    "hypnogram = loadmat(sleep_states)['states']\n",
    "hypnogram = hypnogram.flatten()\n",
    "sleep_states = np.repeat(hypnogram, target_fs)\n",
    "\n",
    "# Downsample to 500 Hz. Remove artifacts with yasa.\n",
    "lfpHPC = preprocess(lfpHPC.flatten(), n_down)\n",
    "lfpPFC = preprocess(lfpPFC.flatten(), n_down)\n",
    "\n",
    "lfpHPC = lfpHPC[:len(sleep_states)]\n",
    "lfpPFC = lfpPFC[:len(sleep_states)]"
   ]
  },
  {
   "cell_type": "markdown",
   "id": "1659e84a-c6ad-4d94-a544-b91aa0fbd30a",
   "metadata": {},
   "source": [
    "# Phasic detection"
   ]
  },
  {
   "cell_type": "code",
   "execution_count": 66,
   "id": "ede72fca-b91a-432d-9192-00e4fbc22f2f",
   "metadata": {},
   "outputs": [],
   "source": [
    "rem_seq = get_sequences(np.where(hypnogram == 5)[0])\n",
    "rem_idx = [(start * target_fs, (end+1) * target_fs) for start, end in rem_seq]\n",
    "\n",
    "rem_idx = ensure_duration(rem_idx, min_dur=3)\n",
    "if len(rem_idx) == 0:\n",
    "    raise ValueError(\"No REM epochs greater than min_dur.\")\n",
    "\n",
    "# get REM segments\n",
    "rem_epochs = get_segments(rem_idx, lfpHPC)\n",
    "\n",
    "# Combine the REM indices with the corresponding downsampled segments\n",
    "rem = {seq:seg for seq, seg in zip(rem_seq, rem_epochs)}\n",
    "\n",
    "w1 = 5.0\n",
    "w2 = 12.0\n",
    "nfilt = 11\n",
    "thr_dur = 900\n",
    "\n",
    "trdiff_list = []\n",
    "rem_eeg = np.array([])\n",
    "eeg_seq = {}\n",
    "sdiff_seq = {}\n",
    "tridx_seq = {}\n",
    "filt = np.ones((nfilt,))\n",
    "filt = filt / filt.sum()\n",
    "\n",
    "for idx in rem:\n",
    "    start, end = idx\n",
    "\n",
    "    epoch = rem[idx]\n",
    "    epoch = filter_signal(epoch, target_fs, 'bandpass', (w1,w2), remove_edges=False)\n",
    "    epoch = hilbert(epoch)\n",
    "\n",
    "    inst_phase = np.angle(epoch)\n",
    "    inst_amp = np.abs(epoch)\n",
    "\n",
    "    # trough indices\n",
    "    tridx = _detect_troughs(inst_phase, -3)\n",
    "\n",
    "    # differences between troughs\n",
    "    trdiff = np.diff(tridx)\n",
    "\n",
    "    # smoothed trough differences\n",
    "    sdiff_seq[idx] = np.convolve(trdiff, filt, 'same')\n",
    "\n",
    "    # dict of trough differences for each REM period\n",
    "    tridx_seq[idx] = tridx\n",
    "\n",
    "    eeg_seq[idx] = inst_amp\n",
    "\n",
    "    # differences between troughs\n",
    "    trdiff_list += list(trdiff)\n",
    "\n",
    "    # amplitude of the entire REM sleep\n",
    "    rem_eeg = np.concatenate((rem_eeg, inst_amp)) \n",
    "\n",
    "trdiff = np.array(trdiff_list)\n",
    "trdiff_sm = np.convolve(trdiff, filt, 'same')\n",
    "\n",
    "# potential candidates for phasic REM:\n",
    "# the smoothed difference between troughs is less than\n",
    "# the 10th percentile:\n",
    "thr1 = np.percentile(trdiff_sm, 10)\n",
    "# the minimum smoothed difference in the candidate phREM is less than\n",
    "# the 5th percentile\n",
    "thr2 = np.percentile(trdiff_sm, 5)\n",
    "# the peak amplitude is larger than the mean of the amplitude\n",
    "# of the REM EEG.\n",
    "thr3 = rem_eeg.mean()\n",
    "\n",
    "phasicREM = {rem_idx:[] for rem_idx in rem.keys()}\n",
    "\n",
    "for rem_idx in tridx_seq:\n",
    "    rem_start, rem_end = rem_idx\n",
    "    offset = rem_start * target_fs\n",
    "\n",
    "    # trough indices\n",
    "    tridx = tridx_seq[rem_idx]\n",
    "\n",
    "    # smoothed trough interval\n",
    "    sdiff = sdiff_seq[rem_idx]\n",
    "\n",
    "    # amplitude of the REM epoch\n",
    "    eegh = eeg_seq[rem_idx]\n",
    "\n",
    "    # get the candidates for phREM\n",
    "    cand_idx = np.where(sdiff <= thr1)[0]\n",
    "    cand = get_sequences(cand_idx)\n",
    "\n",
    "    for start, end in cand:\n",
    "        # Duration of the candidate in milliseconds\n",
    "        dur = ( (tridx[end]-tridx[start]+1)/target_fs ) * 1000\n",
    "        if dur < thr_dur:\n",
    "            continue # Failed Threshold 1\n",
    "        \n",
    "        min_sdiff = np.min(sdiff[start:end])\n",
    "        if min_sdiff > thr2:\n",
    "            continue # Failed Threshold 2\n",
    "        \n",
    "        mean_amp =  np.mean(eegh[tridx[start]:tridx[end]+1])\n",
    "        if mean_amp < thr3:\n",
    "            continue # Failed Threshold 3\n",
    "        \n",
    "        t_a = tridx[start] + offset\n",
    "        t_b = np.min((tridx[end] + offset, rem_end * target_fs))\n",
    "        \n",
    "        ph_idx = (t_a, t_b+1)\n",
    "        phasicREM[rem_idx].append(ph_idx)\n",
    "\n",
    "phasic = []\n",
    "for rem_idx in phasicREM:\n",
    "    phasic += phasicREM[rem_idx]"
   ]
  },
  {
   "cell_type": "markdown",
   "id": "5b04b996-324a-4d89-b8bd-bae5cd51713f",
   "metadata": {},
   "source": [
    "# Pynapple"
   ]
  },
  {
   "cell_type": "markdown",
   "id": "f8c1d941-3ffc-439f-bf9a-360f8cc9b128",
   "metadata": {},
   "source": [
    "Make interval sets for sleep states"
   ]
  },
  {
   "cell_type": "code",
   "execution_count": 67,
   "id": "5be7d620-bd6a-4b28-a4ee-e5c120cef95b",
   "metadata": {},
   "outputs": [
    {
     "data": {
      "text/plain": [
       "            start        end\n",
       "       0      664    742.998\n",
       "       1      993   1034\n",
       "       2     1078   1298\n",
       "       3     1593   1629\n",
       "       4     2154   2268\n",
       "       5     3451   3516\n",
       "       6     3576   3614\n",
       "       7     4856   4870\n",
       "       8     5001   5021\n",
       "       9     5304   5439\n",
       "      10     5720   5767\n",
       "      11     6000   6141\n",
       "      12     7496   7588\n",
       "      13     7858   7949\n",
       "      14    10134  10162\n",
       "shape: (15, 2), time unit: sec."
      ]
     },
     "execution_count": 67,
     "metadata": {},
     "output_type": "execute_result"
    }
   ],
   "source": [
    "state_epochs = {}\n",
    "\n",
    "start, end = get_start_end(sleep_states=sleep_states, sleep_state_id=1)\n",
    "wake_interval = nap.IntervalSet(start=start, end=end)\n",
    "state_epochs['wake'] = wake_interval\n",
    "\n",
    "start, end = get_start_end(sleep_states=sleep_states, sleep_state_id=3)\n",
    "nrem_interval = nap.IntervalSet(start=start, end=end)\n",
    "state_epochs['nrem'] = nrem_interval\n",
    "\n",
    "start, end = get_start_end(sleep_states=sleep_states, sleep_state_id=5)\n",
    "rem_interval = nap.IntervalSet(start=start, end=end)\n",
    "state_epochs['rem'] = rem_interval\n",
    "\n",
    "rem_interval"
   ]
  },
  {
   "cell_type": "code",
   "execution_count": 100,
   "id": "6274207b-c0fa-40f3-a922-af732bfcf982",
   "metadata": {},
   "outputs": [
    {
     "data": {
      "text/plain": [
       "           start     end\n",
       "0            0      1.998\n",
       "1           60     67.998\n",
       "2           743    769.998\n",
       "3           867    877.998\n",
       "4          1034     1053\n",
       "5          1298     1313\n",
       "6          1629     1664\n",
       "7          1810     1844\n",
       "8          2050     2069\n",
       "9          2268     3000\n",
       "          ...\n",
       "29         7588    7660\n",
       "30         7949    8014\n",
       "31         8036    9352\n",
       "32         9393    9416\n",
       "33         9459    9541\n",
       "34         9750    9809\n",
       "35         9838    9975\n",
       "36         10010   10024\n",
       "37         10069   10081\n",
       "38         10162   10471\n",
       "shape: (39, 2), time unit: sec."
      ]
     },
     "execution_count": 100,
     "metadata": {},
     "output_type": "execute_result"
    }
   ],
   "source": [
    "state_epochs['wake']"
   ]
  },
  {
   "cell_type": "code",
   "execution_count": 68,
   "id": "37611ba3-9f9f-4242-a024-2fb08f7a7c23",
   "metadata": {},
   "outputs": [],
   "source": [
    "start = []\n",
    "end = []\n",
    "for s, e in phasic:\n",
    "    start.append(s/target_fs)\n",
    "    end.append(e/target_fs)\n",
    "phrem_interval = nap.IntervalSet(start=start, end=end)\n",
    "state_epochs['phrem'] = phrem_interval"
   ]
  },
  {
   "cell_type": "code",
   "execution_count": 69,
   "id": "83bda6d5-c5ff-41bb-80ab-54e97cb7ea91",
   "metadata": {},
   "outputs": [
    {
     "data": {
      "text/plain": [
       "           start     end\n",
       "0         680.652  681.958\n",
       "1         704.254  705.896\n",
       "2         1100.82  1102.38\n",
       "3         1120.01  1121.95\n",
       "4         1169.08  1171.48\n",
       "5         1192.43  1193.63\n",
       "6         2190.71  2191.64\n",
       "7         2250.05  2253.2\n",
       "8         3451.06  3453.05\n",
       "9         3453.99  3459.12\n",
       "          ...\n",
       "11        3508.24  3509.74\n",
       "12        5367.44  5368.53\n",
       "13        5403.55  5405.73\n",
       "14        5408.43  5409.62\n",
       "15        6039.91  6041.26\n",
       "16        6041.59  6050.16\n",
       "17        7539.55  7541.08\n",
       "18        7562.05  7565.9\n",
       "19        7567.56  7568.57\n",
       "20        7928.62  7929.85\n",
       "shape: (21, 2), time unit: sec."
      ]
     },
     "execution_count": 69,
     "metadata": {},
     "output_type": "execute_result"
    }
   ],
   "source": [
    "state_epochs['phrem']"
   ]
  },
  {
   "cell_type": "markdown",
   "id": "a92616fd-2e5c-462e-8283-1db409c688a9",
   "metadata": {},
   "source": [
    "Create TsdFrame for LFP recording of HPC and PFC"
   ]
  },
  {
   "cell_type": "code",
   "execution_count": 70,
   "id": "f04f2a05-fa28-4b0a-b762-5ac909f7c4dd",
   "metadata": {},
   "outputs": [
    {
     "data": {
      "text/plain": [
       "Time (s)          HPC        PFC\n",
       "----------  ---------  ---------\n",
       "0.0          -80.2983  -198.232\n",
       "0.002       -111.567   -236.122\n",
       "0.004        -34.6435  -221.808\n",
       "0.006        -88.0469  -152.304\n",
       "0.008       -100.149   -217.981\n",
       "0.01        -104.189   -187.283\n",
       "0.012        -73.0968  -184.699\n",
       "0.014        -51.0978  -198.999\n",
       "0.016       -103.641   -196.816\n",
       "0.018        -73.2302  -188.361\n",
       "...\n",
       "10470.98      -9.1383   -77.9168\n",
       "10470.982    -85.6112  -172.53\n",
       "10470.984    -36.8904  -129.081\n",
       "10470.986    -53.6948  -306.563\n",
       "10470.988    -89.8059  -306.069\n",
       "10470.99     305.219    178.84\n",
       "10470.992    136.096    -81.247\n",
       "10470.994    121.219    -27.2737\n",
       "10470.996     23.0028   -93.1656\n",
       "10470.998     34.8787  -101.007\n",
       "dtype: float64, shape: (5235500, 2)"
      ]
     },
     "execution_count": 70,
     "metadata": {},
     "output_type": "execute_result"
    }
   ],
   "source": [
    "lfps = np.column_stack([lfpHPC, lfpPFC])\n",
    "t = np.arange(0, len(lfpHPC)/target_fs, 1/target_fs)\n",
    "tsd = nap.TsdFrame(t=t, d=lfps, columns=['HPC', 'PFC'])\n",
    "tsd"
   ]
  },
  {
   "cell_type": "code",
   "execution_count": 71,
   "id": "bbe37760-eac4-4f5d-a8cf-4d05dfaa7a6c",
   "metadata": {},
   "outputs": [],
   "source": [
    "tsd_list = []\n",
    "for interval in rem_interval:\n",
    "    tsd_list.append(tsd.restrict(interval))"
   ]
  },
  {
   "cell_type": "code",
   "execution_count": 72,
   "id": "b625c799-11d0-4fbd-b270-6d06074d6c52",
   "metadata": {},
   "outputs": [
    {
     "data": {
      "text/plain": [
       "Time (s)           HPC         PFC\n",
       "----------  ----------  ----------\n",
       "664.0          7.38881    63.6957\n",
       "664.002      -32.2174     84.5307\n",
       "664.004     -103.122     118.447\n",
       "664.006      -94.3268     76.2513\n",
       "664.008      -86.7985     62.4011\n",
       "664.01       -68.5082     25.1321\n",
       "664.012      -59.6681     66.8974\n",
       "664.014      -69.8047     51.4363\n",
       "664.016      -55.9205     14.6035\n",
       "664.018      -46.3999     25.0576\n",
       "...\n",
       "10161.98     -58.3848    -33.0059\n",
       "10161.982    -34.7382    -47.1748\n",
       "10161.984    -60.0722    -92.9125\n",
       "10161.986    -93.9748   -107.778\n",
       "10161.988    -73.8834    -58.4848\n",
       "10161.99     -22.6279     36.2663\n",
       "10161.992    -50.7517     55.5676\n",
       "10161.994    -10.4319      4.49775\n",
       "10161.996      6.6121     19.6085\n",
       "10161.998     -4.09829   -54.7709\n",
       "dtype: float64, shape: (580500, 2)"
      ]
     },
     "execution_count": 72,
     "metadata": {},
     "output_type": "execute_result"
    }
   ],
   "source": [
    "tsd.restrict(rem_interval)"
   ]
  },
  {
   "cell_type": "markdown",
   "id": "7d1687b6-82bd-4085-b621-ba8afdaf1e64",
   "metadata": {},
   "source": [
    "# matplotlib"
   ]
  },
  {
   "cell_type": "code",
   "execution_count": 73,
   "id": "c66b93be-39f7-4efd-948d-d8c88b2a9e56",
   "metadata": {},
   "outputs": [],
   "source": [
    "%matplotlib qt"
   ]
  },
  {
   "cell_type": "code",
   "execution_count": 74,
   "id": "83a486da-f152-498a-b2a7-a83080a18c1b",
   "metadata": {},
   "outputs": [],
   "source": [
    "from matplotlib.colors import LinearSegmentedColormap\n",
    "from scipy.signal import spectrogram\n",
    "\n",
    "nsr_seg = 1\n",
    "perc_overlap = 0.8\n",
    "vmax = 3000\n",
    "vmin = 0\n",
    "cmap = plt.cm.hot\n",
    "\n",
    "# Define the custom colors\n",
    "colors = [[0, 0, 0], [0, 1, 1], [0.6, 0, 1], [0.8, 0.8, 0.8]]\n",
    "\n",
    "# Create a custom colormap\n",
    "my_map = LinearSegmentedColormap.from_list('brs', colors, N=5)\n",
    "\n",
    "freq, t, SP = spectrogram(lfpHPC, fs=target_fs, window='hann', \n",
    "                          nperseg=int(nsr_seg * target_fs), \n",
    "                          noverlap=int(nsr_seg * target_fs * perc_overlap))\n",
    "\n",
    "ifreq = np.where(freq <= 20)[0]"
   ]
  },
  {
   "cell_type": "code",
   "execution_count": 76,
   "id": "d6cd7e0d-b5b0-42b5-b10f-d304226cd144",
   "metadata": {},
   "outputs": [
    {
     "data": {
      "text/plain": [
       "Text(0, 0.5, 'Freq. (Hz)')"
      ]
     },
     "execution_count": 76,
     "metadata": {},
     "output_type": "execute_result"
    }
   ],
   "source": [
    "f, ax = plt.subplots(nrows=5, ncols=1, \n",
    "                     sharex=True, figsize=(12, 8),\n",
    "                     gridspec_kw = {'height_ratios':[1, 8, 1, 8, 8],\n",
    "                                        'hspace':0.1})\n",
    "# Plot sleep states\n",
    "tmp = ax[0].pcolorfast(tsd[\"HPC\"].t, [0, 1], np.array([hypnogram]), vmin=1, vmax=5)\n",
    "tmp.set_cmap(my_map)\n",
    "_despine_axes(ax[0])    \n",
    "\n",
    "# Plot HPC region\n",
    "ax[1].plot(tsd[\"HPC\"], color='k')\n",
    "for epoch in rem_interval:\n",
    "    start, end = epoch[\"start\"].item(), epoch[\"end\"].item()\n",
    "    ax[1].axvspan(start, end, facecolor=[0.7, 0.7, 0.8], alpha=0.4)\n",
    "    \n",
    "# Plot phasicREM\n",
    "[ax[1].plot(tsd[\"HPC\"].restrict(phrem_interval[i]), color='r') for i in range(len(phrem_interval))]\n",
    "\n",
    "#ax[1].set_title(\"HPC\")\n",
    "ax[1].set_ylabel(\"mV (HPC)\")\n",
    "\n",
    "# Plot phasicREM as spikes\n",
    "ax[2].eventplot((phrem_interval[\"end\"]+phrem_interval[\"start\"])/2)\n",
    "_despine_axes(ax[2])\n",
    "\n",
    "# Plot PFC region\n",
    "#ax[3].set_title(\"PFC\")\n",
    "ax[3].plot(tsd[\"PFC\"], color='orange')\n",
    "ax[3].set_xlabel(\"Time (s)\")\n",
    "ax[3].set_ylabel(\"mV (PFC)\")\n",
    "\n",
    "# Plot spectrogram (theta range)\n",
    "pcm = ax[4].pcolorfast(t, freq[ifreq], SP[ifreq, :], vmin=vmin, vmax=vmax, cmap=cmap)\n",
    "ax[4].set_ylabel(\"Freq. (Hz)\")"
   ]
  },
  {
   "cell_type": "markdown",
   "id": "d8cd3b56-96f6-4d3b-ab05-9feff36ab07b",
   "metadata": {},
   "source": [
    "# fastplotlib"
   ]
  },
  {
   "cell_type": "code",
   "execution_count": 11,
   "id": "2b2b7412-8314-4964-a682-3c4df8234ed5",
   "metadata": {},
   "outputs": [],
   "source": [
    "%matplotlib inline"
   ]
  },
  {
   "cell_type": "code",
   "execution_count": 17,
   "id": "bcf42886-9e50-4fc9-8d02-f66f2907e7e8",
   "metadata": {},
   "outputs": [],
   "source": [
    "import fastplotlib as fpl\n",
    "from ipywidgets import Layout, VBox, FloatSlider\n",
    "from sidecar import Sidecar\n",
    "from workshop_utils.store_model import TimeStore\n",
    "from IPython.display import display\n",
    "\n",
    "import warnings\n",
    "\n",
    "warnings.simplefilter('ignore')\n",
    "fpl.config.party_parrot = True\n",
    "warnings.filterwarnings(\"ignore\", category=DeprecationWarning)"
   ]
  },
  {
   "cell_type": "code",
   "execution_count": 26,
   "id": "70c2a2d3-1221-4b9d-8182-95e962fe3ca3",
   "metadata": {},
   "outputs": [],
   "source": [
    "data = np.column_stack([tsd.t, tsd['HPC'][:].d])\n",
    "subsample = 1_000"
   ]
  },
  {
   "cell_type": "code",
   "execution_count": 27,
   "id": "e1530d74-fd76-41f3-9b54-a519fefeb2aa",
   "metadata": {},
   "outputs": [
    {
     "data": {
      "text/plain": [
       "(5235500, 2)"
      ]
     },
     "execution_count": 27,
     "metadata": {},
     "output_type": "execute_result"
    }
   ],
   "source": [
    "data.shape"
   ]
  },
  {
   "cell_type": "code",
   "execution_count": 30,
   "id": "48a23448-ab0c-4baf-99ca-ab2fcc907287",
   "metadata": {},
   "outputs": [
    {
     "data": {
      "text/plain": [
       "array([2058012, 2058013, 2058014, ..., 3366885, 3366886, 3366887],\n",
       "      dtype=int64)"
      ]
     },
     "execution_count": 30,
     "metadata": {},
     "output_type": "execute_result"
    }
   ],
   "source": [
    "ls_x.get_selected_indices()"
   ]
  },
  {
   "cell_type": "code",
   "execution_count": 38,
   "id": "7557a39f-ed20-43e0-b2df-790f2e0ec2e0",
   "metadata": {
    "scrolled": true
   },
   "outputs": [
    {
     "data": {
      "application/vnd.jupyter.widget-view+json": {
       "model_id": "b2301cdb03e44dd29b4748b81224b295",
       "version_major": 2,
       "version_minor": 0
      },
      "text/plain": [
       "RFBOutputContext()"
      ]
     },
     "metadata": {},
     "output_type": "display_data"
    },
    {
     "data": {
      "application/vnd.jupyter.widget-view+json": {
       "model_id": "",
       "version_major": 2,
       "version_minor": 0
      },
      "text/plain": [
       "JupyterOutputContext(children=(JupyterWgpuCanvas(css_height='400px', css_width='800px'), IpywidgetToolBar(chil…"
      ]
     },
     "execution_count": 38,
     "metadata": {},
     "output_type": "execute_result"
    }
   ],
   "source": [
    "fig = fpl.Figure((2, 1), size=(800, 400))\n",
    "\n",
    "graphic = fig[0, 0].add_line(data=data[::subsample])\n",
    "ls_x = graphic.add_linear_region_selector()\n",
    "\n",
    "# get the initial selected date of the linear region selector\n",
    "zoomed_init = ls_x.get_selected_data()\n",
    "\n",
    "# make a line graphic for displaying zoomed data\n",
    "zoomed_x = fig[1, 0].add_line(zoomed_init)\n",
    "\n",
    "@ls_x.add_event_handler(\"selection\")\n",
    "def set_zoom_x(ev):\n",
    "    \"\"\"sets zoomed x selector data\"\"\"\n",
    "    # get the selected data\n",
    "    ixs = ev.get_selected_indices() * subsample\n",
    "    selected_data = data[ixs]\n",
    "    # remove the current zoomed data\n",
    "    # and update with new selected data\n",
    "    global zoomed_x\n",
    "\n",
    "    fig[1, 0].remove_graphic(zoomed_x)\n",
    "    zoomed_x = fig[1, 0].add_line(selected_data)\n",
    "    fig[1, 0].auto_scale()\n",
    "\n",
    "fig.show(maintain_aspect=False)"
   ]
  },
  {
   "cell_type": "code",
   "execution_count": 39,
   "id": "ef81e3ad-a75d-4174-81b6-d2244fc865ee",
   "metadata": {},
   "outputs": [],
   "source": [
    "fig.close()"
   ]
  },
  {
   "cell_type": "code",
   "execution_count": 61,
   "id": "0a36e987-4492-4782-b068-e8be0b17701c",
   "metadata": {},
   "outputs": [
    {
     "data": {
      "application/vnd.jupyter.widget-view+json": {
       "model_id": "ec574a16f2ca4d01bffee1c9831e1382",
       "version_major": 2,
       "version_minor": 0
      },
      "text/plain": [
       "RFBOutputContext()"
      ]
     },
     "metadata": {},
     "output_type": "display_data"
    },
    {
     "data": {
      "application/vnd.jupyter.widget-view+json": {
       "model_id": "",
       "version_major": 2,
       "version_minor": 0
      },
      "text/plain": [
       "JupyterOutputContext(children=(JupyterWgpuCanvas(), IpywidgetToolBar(children=(Button(icon='expand-arrows-alt'…"
      ]
     },
     "execution_count": 61,
     "metadata": {},
     "output_type": "execute_result"
    }
   ],
   "source": [
    "# test_example = false\n",
    "import time\n",
    "import fastplotlib as fpl\n",
    "import numpy as np\n",
    "import time\n",
    "\n",
    "# generate some data\n",
    "start, stop = 0, 2 * np.pi\n",
    "increment = (2 * np.pi) / 50\n",
    "\n",
    "# make a simple sine wave\n",
    "xs = np.linspace(start, stop, 100)\n",
    "ys = np.sin(xs)\n",
    "\n",
    "figure = fpl.Figure()\n",
    "\n",
    "# plot the image data\n",
    "sine = figure[0, 0].add_line(ys, name=\"sine\", colors=\"r\")\n",
    "figure[0, 0].set_title(f\"time: 0\")\n",
    "\n",
    "\n",
    "start = time.time_ns()// 1_000_000\n",
    "\n",
    "iteration = 0\n",
    "# increment along the x-axis on each render loop :D\n",
    "def update_line(subplot):\n",
    "    global increment, start, stop, iteration\n",
    "    xs = np.linspace(start + increment, stop + increment, 100)\n",
    "    ys = np.sin(xs)\n",
    "\n",
    "    start += increment\n",
    "    stop += increment\n",
    "\n",
    "    # change only the y-axis values of the line\n",
    "    subplot[\"sine\"].data[:, 1] = ys\n",
    "    \n",
    "    curr = round(time.time_ns() // 1_000_000 - start)\n",
    "    \n",
    "    subplot.set_title(f\"time: {curr} ms\")\n",
    "    iteration += 1\n",
    "\n",
    "figure[0, 0].add_animations(update_line)\n",
    "\n",
    "figure.canvas.set_logical_size(700, 560)\n",
    "\n",
    "figure[0,0].auto_scale(maintain_aspect=False)\n",
    "\n",
    "figure.show()"
   ]
  },
  {
   "cell_type": "code",
   "execution_count": 62,
   "id": "dd54e09b-cf19-4309-861f-935e4e1e7d59",
   "metadata": {},
   "outputs": [],
   "source": [
    "figure.close()"
   ]
  }
 ],
 "metadata": {
  "kernelspec": {
   "display_name": "Python 3 (ipykernel)",
   "language": "python",
   "name": "python3"
  },
  "language_info": {
   "codemirror_mode": {
    "name": "ipython",
    "version": 3
   },
   "file_extension": ".py",
   "mimetype": "text/x-python",
   "name": "python",
   "nbconvert_exporter": "python",
   "pygments_lexer": "ipython3",
   "version": "3.11.9"
  }
 },
 "nbformat": 4,
 "nbformat_minor": 5
}
