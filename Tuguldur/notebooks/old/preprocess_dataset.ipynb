{
 "cells": [
  {
   "cell_type": "markdown",
   "metadata": {},
   "source": [
    "# Load the datasets\n",
    "\n",
    "The path to dataset directory and patterns to search in those directories for the HPC, PFC recordings are in loaded from the config file."
   ]
  },
  {
   "cell_type": "code",
   "execution_count": 24,
   "metadata": {},
   "outputs": [],
   "source": [
    "from phasic_tonic.detect_phasic import detect_phasic\n",
    "from phasic_tonic.DatasetLoader import DatasetLoader\n",
    "from phasic_tonic.helper import get_metadata\n",
    "from phasic_tonic.runtime_logger import logger_setup\n",
    "from phasic_tonic.utils import get_sequences\n",
    "\n",
    "import numpy as np\n",
    "import pandas as pd\n",
    "import pynapple as nap\n",
    "import yasa\n",
    "import os\n",
    "\n",
    "from tqdm import tqdm\n",
    "from scipy.io import loadmat\n",
    "from mne.filter import resample\n",
    "\n",
    "fs_cbd = 2500\n",
    "fs_os = 2500\n",
    "fs_rgs = 1000\n",
    "\n",
    "targetFs = 500\n",
    "n_down_cbd = fs_cbd/targetFs\n",
    "n_down_rgs = fs_rgs/targetFs\n",
    "n_down_os = fs_os/targetFs\n",
    "\n",
    "logger = logger_setup()\n",
    "\n",
    "CONFIG_DIR = \"/home/nero/phasic_tonic/data/dataset_loading.yaml\"\n",
    "OUTPUT_DIR = \"/home/nero/datasets/preprocessed\"\n",
    "\n",
    "Datasets = DatasetLoader(CONFIG_DIR)\n",
    "mapped_datasets = Datasets.load_datasets()\n",
    "\n",
    "def preprocess(signal: np.ndarray, n_down: int, target_fs=500) -> np.ndarray:\n",
    "    \"\"\"Downsample and remove artifacts.\"\"\"\n",
    "    \n",
    "    logger.debug(\"STARTED: Resampling to 500 Hz.\")\n",
    "    # Downsample to 500 Hz\n",
    "    data = resample(signal, down=n_down, method='fft', npad='auto')\n",
    "    logger.debug(\"FINISHED: Resampling to 500 Hz.\")\n",
    "    logger.debug(\"Resampled: {0} -> {1}.\".format(str(signal.shape), str(data.shape)))\n",
    "    \n",
    "    logger.debug(\"STARTED: Remove artifacts.\")\n",
    "    # Remove artifacts\n",
    "    art_std, _ = yasa.art_detect(data, target_fs , window=1, method='std', threshold=4)\n",
    "    art_up = yasa.hypno_upsample_to_data(art_std, 1, data, target_fs)\n",
    "    data[art_up] = 0\n",
    "    logger.debug(\"FINISHED: Remove artifacts.\")\n",
    "        \n",
    "    data -= data.mean()\n",
    "    return data\n",
    "\n",
    "def get_start_end(hypno: np.ndarray, sleep_state_id: int):\n",
    "    \"\"\"Convert sleep states into lists of start and end time indices.\"\"\"\n",
    "    seq = get_sequences(np.where(hypno == sleep_state_id)[0])\n",
    "    start = []\n",
    "    end = []\n",
    "    for s, e in seq:\n",
    "        start.append(s)\n",
    "        end.append(e)\n",
    "    return (start, end)\n",
    "\n",
    "def _detect_troughs(signal, thr):\n",
    "    lidx  = np.where(signal[0:-2] > signal[1:-1])[0]\n",
    "    ridx  = np.where(signal[1:-1] <= signal[2:])[0]\n",
    "    thidx = np.where(signal[1:-1] < thr)[0]\n",
    "    sidx = np.intersect1d(lidx, np.intersect1d(ridx, thidx))+1\n",
    "    return sidx"
   ]
  },
  {
   "cell_type": "markdown",
   "metadata": {},
   "source": [
    "Check the number of loaded recordings"
   ]
  },
  {
   "cell_type": "code",
   "execution_count": 25,
   "metadata": {},
   "outputs": [],
   "source": [
    "cbd_cnt = 0\n",
    "rgs_cnt = 0\n",
    "os_cnt = 0\n",
    "\n",
    "# Count recordings belonging to CBD dataset\n",
    "for name in mapped_datasets:\n",
    "    metadata = get_metadata(name)\n",
    "    if metadata['treatment'] == 0 or metadata['treatment'] == 1:\n",
    "        cbd_cnt += 1\n",
    "    elif metadata['treatment'] == 2 or metadata['treatment'] == 3:\n",
    "        rgs_cnt += 1\n",
    "    elif metadata['treatment'] == 4:\n",
    "        os_cnt += 1\n",
    "\n",
    "assert cbd_cnt == 170\n",
    "assert rgs_cnt == 159\n",
    "assert os_cnt == 210"
   ]
  },
  {
   "cell_type": "markdown",
   "metadata": {},
   "source": [
    "# Loop through the dataset"
   ]
  },
  {
   "cell_type": "code",
   "execution_count": 33,
   "metadata": {},
   "outputs": [
    {
     "name": "stdout",
     "output_type": "stream",
     "text": [
      "Saving to: /home/nero/datasets/preprocessed/Rat5_SD8_HC_0_posttrial3\n",
      "Saving to: /home/nero/datasets/preprocessed/Rat5_SD8_HC_0_posttrial2\n"
     ]
    },
    {
     "name": "stderr",
     "output_type": "stream",
     "text": [
      "/tmp/ipykernel_13460/1494533575.py:27: UserWarning: Some epochs have no duration\n",
      "  rem_interval = nap.IntervalSet(start=start, end=end)\n"
     ]
    },
    {
     "name": "stdout",
     "output_type": "stream",
     "text": [
      "Saving to: /home/nero/datasets/preprocessed/Rat5_SD8_HC_0_posttrial4\n",
      "Saving to: /home/nero/datasets/preprocessed/Rat5_SD8_HC_0_posttrial5\n"
     ]
    },
    {
     "ename": "KeyboardInterrupt",
     "evalue": "",
     "output_type": "error",
     "traceback": [
      "\u001b[0;31m---------------------------------------------------------------------------\u001b[0m",
      "\u001b[0;31mKeyboardInterrupt\u001b[0m                         Traceback (most recent call last)",
      "Cell \u001b[0;32mIn[33], line 35\u001b[0m\n\u001b[1;32m     32\u001b[0m lfp \u001b[38;5;241m=\u001b[39m nap\u001b[38;5;241m.\u001b[39mTsdFrame(t\u001b[38;5;241m=\u001b[39mt, d\u001b[38;5;241m=\u001b[39mnp\u001b[38;5;241m.\u001b[39mvstack([lfpHPC, lfpPFC])\u001b[38;5;241m.\u001b[39mT, columns\u001b[38;5;241m=\u001b[39m[\u001b[38;5;124m'\u001b[39m\u001b[38;5;124mHPC\u001b[39m\u001b[38;5;124m'\u001b[39m, \u001b[38;5;124m'\u001b[39m\u001b[38;5;124mPFC\u001b[39m\u001b[38;5;124m'\u001b[39m])\n\u001b[1;32m     34\u001b[0m \u001b[38;5;66;03m# Detect phasic intervals\u001b[39;00m\n\u001b[0;32m---> 35\u001b[0m lfpHPC_down \u001b[38;5;241m=\u001b[39m \u001b[43mpreprocess\u001b[49m\u001b[43m(\u001b[49m\u001b[43mlfpHPC\u001b[49m\u001b[43m,\u001b[49m\u001b[43m \u001b[49m\u001b[43mn_down\u001b[49m\u001b[43m)\u001b[49m\n\u001b[1;32m     36\u001b[0m fname \u001b[38;5;241m=\u001b[39m os\u001b[38;5;241m.\u001b[39mpath\u001b[38;5;241m.\u001b[39mjoin(OUTPUT_DIR, name)\n\u001b[1;32m     37\u001b[0m \u001b[38;5;28mprint\u001b[39m(\u001b[38;5;124mf\u001b[39m\u001b[38;5;124m\"\u001b[39m\u001b[38;5;124mSaving to: \u001b[39m\u001b[38;5;132;01m{\u001b[39;00mfname\u001b[38;5;132;01m}\u001b[39;00m\u001b[38;5;124m\"\u001b[39m)\n",
      "Cell \u001b[0;32mIn[24], line 45\u001b[0m, in \u001b[0;36mpreprocess\u001b[0;34m(signal, n_down, target_fs)\u001b[0m\n\u001b[1;32m     43\u001b[0m logger\u001b[38;5;241m.\u001b[39mdebug(\u001b[38;5;124m\"\u001b[39m\u001b[38;5;124mSTARTED: Remove artifacts.\u001b[39m\u001b[38;5;124m\"\u001b[39m)\n\u001b[1;32m     44\u001b[0m \u001b[38;5;66;03m# Remove artifacts\u001b[39;00m\n\u001b[0;32m---> 45\u001b[0m art_std, _ \u001b[38;5;241m=\u001b[39m \u001b[43myasa\u001b[49m\u001b[38;5;241;43m.\u001b[39;49m\u001b[43mart_detect\u001b[49m\u001b[43m(\u001b[49m\u001b[43mdata\u001b[49m\u001b[43m,\u001b[49m\u001b[43m \u001b[49m\u001b[43mtarget_fs\u001b[49m\u001b[43m \u001b[49m\u001b[43m,\u001b[49m\u001b[43m \u001b[49m\u001b[43mwindow\u001b[49m\u001b[38;5;241;43m=\u001b[39;49m\u001b[38;5;241;43m1\u001b[39;49m\u001b[43m,\u001b[49m\u001b[43m \u001b[49m\u001b[43mmethod\u001b[49m\u001b[38;5;241;43m=\u001b[39;49m\u001b[38;5;124;43m'\u001b[39;49m\u001b[38;5;124;43mstd\u001b[39;49m\u001b[38;5;124;43m'\u001b[39;49m\u001b[43m,\u001b[49m\u001b[43m \u001b[49m\u001b[43mthreshold\u001b[49m\u001b[38;5;241;43m=\u001b[39;49m\u001b[38;5;241;43m4\u001b[39;49m\u001b[43m)\u001b[49m\n\u001b[1;32m     46\u001b[0m art_up \u001b[38;5;241m=\u001b[39m yasa\u001b[38;5;241m.\u001b[39mhypno_upsample_to_data(art_std, \u001b[38;5;241m1\u001b[39m, data, target_fs)\n\u001b[1;32m     47\u001b[0m data[art_up] \u001b[38;5;241m=\u001b[39m \u001b[38;5;241m0\u001b[39m\n",
      "File \u001b[0;32m~/anaconda3/envs/phasic_tonic/lib/python3.12/site-packages/yasa/detection.py:2997\u001b[0m, in \u001b[0;36mart_detect\u001b[0;34m(data, sf, window, hypno, include, method, threshold, n_chan_reject, verbose)\u001b[0m\n\u001b[1;32m   2992\u001b[0m \u001b[38;5;66;03m###########################################################################\u001b[39;00m\n\u001b[1;32m   2993\u001b[0m \u001b[38;5;66;03m# PREPROCESSING\u001b[39;00m\n\u001b[1;32m   2994\u001b[0m \u001b[38;5;66;03m###########################################################################\u001b[39;00m\n\u001b[1;32m   2995\u001b[0m set_log_level(verbose)\n\u001b[0;32m-> 2997\u001b[0m (data, sf, _, hypno, include, _, n_chan, n_samples, _) \u001b[38;5;241m=\u001b[39m \u001b[43m_check_data_hypno\u001b[49m\u001b[43m(\u001b[49m\n\u001b[1;32m   2998\u001b[0m \u001b[43m    \u001b[49m\u001b[43mdata\u001b[49m\u001b[43m,\u001b[49m\u001b[43m \u001b[49m\u001b[43msf\u001b[49m\u001b[43m,\u001b[49m\u001b[43m \u001b[49m\u001b[43mch_names\u001b[49m\u001b[38;5;241;43m=\u001b[39;49m\u001b[38;5;28;43;01mNone\u001b[39;49;00m\u001b[43m,\u001b[49m\u001b[43m \u001b[49m\u001b[43mhypno\u001b[49m\u001b[38;5;241;43m=\u001b[39;49m\u001b[43mhypno\u001b[49m\u001b[43m,\u001b[49m\u001b[43m \u001b[49m\u001b[43minclude\u001b[49m\u001b[38;5;241;43m=\u001b[39;49m\u001b[43minclude\u001b[49m\u001b[43m,\u001b[49m\u001b[43m \u001b[49m\u001b[43mcheck_amp\u001b[49m\u001b[38;5;241;43m=\u001b[39;49m\u001b[38;5;28;43;01mFalse\u001b[39;49;00m\n\u001b[1;32m   2999\u001b[0m \u001b[43m\u001b[49m\u001b[43m)\u001b[49m\n\u001b[1;32m   3001\u001b[0m \u001b[38;5;28;01massert\u001b[39;00m \u001b[38;5;28misinstance\u001b[39m(n_chan_reject, \u001b[38;5;28mint\u001b[39m), \u001b[38;5;124m\"\u001b[39m\u001b[38;5;124mn_chan_reject must be int.\u001b[39m\u001b[38;5;124m\"\u001b[39m\n\u001b[1;32m   3002\u001b[0m \u001b[38;5;28;01massert\u001b[39;00m n_chan_reject \u001b[38;5;241m>\u001b[39m\u001b[38;5;241m=\u001b[39m \u001b[38;5;241m1\u001b[39m, \u001b[38;5;124m\"\u001b[39m\u001b[38;5;124mn_chan_reject must be >= 1.\u001b[39m\u001b[38;5;124m\"\u001b[39m\n",
      "File \u001b[0;32m~/anaconda3/envs/phasic_tonic/lib/python3.12/site-packages/yasa/detection.py:98\u001b[0m, in \u001b[0;36m_check_data_hypno\u001b[0;34m(data, sf, ch_names, hypno, include, check_amp)\u001b[0m\n\u001b[1;32m     96\u001b[0m logger\u001b[38;5;241m.\u001b[39minfo(\u001b[38;5;124m\"\u001b[39m\u001b[38;5;124mData duration = \u001b[39m\u001b[38;5;132;01m%.2f\u001b[39;00m\u001b[38;5;124m seconds\u001b[39m\u001b[38;5;124m\"\u001b[39m, n_samples \u001b[38;5;241m/\u001b[39m sf)\n\u001b[1;32m     97\u001b[0m all_ptp \u001b[38;5;241m=\u001b[39m np\u001b[38;5;241m.\u001b[39mptp(data, axis\u001b[38;5;241m=\u001b[39m\u001b[38;5;241m-\u001b[39m\u001b[38;5;241m1\u001b[39m)\n\u001b[0;32m---> 98\u001b[0m all_trimstd \u001b[38;5;241m=\u001b[39m \u001b[43mtrimbothstd\u001b[49m\u001b[43m(\u001b[49m\u001b[43mdata\u001b[49m\u001b[43m,\u001b[49m\u001b[43m \u001b[49m\u001b[43mcut\u001b[49m\u001b[38;5;241;43m=\u001b[39;49m\u001b[38;5;241;43m0.05\u001b[39;49m\u001b[43m)\u001b[49m\n\u001b[1;32m     99\u001b[0m bad_chan \u001b[38;5;241m=\u001b[39m np\u001b[38;5;241m.\u001b[39mzeros(n_chan, dtype\u001b[38;5;241m=\u001b[39m\u001b[38;5;28mbool\u001b[39m)\n\u001b[1;32m    100\u001b[0m \u001b[38;5;28;01mfor\u001b[39;00m i \u001b[38;5;129;01min\u001b[39;00m \u001b[38;5;28mrange\u001b[39m(n_chan):\n",
      "File \u001b[0;32m~/anaconda3/envs/phasic_tonic/lib/python3.12/site-packages/yasa/others.py:284\u001b[0m, in \u001b[0;36mtrimbothstd\u001b[0;34m(x, cut)\u001b[0m\n\u001b[1;32m    282\u001b[0m atmp \u001b[38;5;241m=\u001b[39m np\u001b[38;5;241m.\u001b[39mpartition(x, (lowercut, uppercut \u001b[38;5;241m-\u001b[39m \u001b[38;5;241m1\u001b[39m), axis\u001b[38;5;241m=\u001b[39m\u001b[38;5;241m-\u001b[39m\u001b[38;5;241m1\u001b[39m)\n\u001b[1;32m    283\u001b[0m sl \u001b[38;5;241m=\u001b[39m \u001b[38;5;28mslice\u001b[39m(lowercut, uppercut)\n\u001b[0;32m--> 284\u001b[0m \u001b[38;5;28;01mreturn\u001b[39;00m \u001b[43mnp\u001b[49m\u001b[38;5;241;43m.\u001b[39;49m\u001b[43mnanstd\u001b[49m\u001b[43m(\u001b[49m\u001b[43matmp\u001b[49m\u001b[43m[\u001b[49m\u001b[38;5;241;43m.\u001b[39;49m\u001b[38;5;241;43m.\u001b[39;49m\u001b[38;5;241;43m.\u001b[39;49m\u001b[43m,\u001b[49m\u001b[43m \u001b[49m\u001b[43msl\u001b[49m\u001b[43m]\u001b[49m\u001b[43m,\u001b[49m\u001b[43m \u001b[49m\u001b[43mddof\u001b[49m\u001b[38;5;241;43m=\u001b[39;49m\u001b[38;5;241;43m1\u001b[39;49m\u001b[43m,\u001b[49m\u001b[43m \u001b[49m\u001b[43maxis\u001b[49m\u001b[38;5;241;43m=\u001b[39;49m\u001b[38;5;241;43m-\u001b[39;49m\u001b[38;5;241;43m1\u001b[39;49m\u001b[43m)\u001b[49m\n",
      "File \u001b[0;32m~/anaconda3/envs/phasic_tonic/lib/python3.12/site-packages/numpy/lib/nanfunctions.py:1879\u001b[0m, in \u001b[0;36mnanstd\u001b[0;34m(a, axis, dtype, out, ddof, keepdims, where)\u001b[0m\n\u001b[1;32m   1778\u001b[0m \u001b[38;5;129m@array_function_dispatch\u001b[39m(_nanstd_dispatcher)\n\u001b[1;32m   1779\u001b[0m \u001b[38;5;28;01mdef\u001b[39;00m \u001b[38;5;21mnanstd\u001b[39m(a, axis\u001b[38;5;241m=\u001b[39m\u001b[38;5;28;01mNone\u001b[39;00m, dtype\u001b[38;5;241m=\u001b[39m\u001b[38;5;28;01mNone\u001b[39;00m, out\u001b[38;5;241m=\u001b[39m\u001b[38;5;28;01mNone\u001b[39;00m, ddof\u001b[38;5;241m=\u001b[39m\u001b[38;5;241m0\u001b[39m, keepdims\u001b[38;5;241m=\u001b[39mnp\u001b[38;5;241m.\u001b[39m_NoValue,\n\u001b[1;32m   1780\u001b[0m            \u001b[38;5;241m*\u001b[39m, where\u001b[38;5;241m=\u001b[39mnp\u001b[38;5;241m.\u001b[39m_NoValue):\n\u001b[1;32m   1781\u001b[0m \u001b[38;5;250m    \u001b[39m\u001b[38;5;124;03m\"\"\"\u001b[39;00m\n\u001b[1;32m   1782\u001b[0m \u001b[38;5;124;03m    Compute the standard deviation along the specified axis, while\u001b[39;00m\n\u001b[1;32m   1783\u001b[0m \u001b[38;5;124;03m    ignoring NaNs.\u001b[39;00m\n\u001b[0;32m   (...)\u001b[0m\n\u001b[1;32m   1877\u001b[0m \n\u001b[1;32m   1878\u001b[0m \u001b[38;5;124;03m    \"\"\"\u001b[39;00m\n\u001b[0;32m-> 1879\u001b[0m     var \u001b[38;5;241m=\u001b[39m \u001b[43mnanvar\u001b[49m\u001b[43m(\u001b[49m\u001b[43ma\u001b[49m\u001b[43m,\u001b[49m\u001b[43m \u001b[49m\u001b[43maxis\u001b[49m\u001b[38;5;241;43m=\u001b[39;49m\u001b[43maxis\u001b[49m\u001b[43m,\u001b[49m\u001b[43m \u001b[49m\u001b[43mdtype\u001b[49m\u001b[38;5;241;43m=\u001b[39;49m\u001b[43mdtype\u001b[49m\u001b[43m,\u001b[49m\u001b[43m \u001b[49m\u001b[43mout\u001b[49m\u001b[38;5;241;43m=\u001b[39;49m\u001b[43mout\u001b[49m\u001b[43m,\u001b[49m\u001b[43m \u001b[49m\u001b[43mddof\u001b[49m\u001b[38;5;241;43m=\u001b[39;49m\u001b[43mddof\u001b[49m\u001b[43m,\u001b[49m\n\u001b[1;32m   1880\u001b[0m \u001b[43m                 \u001b[49m\u001b[43mkeepdims\u001b[49m\u001b[38;5;241;43m=\u001b[39;49m\u001b[43mkeepdims\u001b[49m\u001b[43m,\u001b[49m\u001b[43m \u001b[49m\u001b[43mwhere\u001b[49m\u001b[38;5;241;43m=\u001b[39;49m\u001b[43mwhere\u001b[49m\u001b[43m)\u001b[49m\n\u001b[1;32m   1881\u001b[0m     \u001b[38;5;28;01mif\u001b[39;00m \u001b[38;5;28misinstance\u001b[39m(var, np\u001b[38;5;241m.\u001b[39mndarray):\n\u001b[1;32m   1882\u001b[0m         std \u001b[38;5;241m=\u001b[39m np\u001b[38;5;241m.\u001b[39msqrt(var, out\u001b[38;5;241m=\u001b[39mvar)\n",
      "File \u001b[0;32m~/anaconda3/envs/phasic_tonic/lib/python3.12/site-packages/numpy/lib/nanfunctions.py:1735\u001b[0m, in \u001b[0;36mnanvar\u001b[0;34m(a, axis, dtype, out, ddof, keepdims, where)\u001b[0m\n\u001b[1;32m   1729\u001b[0m     _keepdims \u001b[38;5;241m=\u001b[39m \u001b[38;5;28;01mTrue\u001b[39;00m\n\u001b[1;32m   1730\u001b[0m \u001b[38;5;66;03m# we need to special case matrix for reverse compatibility\u001b[39;00m\n\u001b[1;32m   1731\u001b[0m \u001b[38;5;66;03m# in order for this to work, these sums need to be called with\u001b[39;00m\n\u001b[1;32m   1732\u001b[0m \u001b[38;5;66;03m# keepdims=True, however matrix now raises an error in this case, but\u001b[39;00m\n\u001b[1;32m   1733\u001b[0m \u001b[38;5;66;03m# the reason that it drops the keepdims kwarg is to force keepdims=True\u001b[39;00m\n\u001b[1;32m   1734\u001b[0m \u001b[38;5;66;03m# so this used to work by serendipity.\u001b[39;00m\n\u001b[0;32m-> 1735\u001b[0m cnt \u001b[38;5;241m=\u001b[39m \u001b[43mnp\u001b[49m\u001b[38;5;241;43m.\u001b[39;49m\u001b[43msum\u001b[49m\u001b[43m(\u001b[49m\u001b[38;5;241;43m~\u001b[39;49m\u001b[43mmask\u001b[49m\u001b[43m,\u001b[49m\u001b[43m \u001b[49m\u001b[43maxis\u001b[49m\u001b[38;5;241;43m=\u001b[39;49m\u001b[43maxis\u001b[49m\u001b[43m,\u001b[49m\u001b[43m \u001b[49m\u001b[43mdtype\u001b[49m\u001b[38;5;241;43m=\u001b[39;49m\u001b[43mnp\u001b[49m\u001b[38;5;241;43m.\u001b[39;49m\u001b[43mintp\u001b[49m\u001b[43m,\u001b[49m\u001b[43m \u001b[49m\u001b[43mkeepdims\u001b[49m\u001b[38;5;241;43m=\u001b[39;49m\u001b[43m_keepdims\u001b[49m\u001b[43m,\u001b[49m\n\u001b[1;32m   1736\u001b[0m \u001b[43m             \u001b[49m\u001b[43mwhere\u001b[49m\u001b[38;5;241;43m=\u001b[39;49m\u001b[43mwhere\u001b[49m\u001b[43m)\u001b[49m\n\u001b[1;32m   1737\u001b[0m avg \u001b[38;5;241m=\u001b[39m np\u001b[38;5;241m.\u001b[39msum(arr, axis\u001b[38;5;241m=\u001b[39maxis, dtype\u001b[38;5;241m=\u001b[39mdtype, keepdims\u001b[38;5;241m=\u001b[39m_keepdims, where\u001b[38;5;241m=\u001b[39mwhere)\n\u001b[1;32m   1738\u001b[0m avg \u001b[38;5;241m=\u001b[39m _divide_by_count(avg, cnt)\n",
      "File \u001b[0;32m~/anaconda3/envs/phasic_tonic/lib/python3.12/site-packages/numpy/core/fromnumeric.py:2172\u001b[0m, in \u001b[0;36m_sum_dispatcher\u001b[0;34m(a, axis, dtype, out, keepdims, initial, where)\u001b[0m\n\u001b[1;32m   2102\u001b[0m \u001b[38;5;250m    \u001b[39m\u001b[38;5;124;03m\"\"\"\u001b[39;00m\n\u001b[1;32m   2103\u001b[0m \u001b[38;5;124;03m    Clip (limit) the values in an array.\u001b[39;00m\n\u001b[1;32m   2104\u001b[0m \n\u001b[0;32m   (...)\u001b[0m\n\u001b[1;32m   2167\u001b[0m \n\u001b[1;32m   2168\u001b[0m \u001b[38;5;124;03m    \"\"\"\u001b[39;00m\n\u001b[1;32m   2169\u001b[0m     \u001b[38;5;28;01mreturn\u001b[39;00m _wrapfunc(a, \u001b[38;5;124m'\u001b[39m\u001b[38;5;124mclip\u001b[39m\u001b[38;5;124m'\u001b[39m, a_min, a_max, out\u001b[38;5;241m=\u001b[39mout, \u001b[38;5;241m*\u001b[39m\u001b[38;5;241m*\u001b[39mkwargs)\n\u001b[0;32m-> 2172\u001b[0m \u001b[38;5;28;01mdef\u001b[39;00m \u001b[38;5;21m_sum_dispatcher\u001b[39m(a, axis\u001b[38;5;241m=\u001b[39m\u001b[38;5;28;01mNone\u001b[39;00m, dtype\u001b[38;5;241m=\u001b[39m\u001b[38;5;28;01mNone\u001b[39;00m, out\u001b[38;5;241m=\u001b[39m\u001b[38;5;28;01mNone\u001b[39;00m, keepdims\u001b[38;5;241m=\u001b[39m\u001b[38;5;28;01mNone\u001b[39;00m,\n\u001b[1;32m   2173\u001b[0m                     initial\u001b[38;5;241m=\u001b[39m\u001b[38;5;28;01mNone\u001b[39;00m, where\u001b[38;5;241m=\u001b[39m\u001b[38;5;28;01mNone\u001b[39;00m):\n\u001b[1;32m   2174\u001b[0m     \u001b[38;5;28;01mreturn\u001b[39;00m (a, out)\n\u001b[1;32m   2177\u001b[0m \u001b[38;5;129m@array_function_dispatch\u001b[39m(_sum_dispatcher)\n\u001b[1;32m   2178\u001b[0m \u001b[38;5;28;01mdef\u001b[39;00m \u001b[38;5;21msum\u001b[39m(a, axis\u001b[38;5;241m=\u001b[39m\u001b[38;5;28;01mNone\u001b[39;00m, dtype\u001b[38;5;241m=\u001b[39m\u001b[38;5;28;01mNone\u001b[39;00m, out\u001b[38;5;241m=\u001b[39m\u001b[38;5;28;01mNone\u001b[39;00m, keepdims\u001b[38;5;241m=\u001b[39mnp\u001b[38;5;241m.\u001b[39m_NoValue,\n\u001b[1;32m   2179\u001b[0m         initial\u001b[38;5;241m=\u001b[39mnp\u001b[38;5;241m.\u001b[39m_NoValue, where\u001b[38;5;241m=\u001b[39mnp\u001b[38;5;241m.\u001b[39m_NoValue):\n",
      "\u001b[0;31mKeyboardInterrupt\u001b[0m: "
     ]
    }
   ],
   "source": [
    "for name in mapped_datasets:\n",
    "    metadata = get_metadata(name)\n",
    "    states_fname, hpc_fname, pfc_fname = mapped_datasets[name]\n",
    "    logger.debug(\"Loading: {0}\".format(name))\n",
    "\n",
    "    if metadata[\"treatment\"] == 0 or metadata[\"treatment\"] == 1:\n",
    "        n_down = n_down_cbd\n",
    "    elif metadata[\"treatment\"] == 2 or metadata[\"treatment\"] == 3:\n",
    "        n_down = n_down_rgs\n",
    "    elif metadata[\"treatment\"] == 4:\n",
    "        n_down = n_down_os\n",
    "    \n",
    "    # Load the LFP data\n",
    "    lfpHPC = loadmat(hpc_fname)['HPC'].flatten()\n",
    "\n",
    "    # Load the states\n",
    "    hypno = loadmat(states_fname)['states'].flatten()\n",
    "    \n",
    "    # Skip if no REM epoch is detected\n",
    "    if(not (np.any(hypno == 5))):\n",
    "        logger.debug(\"No REM detected. Skipping.\")\n",
    "        continue\n",
    "    \n",
    "    # Detect phasic intervals\n",
    "    lfpHPC_down = preprocess(lfpHPC, n_down)\n",
    "    fname = os.path.join(OUTPUT_DIR, name)\n",
    "    print(f\"Saving to: {fname}\")\n",
    "    np.save(fname, lfpHPC_down) "
   ]
  },
  {
   "cell_type": "code",
   "execution_count": 27,
   "metadata": {},
   "outputs": [
    {
     "data": {
      "text/plain": [
       "array([0.0000000e+00, 4.0000000e-04, 8.0000000e-04, ..., 2.7011404e+03,\n",
       "       2.7011408e+03, 2.7011412e+03])"
      ]
     },
     "execution_count": 27,
     "metadata": {},
     "output_type": "execute_result"
    }
   ],
   "source": [
    "t"
   ]
  },
  {
   "cell_type": "code",
   "execution_count": 23,
   "metadata": {},
   "outputs": [
    {
     "data": {
      "application/vnd.jupyter.widget-view+json": {
       "model_id": "f2e13844b77f4ca798af9a9036aad122",
       "version_major": 2,
       "version_minor": 0
      },
      "text/plain": [
       "  0%|          | 0/539 [00:00<?, ?it/s]"
      ]
     },
     "metadata": {},
     "output_type": "display_data"
    },
    {
     "data": {
      "text/plain": [
       "<tqdm.auto.tqdm at 0x7fec5a21b350>"
      ]
     },
     "execution_count": 23,
     "metadata": {},
     "output_type": "execute_result"
    }
   ],
   "source": [
    "tqdm(mapped_datasets)"
   ]
  },
  {
   "cell_type": "markdown",
   "metadata": {},
   "source": [
    "## Access the HPC and PFC signals during phasic REM"
   ]
  },
  {
   "cell_type": "code",
   "execution_count": 32,
   "metadata": {},
   "outputs": [
    {
     "ename": "AttributeError",
     "evalue": "'numpy.ndarray' object has no attribute 'restrict'",
     "output_type": "error",
     "traceback": [
      "\u001b[0;31m---------------------------------------------------------------------------\u001b[0m",
      "\u001b[0;31mAttributeError\u001b[0m                            Traceback (most recent call last)",
      "Cell \u001b[0;32mIn[32], line 1\u001b[0m\n\u001b[0;32m----> 1\u001b[0m \u001b[43mlfpHPC_down\u001b[49m\u001b[38;5;241;43m.\u001b[39;49m\u001b[43mrestrict\u001b[49m(phasic_interval)\n",
      "\u001b[0;31mAttributeError\u001b[0m: 'numpy.ndarray' object has no attribute 'restrict'"
     ]
    }
   ],
   "source": [
    "lfp.restrict(phasic_interval)"
   ]
  },
  {
   "cell_type": "code",
   "execution_count": 20,
   "metadata": {},
   "outputs": [],
   "source": [
    "phrem_hpc = [lfp[\"HPC\"].restrict(phasic_interval[i]).to_numpy() for i in range(len(phasic_interval))]\n",
    "tonic_hpc = [lfp[\"HPC\"].restrict(tonic_interval[i]).to_numpy() for i in range(len(tonic_interval))]"
   ]
  },
  {
   "cell_type": "code",
   "execution_count": 24,
   "metadata": {},
   "outputs": [
    {
     "data": {
      "text/plain": [
       "[array([-226.95125111, -217.58033104, -198.25506026, ...,  -94.37276814,\n",
       "        -216.52844067, -190.42849516]),\n",
       " array([-357.54982828, -394.76025735, -339.96985809, ..., -200.31561612,\n",
       "        -230.31751253, -281.52736263]),\n",
       " array([ -39.15300095,  -44.30848611, -141.90788946, ..., -287.74691549,\n",
       "        -263.49530349, -289.73187494]),\n",
       " array([-331.68989302, -295.6511893 , -314.86898616, ..., -283.82479763,\n",
       "        -203.91310409, -315.64129598])]"
      ]
     },
     "execution_count": 24,
     "metadata": {},
     "output_type": "execute_result"
    }
   ],
   "source": [
    "phrem_hpc"
   ]
  },
  {
   "cell_type": "code",
   "execution_count": 21,
   "metadata": {},
   "outputs": [
    {
     "data": {
      "text/plain": [
       "'Rat5_SD8_HC_0_posttrial3'"
      ]
     },
     "execution_count": 21,
     "metadata": {},
     "output_type": "execute_result"
    }
   ],
   "source": [
    "name"
   ]
  },
  {
   "cell_type": "code",
   "execution_count": 25,
   "metadata": {},
   "outputs": [],
   "source": [
    "np.savez(name+'_phasic', *phrem_hpc)\n",
    "np.savez(name+'_tonic', *tonic_hpc)"
   ]
  },
  {
   "cell_type": "code",
   "execution_count": 31,
   "metadata": {},
   "outputs": [
    {
     "data": {
      "text/plain": [
       "[array([-226.95125111, -217.58033104, -198.25506026, ...,  -94.37276814,\n",
       "        -216.52844067, -190.42849516]),\n",
       " array([-357.54982828, -394.76025735, -339.96985809, ..., -200.31561612,\n",
       "        -230.31751253, -281.52736263]),\n",
       " array([ -39.15300095,  -44.30848611, -141.90788946, ..., -287.74691549,\n",
       "        -263.49530349, -289.73187494]),\n",
       " array([-331.68989302, -295.6511893 , -314.86898616, ..., -283.82479763,\n",
       "        -203.91310409, -315.64129598])]"
      ]
     },
     "execution_count": 31,
     "metadata": {},
     "output_type": "execute_result"
    }
   ],
   "source": [
    "data = np.load('Rat5_SD8_HC_0_posttrial3_phasic.npz')\n",
    "phrem = [data[key] for key in data]\n",
    "phrem"
   ]
  },
  {
   "cell_type": "markdown",
   "metadata": {},
   "source": [
    "## Access HPC and PFC signals during tonic REM"
   ]
  },
  {
   "cell_type": "code",
   "execution_count": 38,
   "metadata": {},
   "outputs": [
    {
     "data": {
      "text/plain": [
       "Time (s)           HPC       PFC\n",
       "----------  ----------  --------\n",
       "1331.0      -180.893    -93.2364\n",
       "1331.0004   -150.785    -69.5545\n",
       "1331.0008   -132.412    -70.9175\n",
       "1331.0012    -85.3764   -50.1542\n",
       "1331.0016    -79.2403   -50.5931\n",
       "1331.002     -75.6617   -49.3135\n",
       "1331.0024    -57.6323   -34.4635\n",
       "...\n",
       "2474.9976   -125.165     76.2955\n",
       "2474.998    -118.796     64.7644\n",
       "2474.9984     -4.49443  173.913\n",
       "2474.9988    -37.3338   133.221\n",
       "2474.9992   -137.777     25.3803\n",
       "2474.9996   -103.864     80.9616\n",
       "2475.0       -36.7785   134.176\n",
       "dtype: float64, shape: (479936, 2)"
      ]
     },
     "execution_count": 38,
     "metadata": {},
     "output_type": "execute_result"
    }
   ],
   "source": [
    "lfp.restrict(tonic_interval)"
   ]
  }
 ],
 "metadata": {
  "kernelspec": {
   "display_name": "phasic_tonic",
   "language": "python",
   "name": "python3"
  },
  "language_info": {
   "codemirror_mode": {
    "name": "ipython",
    "version": 3
   },
   "file_extension": ".py",
   "mimetype": "text/x-python",
   "name": "python",
   "nbconvert_exporter": "python",
   "pygments_lexer": "ipython3",
   "version": "3.12.4"
  }
 },
 "nbformat": 4,
 "nbformat_minor": 2
}
