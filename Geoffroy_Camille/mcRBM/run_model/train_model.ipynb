{
 "cells": [
  {
   "cell_type": "code",
   "execution_count": 1,
   "id": "90fda3a8-5eba-48f6-a835-aa001c0f35bc",
   "metadata": {},
   "outputs": [],
   "source": [
    "import os\n",
    "os.chdir('/teamspace/studios/this_studio/mouse-sleep-analysis/scripts')\n",
    "import os\n",
    "import argparse\n",
    "import numpy as np\n",
    "from mcRBM import mcRBM"
   ]
  },
  {
   "cell_type": "code",
   "execution_count": 2,
   "id": "28626747-750c-4a23-b0aa-892455b117e4",
   "metadata": {
    "tags": []
   },
   "outputs": [],
   "source": [
    "root_dir = '/teamspace/studios/this_studio/mouse-sleep-analysis/configuration_files/'\n",
    "expFile = 'exp_details'\n",
    "modelFile = 'input_configuration'"
   ]
  },
  {
   "cell_type": "code",
   "execution_count": 3,
   "id": "5a66b5b5-b874-41fb-8b08-ec1e6fd96eed",
   "metadata": {},
   "outputs": [],
   "source": [
    "model = mcRBM(root_dir, expFile, modelFile, 0)"
   ]
  },
  {
   "cell_type": "markdown",
   "id": "0fa0b060-7a7b-46de-9f54-9befd75fe8de",
   "metadata": {},
   "source": [
    "## Load experiment data"
   ]
  },
  {
   "cell_type": "code",
   "execution_count": 4,
   "id": "a6ec4591-f7a4-44e2-9f35-93c3dacc1c15",
   "metadata": {
    "scrolled": true
   },
   "outputs": [
    {
     "name": "stdout",
     "output_type": "stream",
     "text": [
      "('initial size: ', (144000, 10))\n"
     ]
    }
   ],
   "source": [
    "model.loadData()"
   ]
  },
  {
   "cell_type": "markdown",
   "id": "ecdede72-4f8e-4769-b329-6f59593300f2",
   "metadata": {},
   "source": [
    "## Trim for gpu"
   ]
  },
  {
   "cell_type": "code",
   "execution_count": 5,
   "id": "710da3d1-aae1-4269-b99d-8f3bf13e7db9",
   "metadata": {},
   "outputs": [],
   "source": [
    "model.d, model.obsKeys, model.epochTime = model.dpp.trimForGPU(model.d, model.obsKeys, \n",
    "                                                               model.epochTime, model.batch_size)"
   ]
  },
  {
   "cell_type": "code",
   "execution_count": 6,
   "id": "f829c240-09da-4b5c-9ed7-607a837b4eaa",
   "metadata": {},
   "outputs": [],
   "source": [
    "np.savez(model.saveDir + '/init_data.npz', data=model.d, obsKeys=model.obsKeys, epochTime=model.epochTime)"
   ]
  },
  {
   "cell_type": "markdown",
   "id": "e628c624-7611-49aa-9d78-6d3dd5110218",
   "metadata": {},
   "source": [
    "## Subsetting and scaling"
   ]
  },
  {
   "cell_type": "code",
   "execution_count": 7,
   "id": "efa3eb4e-c8e4-42b3-a07d-d06272a4eb02",
   "metadata": {},
   "outputs": [
    {
     "name": "stdout",
     "output_type": "stream",
     "text": [
      "Scaling...\n"
     ]
    }
   ],
   "source": [
    "model.d, model.obsKeys, model.dMean, model.dStd, model.dMinRow, model.dMaxRow, model.dMin, model.dMax = \\\n",
    "    model.dpp.preprocAndScaleData(model.d, model.obsKeys, model.logFlag, model.meanSubtructionFlag, model.scaleFlag,\n",
    "                                  model.scaling, model.doPCA, model.whitenFlag, model.rescaleFlag, model.rescaling,\n",
    "                                  'minmaxFileInit', model.saveDir)"
   ]
  },
  {
   "cell_type": "code",
   "execution_count": 1,
   "id": "95bfc2a1-5a0f-4c57-8914-40792ab6faa4",
   "metadata": {
    "scrolled": true,
    "tags": []
   },
   "outputs": [],
   "source": [
    "model.train()"
   ]
  }
 ],
 "metadata": {
  "kernelspec": {
   "display_name": "Python 3 (ipykernel)",
   "language": "python",
   "name": "python3"
  },
  "language_info": {
   "codemirror_mode": {
    "name": "ipython",
    "version": 3
   },
   "file_extension": ".py",
   "mimetype": "text/x-python",
   "name": "python",
   "nbconvert_exporter": "python",
   "pygments_lexer": "ipython3",
   "version": "3.10.10"
  }
 },
 "nbformat": 4,
 "nbformat_minor": 5
}
