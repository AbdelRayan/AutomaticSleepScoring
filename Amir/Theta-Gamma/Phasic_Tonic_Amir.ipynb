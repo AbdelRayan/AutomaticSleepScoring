{
  "nbformat": 4,
  "nbformat_minor": 0,
  "metadata": {
    "colab": {
      "provenance": []
    },
    "kernelspec": {
      "name": "python3",
      "display_name": "Python 3"
    },
    "language_info": {
      "name": "python"
    }
  },
  "cells": [
    {
      "cell_type": "markdown",
      "source": [
        "# Install necessary libraries"
      ],
      "metadata": {
        "id": "tCJQWOQtcLLS"
      }
    },
    {
      "cell_type": "code",
      "source": [
        "!pip install emd"
      ],
      "metadata": {
        "colab": {
          "base_uri": "https://localhost:8080/"
        },
        "id": "TfwDOOT_-G_U",
        "outputId": "9acf3cf5-3223-46b7-f28f-958ab308924d"
      },
      "execution_count": 11,
      "outputs": [
        {
          "output_type": "stream",
          "name": "stderr",
          "text": [
            "/usr/local/lib/python3.10/dist-packages/ipykernel/ipkernel.py:283: DeprecationWarning: `should_run_async` will not call `transform_cell` automatically in the future. Please pass the result to `transformed_cell` argument and any exception that happen during thetransform in `preprocessing_exc_tuple` in IPython 7.17 and above.\n",
            "  and should_run_async(code)\n"
          ]
        },
        {
          "output_type": "stream",
          "name": "stdout",
          "text": [
            "Requirement already satisfied: emd in /usr/local/lib/python3.10/dist-packages (0.7.0)\n",
            "Requirement already satisfied: numpy>=1.19.3 in /usr/local/lib/python3.10/dist-packages (from emd) (1.26.4)\n",
            "Requirement already satisfied: scipy in /usr/local/lib/python3.10/dist-packages (from emd) (1.13.1)\n",
            "Requirement already satisfied: sparse in /usr/local/lib/python3.10/dist-packages (from emd) (0.15.4)\n",
            "Requirement already satisfied: matplotlib in /usr/local/lib/python3.10/dist-packages (from emd) (3.7.1)\n",
            "Requirement already satisfied: pandas in /usr/local/lib/python3.10/dist-packages (from emd) (2.1.4)\n",
            "Requirement already satisfied: pyyaml>=5.1 in /usr/local/lib/python3.10/dist-packages (from emd) (6.0.2)\n",
            "Requirement already satisfied: joblib in /usr/local/lib/python3.10/dist-packages (from emd) (1.4.2)\n",
            "Requirement already satisfied: tabulate in /usr/local/lib/python3.10/dist-packages (from emd) (0.9.0)\n",
            "Requirement already satisfied: dcor in /usr/local/lib/python3.10/dist-packages (from emd) (0.6)\n",
            "Requirement already satisfied: numba>=0.51 in /usr/local/lib/python3.10/dist-packages (from dcor->emd) (0.60.0)\n",
            "Requirement already satisfied: contourpy>=1.0.1 in /usr/local/lib/python3.10/dist-packages (from matplotlib->emd) (1.3.0)\n",
            "Requirement already satisfied: cycler>=0.10 in /usr/local/lib/python3.10/dist-packages (from matplotlib->emd) (0.12.1)\n",
            "Requirement already satisfied: fonttools>=4.22.0 in /usr/local/lib/python3.10/dist-packages (from matplotlib->emd) (4.53.1)\n",
            "Requirement already satisfied: kiwisolver>=1.0.1 in /usr/local/lib/python3.10/dist-packages (from matplotlib->emd) (1.4.5)\n",
            "Requirement already satisfied: packaging>=20.0 in /usr/local/lib/python3.10/dist-packages (from matplotlib->emd) (24.1)\n",
            "Requirement already satisfied: pillow>=6.2.0 in /usr/local/lib/python3.10/dist-packages (from matplotlib->emd) (9.4.0)\n",
            "Requirement already satisfied: pyparsing>=2.3.1 in /usr/local/lib/python3.10/dist-packages (from matplotlib->emd) (3.1.4)\n",
            "Requirement already satisfied: python-dateutil>=2.7 in /usr/local/lib/python3.10/dist-packages (from matplotlib->emd) (2.8.2)\n",
            "Requirement already satisfied: pytz>=2020.1 in /usr/local/lib/python3.10/dist-packages (from pandas->emd) (2024.1)\n",
            "Requirement already satisfied: tzdata>=2022.1 in /usr/local/lib/python3.10/dist-packages (from pandas->emd) (2024.1)\n",
            "Requirement already satisfied: llvmlite<0.44,>=0.43.0dev0 in /usr/local/lib/python3.10/dist-packages (from numba>=0.51->dcor->emd) (0.43.0)\n",
            "Requirement already satisfied: six>=1.5 in /usr/local/lib/python3.10/dist-packages (from python-dateutil>=2.7->matplotlib->emd) (1.16.0)\n"
          ]
        }
      ]
    },
    {
      "cell_type": "code",
      "source": [
        "!pip install neurodsp"
      ],
      "metadata": {
        "colab": {
          "base_uri": "https://localhost:8080/"
        },
        "id": "5G6YvKi-b7Yg",
        "outputId": "22f770b6-0255-427d-903b-3202749fa9f2"
      },
      "execution_count": 2,
      "outputs": [
        {
          "output_type": "stream",
          "name": "stdout",
          "text": [
            "Collecting neurodsp\n",
            "  Downloading neurodsp-2.2.1-py3-none-any.whl.metadata (8.0 kB)\n",
            "Requirement already satisfied: numpy in /usr/local/lib/python3.10/dist-packages (from neurodsp) (1.26.4)\n",
            "Requirement already satisfied: scipy in /usr/local/lib/python3.10/dist-packages (from neurodsp) (1.13.1)\n",
            "Requirement already satisfied: matplotlib in /usr/local/lib/python3.10/dist-packages (from neurodsp) (3.7.1)\n",
            "Requirement already satisfied: contourpy>=1.0.1 in /usr/local/lib/python3.10/dist-packages (from matplotlib->neurodsp) (1.3.0)\n",
            "Requirement already satisfied: cycler>=0.10 in /usr/local/lib/python3.10/dist-packages (from matplotlib->neurodsp) (0.12.1)\n",
            "Requirement already satisfied: fonttools>=4.22.0 in /usr/local/lib/python3.10/dist-packages (from matplotlib->neurodsp) (4.53.1)\n",
            "Requirement already satisfied: kiwisolver>=1.0.1 in /usr/local/lib/python3.10/dist-packages (from matplotlib->neurodsp) (1.4.5)\n",
            "Requirement already satisfied: packaging>=20.0 in /usr/local/lib/python3.10/dist-packages (from matplotlib->neurodsp) (24.1)\n",
            "Requirement already satisfied: pillow>=6.2.0 in /usr/local/lib/python3.10/dist-packages (from matplotlib->neurodsp) (9.4.0)\n",
            "Requirement already satisfied: pyparsing>=2.3.1 in /usr/local/lib/python3.10/dist-packages (from matplotlib->neurodsp) (3.1.4)\n",
            "Requirement already satisfied: python-dateutil>=2.7 in /usr/local/lib/python3.10/dist-packages (from matplotlib->neurodsp) (2.8.2)\n",
            "Requirement already satisfied: six>=1.5 in /usr/local/lib/python3.10/dist-packages (from python-dateutil>=2.7->matplotlib->neurodsp) (1.16.0)\n",
            "Downloading neurodsp-2.2.1-py3-none-any.whl (116 kB)\n",
            "\u001b[2K   \u001b[90m━━━━━━━━━━━━━━━━━━━━━━━━━━━━━━━━━━━━━━━━\u001b[0m \u001b[32m116.3/116.3 kB\u001b[0m \u001b[31m950.4 kB/s\u001b[0m eta \u001b[36m0:00:00\u001b[0m\n",
            "\u001b[?25hInstalling collected packages: neurodsp\n",
            "Successfully installed neurodsp-2.2.1\n"
          ]
        }
      ]
    },
    {
      "cell_type": "code",
      "source": [
        "!pip install yasa"
      ],
      "metadata": {
        "colab": {
          "base_uri": "https://localhost:8080/"
        },
        "id": "ge7asorU6jA6",
        "outputId": "fd32cd0f-a6d3-47b2-d791-128ba7edeb58"
      },
      "execution_count": 3,
      "outputs": [
        {
          "output_type": "stream",
          "name": "stdout",
          "text": [
            "Collecting yasa\n",
            "  Downloading yasa-0.6.5-py2.py3-none-any.whl.metadata (1.3 kB)\n",
            "Requirement already satisfied: numpy>=1.18.1 in /usr/local/lib/python3.10/dist-packages (from yasa) (1.26.4)\n",
            "Requirement already satisfied: scipy in /usr/local/lib/python3.10/dist-packages (from yasa) (1.13.1)\n",
            "Requirement already satisfied: pandas in /usr/local/lib/python3.10/dist-packages (from yasa) (2.1.4)\n",
            "Requirement already satisfied: matplotlib in /usr/local/lib/python3.10/dist-packages (from yasa) (3.7.1)\n",
            "Requirement already satisfied: seaborn in /usr/local/lib/python3.10/dist-packages (from yasa) (0.13.1)\n",
            "Collecting mne>=1.3 (from yasa)\n",
            "  Downloading mne-1.8.0-py3-none-any.whl.metadata (21 kB)\n",
            "Requirement already satisfied: numba>=0.57.1 in /usr/local/lib/python3.10/dist-packages (from yasa) (0.60.0)\n",
            "Collecting antropy (from yasa)\n",
            "  Downloading antropy-0.1.6.tar.gz (17 kB)\n",
            "  Installing build dependencies ... \u001b[?25l\u001b[?25hdone\n",
            "  Getting requirements to build wheel ... \u001b[?25l\u001b[?25hdone\n",
            "  Preparing metadata (pyproject.toml) ... \u001b[?25l\u001b[?25hdone\n",
            "Requirement already satisfied: scikit-learn in /usr/local/lib/python3.10/dist-packages (from yasa) (1.3.2)\n",
            "Collecting tensorpac>=0.6.5 (from yasa)\n",
            "  Downloading tensorpac-0.6.5-py3-none-any.whl.metadata (3.7 kB)\n",
            "Collecting pyriemann>=0.2.7 (from yasa)\n",
            "  Downloading pyriemann-0.6-py2.py3-none-any.whl.metadata (8.3 kB)\n",
            "Collecting sleepecg>=0.5.0 (from yasa)\n",
            "  Downloading sleepecg-0.5.8-cp310-cp310-manylinux_2_5_x86_64.manylinux1_x86_64.manylinux_2_17_x86_64.manylinux2014_x86_64.whl.metadata (5.8 kB)\n",
            "Collecting lspopt (from yasa)\n",
            "  Downloading lspopt-1.3.0-py2.py3-none-any.whl.metadata (6.4 kB)\n",
            "Requirement already satisfied: ipywidgets in /usr/local/lib/python3.10/dist-packages (from yasa) (7.7.1)\n",
            "Requirement already satisfied: joblib in /usr/local/lib/python3.10/dist-packages (from yasa) (1.4.2)\n",
            "Requirement already satisfied: lightgbm in /usr/local/lib/python3.10/dist-packages (from yasa) (4.4.0)\n",
            "Requirement already satisfied: decorator in /usr/local/lib/python3.10/dist-packages (from mne>=1.3->yasa) (4.4.2)\n",
            "Requirement already satisfied: jinja2 in /usr/local/lib/python3.10/dist-packages (from mne>=1.3->yasa) (3.1.4)\n",
            "Requirement already satisfied: lazy-loader>=0.3 in /usr/local/lib/python3.10/dist-packages (from mne>=1.3->yasa) (0.4)\n",
            "Requirement already satisfied: packaging in /usr/local/lib/python3.10/dist-packages (from mne>=1.3->yasa) (24.1)\n",
            "Requirement already satisfied: pooch>=1.5 in /usr/local/lib/python3.10/dist-packages (from mne>=1.3->yasa) (1.8.2)\n",
            "Requirement already satisfied: tqdm in /usr/local/lib/python3.10/dist-packages (from mne>=1.3->yasa) (4.66.5)\n",
            "Requirement already satisfied: contourpy>=1.0.1 in /usr/local/lib/python3.10/dist-packages (from matplotlib->yasa) (1.3.0)\n",
            "Requirement already satisfied: cycler>=0.10 in /usr/local/lib/python3.10/dist-packages (from matplotlib->yasa) (0.12.1)\n",
            "Requirement already satisfied: fonttools>=4.22.0 in /usr/local/lib/python3.10/dist-packages (from matplotlib->yasa) (4.53.1)\n",
            "Requirement already satisfied: kiwisolver>=1.0.1 in /usr/local/lib/python3.10/dist-packages (from matplotlib->yasa) (1.4.5)\n",
            "Requirement already satisfied: pillow>=6.2.0 in /usr/local/lib/python3.10/dist-packages (from matplotlib->yasa) (9.4.0)\n",
            "Requirement already satisfied: pyparsing>=2.3.1 in /usr/local/lib/python3.10/dist-packages (from matplotlib->yasa) (3.1.4)\n",
            "Requirement already satisfied: python-dateutil>=2.7 in /usr/local/lib/python3.10/dist-packages (from matplotlib->yasa) (2.8.2)\n",
            "Requirement already satisfied: llvmlite<0.44,>=0.43.0dev0 in /usr/local/lib/python3.10/dist-packages (from numba>=0.57.1->yasa) (0.43.0)\n",
            "Requirement already satisfied: threadpoolctl>=2.0.0 in /usr/local/lib/python3.10/dist-packages (from scikit-learn->yasa) (3.5.0)\n",
            "Requirement already satisfied: PyYAML>=5.4.0 in /usr/local/lib/python3.10/dist-packages (from sleepecg>=0.5.0->yasa) (6.0.2)\n",
            "Requirement already satisfied: requests>=2.25.0 in /usr/local/lib/python3.10/dist-packages (from sleepecg>=0.5.0->yasa) (2.32.3)\n",
            "Collecting stochastic (from antropy->yasa)\n",
            "  Downloading stochastic-0.7.0-py3-none-any.whl.metadata (6.1 kB)\n",
            "Requirement already satisfied: ipykernel>=4.5.1 in /usr/local/lib/python3.10/dist-packages (from ipywidgets->yasa) (5.5.6)\n",
            "Requirement already satisfied: ipython-genutils~=0.2.0 in /usr/local/lib/python3.10/dist-packages (from ipywidgets->yasa) (0.2.0)\n",
            "Requirement already satisfied: traitlets>=4.3.1 in /usr/local/lib/python3.10/dist-packages (from ipywidgets->yasa) (5.7.1)\n",
            "Requirement already satisfied: widgetsnbextension~=3.6.0 in /usr/local/lib/python3.10/dist-packages (from ipywidgets->yasa) (3.6.8)\n",
            "Requirement already satisfied: ipython>=4.0.0 in /usr/local/lib/python3.10/dist-packages (from ipywidgets->yasa) (7.34.0)\n",
            "Requirement already satisfied: jupyterlab-widgets>=1.0.0 in /usr/local/lib/python3.10/dist-packages (from ipywidgets->yasa) (3.0.13)\n",
            "Requirement already satisfied: pytz>=2020.1 in /usr/local/lib/python3.10/dist-packages (from pandas->yasa) (2024.1)\n",
            "Requirement already satisfied: tzdata>=2022.1 in /usr/local/lib/python3.10/dist-packages (from pandas->yasa) (2024.1)\n",
            "Requirement already satisfied: jupyter-client in /usr/local/lib/python3.10/dist-packages (from ipykernel>=4.5.1->ipywidgets->yasa) (6.1.12)\n",
            "Requirement already satisfied: tornado>=4.2 in /usr/local/lib/python3.10/dist-packages (from ipykernel>=4.5.1->ipywidgets->yasa) (6.3.3)\n",
            "Requirement already satisfied: setuptools>=18.5 in /usr/local/lib/python3.10/dist-packages (from ipython>=4.0.0->ipywidgets->yasa) (71.0.4)\n",
            "Collecting jedi>=0.16 (from ipython>=4.0.0->ipywidgets->yasa)\n",
            "  Using cached jedi-0.19.1-py2.py3-none-any.whl.metadata (22 kB)\n",
            "Requirement already satisfied: pickleshare in /usr/local/lib/python3.10/dist-packages (from ipython>=4.0.0->ipywidgets->yasa) (0.7.5)\n",
            "Requirement already satisfied: prompt-toolkit!=3.0.0,!=3.0.1,<3.1.0,>=2.0.0 in /usr/local/lib/python3.10/dist-packages (from ipython>=4.0.0->ipywidgets->yasa) (3.0.47)\n",
            "Requirement already satisfied: pygments in /usr/local/lib/python3.10/dist-packages (from ipython>=4.0.0->ipywidgets->yasa) (2.16.1)\n",
            "Requirement already satisfied: backcall in /usr/local/lib/python3.10/dist-packages (from ipython>=4.0.0->ipywidgets->yasa) (0.2.0)\n",
            "Requirement already satisfied: matplotlib-inline in /usr/local/lib/python3.10/dist-packages (from ipython>=4.0.0->ipywidgets->yasa) (0.1.7)\n",
            "Requirement already satisfied: pexpect>4.3 in /usr/local/lib/python3.10/dist-packages (from ipython>=4.0.0->ipywidgets->yasa) (4.9.0)\n",
            "Requirement already satisfied: platformdirs>=2.5.0 in /usr/local/lib/python3.10/dist-packages (from pooch>=1.5->mne>=1.3->yasa) (4.2.2)\n",
            "Requirement already satisfied: six>=1.5 in /usr/local/lib/python3.10/dist-packages (from python-dateutil>=2.7->matplotlib->yasa) (1.16.0)\n",
            "Requirement already satisfied: charset-normalizer<4,>=2 in /usr/local/lib/python3.10/dist-packages (from requests>=2.25.0->sleepecg>=0.5.0->yasa) (3.3.2)\n",
            "Requirement already satisfied: idna<4,>=2.5 in /usr/local/lib/python3.10/dist-packages (from requests>=2.25.0->sleepecg>=0.5.0->yasa) (3.8)\n",
            "Requirement already satisfied: urllib3<3,>=1.21.1 in /usr/local/lib/python3.10/dist-packages (from requests>=2.25.0->sleepecg>=0.5.0->yasa) (2.0.7)\n",
            "Requirement already satisfied: certifi>=2017.4.17 in /usr/local/lib/python3.10/dist-packages (from requests>=2.25.0->sleepecg>=0.5.0->yasa) (2024.7.4)\n",
            "Requirement already satisfied: notebook>=4.4.1 in /usr/local/lib/python3.10/dist-packages (from widgetsnbextension~=3.6.0->ipywidgets->yasa) (6.5.5)\n",
            "Requirement already satisfied: MarkupSafe>=2.0 in /usr/local/lib/python3.10/dist-packages (from jinja2->mne>=1.3->yasa) (2.1.5)\n",
            "Requirement already satisfied: parso<0.9.0,>=0.8.3 in /usr/local/lib/python3.10/dist-packages (from jedi>=0.16->ipython>=4.0.0->ipywidgets->yasa) (0.8.4)\n",
            "Requirement already satisfied: pyzmq<25,>=17 in /usr/local/lib/python3.10/dist-packages (from notebook>=4.4.1->widgetsnbextension~=3.6.0->ipywidgets->yasa) (24.0.1)\n",
            "Requirement already satisfied: argon2-cffi in /usr/local/lib/python3.10/dist-packages (from notebook>=4.4.1->widgetsnbextension~=3.6.0->ipywidgets->yasa) (23.1.0)\n",
            "Requirement already satisfied: jupyter-core>=4.6.1 in /usr/local/lib/python3.10/dist-packages (from notebook>=4.4.1->widgetsnbextension~=3.6.0->ipywidgets->yasa) (5.7.2)\n",
            "Requirement already satisfied: nbformat in /usr/local/lib/python3.10/dist-packages (from notebook>=4.4.1->widgetsnbextension~=3.6.0->ipywidgets->yasa) (5.10.4)\n",
            "Requirement already satisfied: nbconvert>=5 in /usr/local/lib/python3.10/dist-packages (from notebook>=4.4.1->widgetsnbextension~=3.6.0->ipywidgets->yasa) (6.5.4)\n",
            "Requirement already satisfied: nest-asyncio>=1.5 in /usr/local/lib/python3.10/dist-packages (from notebook>=4.4.1->widgetsnbextension~=3.6.0->ipywidgets->yasa) (1.6.0)\n",
            "Requirement already satisfied: Send2Trash>=1.8.0 in /usr/local/lib/python3.10/dist-packages (from notebook>=4.4.1->widgetsnbextension~=3.6.0->ipywidgets->yasa) (1.8.3)\n",
            "Requirement already satisfied: terminado>=0.8.3 in /usr/local/lib/python3.10/dist-packages (from notebook>=4.4.1->widgetsnbextension~=3.6.0->ipywidgets->yasa) (0.18.1)\n",
            "Requirement already satisfied: prometheus-client in /usr/local/lib/python3.10/dist-packages (from notebook>=4.4.1->widgetsnbextension~=3.6.0->ipywidgets->yasa) (0.20.0)\n",
            "Requirement already satisfied: nbclassic>=0.4.7 in /usr/local/lib/python3.10/dist-packages (from notebook>=4.4.1->widgetsnbextension~=3.6.0->ipywidgets->yasa) (1.1.0)\n",
            "Requirement already satisfied: ptyprocess>=0.5 in /usr/local/lib/python3.10/dist-packages (from pexpect>4.3->ipython>=4.0.0->ipywidgets->yasa) (0.7.0)\n",
            "Requirement already satisfied: wcwidth in /usr/local/lib/python3.10/dist-packages (from prompt-toolkit!=3.0.0,!=3.0.1,<3.1.0,>=2.0.0->ipython>=4.0.0->ipywidgets->yasa) (0.2.13)\n",
            "Requirement already satisfied: notebook-shim>=0.2.3 in /usr/local/lib/python3.10/dist-packages (from nbclassic>=0.4.7->notebook>=4.4.1->widgetsnbextension~=3.6.0->ipywidgets->yasa) (0.2.4)\n",
            "Requirement already satisfied: lxml in /usr/local/lib/python3.10/dist-packages (from nbconvert>=5->notebook>=4.4.1->widgetsnbextension~=3.6.0->ipywidgets->yasa) (4.9.4)\n",
            "Requirement already satisfied: beautifulsoup4 in /usr/local/lib/python3.10/dist-packages (from nbconvert>=5->notebook>=4.4.1->widgetsnbextension~=3.6.0->ipywidgets->yasa) (4.12.3)\n",
            "Requirement already satisfied: bleach in /usr/local/lib/python3.10/dist-packages (from nbconvert>=5->notebook>=4.4.1->widgetsnbextension~=3.6.0->ipywidgets->yasa) (6.1.0)\n",
            "Requirement already satisfied: defusedxml in /usr/local/lib/python3.10/dist-packages (from nbconvert>=5->notebook>=4.4.1->widgetsnbextension~=3.6.0->ipywidgets->yasa) (0.7.1)\n",
            "Requirement already satisfied: entrypoints>=0.2.2 in /usr/local/lib/python3.10/dist-packages (from nbconvert>=5->notebook>=4.4.1->widgetsnbextension~=3.6.0->ipywidgets->yasa) (0.4)\n",
            "Requirement already satisfied: jupyterlab-pygments in /usr/local/lib/python3.10/dist-packages (from nbconvert>=5->notebook>=4.4.1->widgetsnbextension~=3.6.0->ipywidgets->yasa) (0.3.0)\n",
            "Requirement already satisfied: mistune<2,>=0.8.1 in /usr/local/lib/python3.10/dist-packages (from nbconvert>=5->notebook>=4.4.1->widgetsnbextension~=3.6.0->ipywidgets->yasa) (0.8.4)\n",
            "Requirement already satisfied: nbclient>=0.5.0 in /usr/local/lib/python3.10/dist-packages (from nbconvert>=5->notebook>=4.4.1->widgetsnbextension~=3.6.0->ipywidgets->yasa) (0.10.0)\n",
            "Requirement already satisfied: pandocfilters>=1.4.1 in /usr/local/lib/python3.10/dist-packages (from nbconvert>=5->notebook>=4.4.1->widgetsnbextension~=3.6.0->ipywidgets->yasa) (1.5.1)\n",
            "Requirement already satisfied: tinycss2 in /usr/local/lib/python3.10/dist-packages (from nbconvert>=5->notebook>=4.4.1->widgetsnbextension~=3.6.0->ipywidgets->yasa) (1.3.0)\n",
            "Requirement already satisfied: fastjsonschema>=2.15 in /usr/local/lib/python3.10/dist-packages (from nbformat->notebook>=4.4.1->widgetsnbextension~=3.6.0->ipywidgets->yasa) (2.20.0)\n",
            "Requirement already satisfied: jsonschema>=2.6 in /usr/local/lib/python3.10/dist-packages (from nbformat->notebook>=4.4.1->widgetsnbextension~=3.6.0->ipywidgets->yasa) (4.23.0)\n",
            "Requirement already satisfied: argon2-cffi-bindings in /usr/local/lib/python3.10/dist-packages (from argon2-cffi->notebook>=4.4.1->widgetsnbextension~=3.6.0->ipywidgets->yasa) (21.2.0)\n",
            "Requirement already satisfied: attrs>=22.2.0 in /usr/local/lib/python3.10/dist-packages (from jsonschema>=2.6->nbformat->notebook>=4.4.1->widgetsnbextension~=3.6.0->ipywidgets->yasa) (24.2.0)\n",
            "Requirement already satisfied: jsonschema-specifications>=2023.03.6 in /usr/local/lib/python3.10/dist-packages (from jsonschema>=2.6->nbformat->notebook>=4.4.1->widgetsnbextension~=3.6.0->ipywidgets->yasa) (2023.12.1)\n",
            "Requirement already satisfied: referencing>=0.28.4 in /usr/local/lib/python3.10/dist-packages (from jsonschema>=2.6->nbformat->notebook>=4.4.1->widgetsnbextension~=3.6.0->ipywidgets->yasa) (0.35.1)\n",
            "Requirement already satisfied: rpds-py>=0.7.1 in /usr/local/lib/python3.10/dist-packages (from jsonschema>=2.6->nbformat->notebook>=4.4.1->widgetsnbextension~=3.6.0->ipywidgets->yasa) (0.20.0)\n",
            "Requirement already satisfied: jupyter-server<3,>=1.8 in /usr/local/lib/python3.10/dist-packages (from notebook-shim>=0.2.3->nbclassic>=0.4.7->notebook>=4.4.1->widgetsnbextension~=3.6.0->ipywidgets->yasa) (1.24.0)\n",
            "Requirement already satisfied: cffi>=1.0.1 in /usr/local/lib/python3.10/dist-packages (from argon2-cffi-bindings->argon2-cffi->notebook>=4.4.1->widgetsnbextension~=3.6.0->ipywidgets->yasa) (1.17.0)\n",
            "Requirement already satisfied: soupsieve>1.2 in /usr/local/lib/python3.10/dist-packages (from beautifulsoup4->nbconvert>=5->notebook>=4.4.1->widgetsnbextension~=3.6.0->ipywidgets->yasa) (2.6)\n",
            "Requirement already satisfied: webencodings in /usr/local/lib/python3.10/dist-packages (from bleach->nbconvert>=5->notebook>=4.4.1->widgetsnbextension~=3.6.0->ipywidgets->yasa) (0.5.1)\n",
            "Requirement already satisfied: pycparser in /usr/local/lib/python3.10/dist-packages (from cffi>=1.0.1->argon2-cffi-bindings->argon2-cffi->notebook>=4.4.1->widgetsnbextension~=3.6.0->ipywidgets->yasa) (2.22)\n",
            "Requirement already satisfied: anyio<4,>=3.1.0 in /usr/local/lib/python3.10/dist-packages (from jupyter-server<3,>=1.8->notebook-shim>=0.2.3->nbclassic>=0.4.7->notebook>=4.4.1->widgetsnbextension~=3.6.0->ipywidgets->yasa) (3.7.1)\n",
            "Requirement already satisfied: websocket-client in /usr/local/lib/python3.10/dist-packages (from jupyter-server<3,>=1.8->notebook-shim>=0.2.3->nbclassic>=0.4.7->notebook>=4.4.1->widgetsnbextension~=3.6.0->ipywidgets->yasa) (1.8.0)\n",
            "Requirement already satisfied: sniffio>=1.1 in /usr/local/lib/python3.10/dist-packages (from anyio<4,>=3.1.0->jupyter-server<3,>=1.8->notebook-shim>=0.2.3->nbclassic>=0.4.7->notebook>=4.4.1->widgetsnbextension~=3.6.0->ipywidgets->yasa) (1.3.1)\n",
            "Requirement already satisfied: exceptiongroup in /usr/local/lib/python3.10/dist-packages (from anyio<4,>=3.1.0->jupyter-server<3,>=1.8->notebook-shim>=0.2.3->nbclassic>=0.4.7->notebook>=4.4.1->widgetsnbextension~=3.6.0->ipywidgets->yasa) (1.2.2)\n",
            "Downloading yasa-0.6.5-py2.py3-none-any.whl (33.8 MB)\n",
            "\u001b[2K   \u001b[90m━━━━━━━━━━━━━━━━━━━━━━━━━━━━━━━━━━━━━━━━\u001b[0m \u001b[32m33.8/33.8 MB\u001b[0m \u001b[31m19.5 MB/s\u001b[0m eta \u001b[36m0:00:00\u001b[0m\n",
            "\u001b[?25hDownloading mne-1.8.0-py3-none-any.whl (7.4 MB)\n",
            "\u001b[2K   \u001b[90m━━━━━━━━━━━━━━━━━━━━━━━━━━━━━━━━━━━━━━━━\u001b[0m \u001b[32m7.4/7.4 MB\u001b[0m \u001b[31m23.7 MB/s\u001b[0m eta \u001b[36m0:00:00\u001b[0m\n",
            "\u001b[?25hDownloading pyriemann-0.6-py2.py3-none-any.whl (111 kB)\n",
            "\u001b[2K   \u001b[90m━━━━━━━━━━━━━━━━━━━━━━━━━━━━━━━━━━━━━━━━\u001b[0m \u001b[32m111.7/111.7 kB\u001b[0m \u001b[31m3.3 MB/s\u001b[0m eta \u001b[36m0:00:00\u001b[0m\n",
            "\u001b[?25hDownloading sleepecg-0.5.8-cp310-cp310-manylinux_2_5_x86_64.manylinux1_x86_64.manylinux_2_17_x86_64.manylinux2014_x86_64.whl (424 kB)\n",
            "\u001b[2K   \u001b[90m━━━━━━━━━━━━━━━━━━━━━━━━━━━━━━━━━━━━━━━━\u001b[0m \u001b[32m424.2/424.2 kB\u001b[0m \u001b[31m11.8 MB/s\u001b[0m eta \u001b[36m0:00:00\u001b[0m\n",
            "\u001b[?25hDownloading tensorpac-0.6.5-py3-none-any.whl (423 kB)\n",
            "\u001b[2K   \u001b[90m━━━━━━━━━━━━━━━━━━━━━━━━━━━━━━━━━━━━━━━━\u001b[0m \u001b[32m423.6/423.6 kB\u001b[0m \u001b[31m25.8 MB/s\u001b[0m eta \u001b[36m0:00:00\u001b[0m\n",
            "\u001b[?25hDownloading lspopt-1.3.0-py2.py3-none-any.whl (35 kB)\n",
            "Downloading stochastic-0.7.0-py3-none-any.whl (48 kB)\n",
            "\u001b[2K   \u001b[90m━━━━━━━━━━━━━━━━━━━━━━━━━━━━━━━━━━━━━━━━\u001b[0m \u001b[32m48.1/48.1 kB\u001b[0m \u001b[31m3.0 MB/s\u001b[0m eta \u001b[36m0:00:00\u001b[0m\n",
            "\u001b[?25hUsing cached jedi-0.19.1-py2.py3-none-any.whl (1.6 MB)\n",
            "Building wheels for collected packages: antropy\n",
            "  Building wheel for antropy (pyproject.toml) ... \u001b[?25l\u001b[?25hdone\n",
            "  Created wheel for antropy: filename=antropy-0.1.6-py3-none-any.whl size=16879 sha256=70d118f4ad28c1e3fe956c4a7dccc1e393d244d9b4cb6c2e8381088fa9547e7e\n",
            "  Stored in directory: /root/.cache/pip/wheels/98/22/06/e91d7bb213c7133d5e2eb34258623e1e19928d5f05e1ee6812\n",
            "Successfully built antropy\n",
            "Installing collected packages: jedi, tensorpac, stochastic, sleepecg, lspopt, pyriemann, mne, antropy, yasa\n",
            "Successfully installed antropy-0.1.6 jedi-0.19.1 lspopt-1.3.0 mne-1.8.0 pyriemann-0.6 sleepecg-0.5.8 stochastic-0.7.0 tensorpac-0.6.5 yasa-0.6.5\n"
          ]
        }
      ]
    },
    {
      "cell_type": "code",
      "source": [
        "!pip install pynapple"
      ],
      "metadata": {
        "colab": {
          "base_uri": "https://localhost:8080/"
        },
        "id": "bIaJbIai7PQL",
        "outputId": "9a78183c-c5f5-406c-b8d7-fcf4734be11d"
      },
      "execution_count": 4,
      "outputs": [
        {
          "output_type": "stream",
          "name": "stdout",
          "text": [
            "Collecting pynapple\n",
            "  Downloading pynapple-0.6.6-py2.py3-none-any.whl.metadata (9.6 kB)\n",
            "Requirement already satisfied: pandas>1.0.3 in /usr/local/lib/python3.10/dist-packages (from pynapple) (2.1.4)\n",
            "Requirement already satisfied: numpy>=1.17.4 in /usr/local/lib/python3.10/dist-packages (from pynapple) (1.26.4)\n",
            "Requirement already satisfied: scipy>=1.3.2 in /usr/local/lib/python3.10/dist-packages (from pynapple) (1.13.1)\n",
            "Requirement already satisfied: numba>=0.46.0 in /usr/local/lib/python3.10/dist-packages (from pynapple) (0.60.0)\n",
            "Collecting pynwb>=2.0.0 (from pynapple)\n",
            "  Downloading pynwb-2.8.1-py3-none-any.whl.metadata (8.9 kB)\n",
            "Requirement already satisfied: tabulate in /usr/local/lib/python3.10/dist-packages (from pynapple) (0.9.0)\n",
            "Requirement already satisfied: h5py in /usr/local/lib/python3.10/dist-packages (from pynapple) (3.11.0)\n",
            "Requirement already satisfied: rich in /usr/local/lib/python3.10/dist-packages (from pynapple) (13.8.0)\n",
            "Requirement already satisfied: llvmlite<0.44,>=0.43.0dev0 in /usr/local/lib/python3.10/dist-packages (from numba>=0.46.0->pynapple) (0.43.0)\n",
            "Requirement already satisfied: python-dateutil>=2.8.2 in /usr/local/lib/python3.10/dist-packages (from pandas>1.0.3->pynapple) (2.8.2)\n",
            "Requirement already satisfied: pytz>=2020.1 in /usr/local/lib/python3.10/dist-packages (from pandas>1.0.3->pynapple) (2024.1)\n",
            "Requirement already satisfied: tzdata>=2022.1 in /usr/local/lib/python3.10/dist-packages (from pandas>1.0.3->pynapple) (2024.1)\n",
            "Collecting hdmf>=3.14.0 (from pynwb>=2.0.0->pynapple)\n",
            "  Downloading hdmf-3.14.3-py3-none-any.whl.metadata (8.8 kB)\n",
            "Requirement already satisfied: markdown-it-py>=2.2.0 in /usr/local/lib/python3.10/dist-packages (from rich->pynapple) (3.0.0)\n",
            "Requirement already satisfied: pygments<3.0.0,>=2.13.0 in /usr/local/lib/python3.10/dist-packages (from rich->pynapple) (2.16.1)\n",
            "Requirement already satisfied: jsonschema>=2.6.0 in /usr/local/lib/python3.10/dist-packages (from hdmf>=3.14.0->pynwb>=2.0.0->pynapple) (4.23.0)\n",
            "Collecting ruamel-yaml>=0.16 (from hdmf>=3.14.0->pynwb>=2.0.0->pynapple)\n",
            "  Downloading ruamel.yaml-0.18.6-py3-none-any.whl.metadata (23 kB)\n",
            "Requirement already satisfied: mdurl~=0.1 in /usr/local/lib/python3.10/dist-packages (from markdown-it-py>=2.2.0->rich->pynapple) (0.1.2)\n",
            "Requirement already satisfied: six>=1.5 in /usr/local/lib/python3.10/dist-packages (from python-dateutil>=2.8.2->pandas>1.0.3->pynapple) (1.16.0)\n",
            "Requirement already satisfied: attrs>=22.2.0 in /usr/local/lib/python3.10/dist-packages (from jsonschema>=2.6.0->hdmf>=3.14.0->pynwb>=2.0.0->pynapple) (24.2.0)\n",
            "Requirement already satisfied: jsonschema-specifications>=2023.03.6 in /usr/local/lib/python3.10/dist-packages (from jsonschema>=2.6.0->hdmf>=3.14.0->pynwb>=2.0.0->pynapple) (2023.12.1)\n",
            "Requirement already satisfied: referencing>=0.28.4 in /usr/local/lib/python3.10/dist-packages (from jsonschema>=2.6.0->hdmf>=3.14.0->pynwb>=2.0.0->pynapple) (0.35.1)\n",
            "Requirement already satisfied: rpds-py>=0.7.1 in /usr/local/lib/python3.10/dist-packages (from jsonschema>=2.6.0->hdmf>=3.14.0->pynwb>=2.0.0->pynapple) (0.20.0)\n",
            "Collecting ruamel.yaml.clib>=0.2.7 (from ruamel-yaml>=0.16->hdmf>=3.14.0->pynwb>=2.0.0->pynapple)\n",
            "  Downloading ruamel.yaml.clib-0.2.8-cp310-cp310-manylinux_2_17_x86_64.manylinux2014_x86_64.manylinux_2_24_x86_64.whl.metadata (2.2 kB)\n",
            "Downloading pynapple-0.6.6-py2.py3-none-any.whl (86 kB)\n",
            "\u001b[2K   \u001b[90m━━━━━━━━━━━━━━━━━━━━━━━━━━━━━━━━━━━━━━━━\u001b[0m \u001b[32m86.7/86.7 kB\u001b[0m \u001b[31m1.7 MB/s\u001b[0m eta \u001b[36m0:00:00\u001b[0m\n",
            "\u001b[?25hDownloading pynwb-2.8.1-py3-none-any.whl (1.4 MB)\n",
            "\u001b[2K   \u001b[90m━━━━━━━━━━━━━━━━━━━━━━━━━━━━━━━━━━━━━━━━\u001b[0m \u001b[32m1.4/1.4 MB\u001b[0m \u001b[31m11.3 MB/s\u001b[0m eta \u001b[36m0:00:00\u001b[0m\n",
            "\u001b[?25hDownloading hdmf-3.14.3-py3-none-any.whl (337 kB)\n",
            "\u001b[2K   \u001b[90m━━━━━━━━━━━━━━━━━━━━━━━━━━━━━━━━━━━━━━━━\u001b[0m \u001b[32m337.2/337.2 kB\u001b[0m \u001b[31m15.5 MB/s\u001b[0m eta \u001b[36m0:00:00\u001b[0m\n",
            "\u001b[?25hDownloading ruamel.yaml-0.18.6-py3-none-any.whl (117 kB)\n",
            "\u001b[2K   \u001b[90m━━━━━━━━━━━━━━━━━━━━━━━━━━━━━━━━━━━━━━━━\u001b[0m \u001b[32m117.8/117.8 kB\u001b[0m \u001b[31m6.3 MB/s\u001b[0m eta \u001b[36m0:00:00\u001b[0m\n",
            "\u001b[?25hDownloading ruamel.yaml.clib-0.2.8-cp310-cp310-manylinux_2_17_x86_64.manylinux2014_x86_64.manylinux_2_24_x86_64.whl (526 kB)\n",
            "\u001b[2K   \u001b[90m━━━━━━━━━━━━━━━━━━━━━━━━━━━━━━━━━━━━━━━━\u001b[0m \u001b[32m526.7/526.7 kB\u001b[0m \u001b[31m24.4 MB/s\u001b[0m eta \u001b[36m0:00:00\u001b[0m\n",
            "\u001b[?25hInstalling collected packages: ruamel.yaml.clib, ruamel-yaml, hdmf, pynwb, pynapple\n",
            "Successfully installed hdmf-3.14.3 pynapple-0.6.6 pynwb-2.8.1 ruamel-yaml-0.18.6 ruamel.yaml.clib-0.2.8\n"
          ]
        }
      ]
    },
    {
      "cell_type": "markdown",
      "source": [
        "# Import necessary libraries"
      ],
      "metadata": {
        "id": "GD8ITPzcdPlP"
      }
    },
    {
      "cell_type": "code",
      "source": [
        "## Initialzing and loading required libraries and subfunctions\n",
        "import matplotlib.pyplot as plt\n",
        "import scipy\n",
        "from scipy import signal\n",
        "from scipy.interpolate import griddata\n",
        "import copy\n",
        "import scipy.fft\n",
        "import scipy.stats\n",
        "import numpy as np\n",
        "import emd as emd\n",
        "import scipy.io as sio\n",
        "import seaborn as sns\n",
        "import pandas as pd\n",
        "from scipy.signal import correlate\n",
        "from scipy.stats import pearsonr\n",
        "from scipy.fft import fft\n",
        "from scipy.spatial.distance import euclidean\n",
        "from scipy.signal import spectrogram\n",
        "from sklearn.preprocessing import normalize\n",
        "import requests\n",
        "from io import BytesIO\n",
        "from scipy.io import loadmat\n",
        "# Import simulation and plot code to create & visualize data\n",
        "from neurodsp.sim import sim_combined\n",
        "from neurodsp.plts import plot_time_series, plot_timefrequency\n",
        "from neurodsp.utils import create_times\n",
        "# Import function for Morlet Wavelets\n",
        "from neurodsp.timefrequency.wavelets import compute_wavelet_transform\n",
        "\n",
        "from scipy.signal import hilbert\n",
        "from neurodsp.filt import filter_signal\n",
        "\n",
        "import yasa\n",
        "from mne.filter import resample\n",
        "import pynapple as nap"
      ],
      "metadata": {
        "id": "uzE3g71T-IR6"
      },
      "execution_count": 5,
      "outputs": []
    },
    {
      "cell_type": "markdown",
      "source": [
        "# Loading the Dataset"
      ],
      "metadata": {
        "id": "VlwXizaqdaag"
      }
    },
    {
      "cell_type": "code",
      "source": [
        "url_hpc = \"https://www.dropbox.com/scl/fo/dw1kw8acsna3qponvydwy/h/1/HC/post_trial5_2017-09-27_14-18-24/HPC_100_CH46.continuous.mat?rlkey=hs1o7bequxipnl1m8eii7eibu&dl=1\"\n",
        "\n",
        "response = requests.get(url_hpc)\n",
        "response.raise_for_status()"
      ],
      "metadata": {
        "id": "Y-0-fVkC9-nY",
        "colab": {
          "base_uri": "https://localhost:8080/"
        },
        "outputId": "36f51553-d1a1-4db0-8149-a9f7b29e47c5"
      },
      "execution_count": 76,
      "outputs": [
        {
          "output_type": "stream",
          "name": "stderr",
          "text": [
            "/usr/local/lib/python3.10/dist-packages/ipykernel/ipkernel.py:283: DeprecationWarning: `should_run_async` will not call `transform_cell` automatically in the future. Please pass the result to `transformed_cell` argument and any exception that happen during thetransform in `preprocessing_exc_tuple` in IPython 7.17 and above.\n",
            "  and should_run_async(code)\n"
          ]
        }
      ]
    },
    {
      "cell_type": "code",
      "source": [
        "state_response_url = 'https://www.dropbox.com/scl/fo/dw1kw8acsna3qponvydwy/h/1/HC/post_trial5_2017-09-27_14-18-24/post_trial5_2017-09-27_14-18-24-states.mat?rlkey=hs1o7bequxipnl1m8eii7eibu&dl=1'\n",
        "state_response = requests.get(state_response_url)\n",
        "state_response.raise_for_status()"
      ],
      "metadata": {
        "id": "8gn1FRbgAZbp",
        "colab": {
          "base_uri": "https://localhost:8080/"
        },
        "outputId": "a998503a-fcaa-4465-ed70-68658be91a65"
      },
      "execution_count": 77,
      "outputs": [
        {
          "output_type": "stream",
          "name": "stderr",
          "text": [
            "/usr/local/lib/python3.10/dist-packages/ipykernel/ipkernel.py:283: DeprecationWarning: `should_run_async` will not call `transform_cell` automatically in the future. Please pass the result to `transformed_cell` argument and any exception that happen during thetransform in `preprocessing_exc_tuple` in IPython 7.17 and above.\n",
            "  and should_run_async(code)\n"
          ]
        }
      ]
    },
    {
      "cell_type": "code",
      "source": [
        "HPC_1_HC_posttrial5 = scipy.io.loadmat(BytesIO(response.content))"
      ],
      "metadata": {
        "id": "mhWHP8m5-VW4",
        "colab": {
          "base_uri": "https://localhost:8080/"
        },
        "outputId": "bb3e6be0-99e8-4fa9-ffcd-8431a2d745b0"
      },
      "execution_count": 78,
      "outputs": [
        {
          "output_type": "stream",
          "name": "stderr",
          "text": [
            "/usr/local/lib/python3.10/dist-packages/ipykernel/ipkernel.py:283: DeprecationWarning: `should_run_async` will not call `transform_cell` automatically in the future. Please pass the result to `transformed_cell` argument and any exception that happen during thetransform in `preprocessing_exc_tuple` in IPython 7.17 and above.\n",
            "  and should_run_async(code)\n"
          ]
        }
      ]
    },
    {
      "cell_type": "code",
      "source": [
        "posttrial5_states_ES2 = scipy.io.loadmat(BytesIO(state_response.content))"
      ],
      "metadata": {
        "id": "CE46106YApX8",
        "colab": {
          "base_uri": "https://localhost:8080/"
        },
        "outputId": "a490787a-0601-49c5-c232-5b25324c0dd8"
      },
      "execution_count": 79,
      "outputs": [
        {
          "output_type": "stream",
          "name": "stderr",
          "text": [
            "/usr/local/lib/python3.10/dist-packages/ipykernel/ipkernel.py:283: DeprecationWarning: `should_run_async` will not call `transform_cell` automatically in the future. Please pass the result to `transformed_cell` argument and any exception that happen during thetransform in `preprocessing_exc_tuple` in IPython 7.17 and above.\n",
            "  and should_run_async(code)\n"
          ]
        }
      ]
    },
    {
      "cell_type": "code",
      "source": [
        "lfp = np.squeeze(HPC_1_HC_posttrial5['HPC'])\n",
        "states = np.squeeze(posttrial5_states_ES2['states'])"
      ],
      "metadata": {
        "id": "a-PFLsIu-eWn",
        "colab": {
          "base_uri": "https://localhost:8080/"
        },
        "outputId": "225d9145-512d-4e69-fd40-c264d4790e99"
      },
      "execution_count": 80,
      "outputs": [
        {
          "output_type": "stream",
          "name": "stderr",
          "text": [
            "/usr/local/lib/python3.10/dist-packages/ipykernel/ipkernel.py:283: DeprecationWarning: `should_run_async` will not call `transform_cell` automatically in the future. Please pass the result to `transformed_cell` argument and any exception that happen during thetransform in `preprocessing_exc_tuple` in IPython 7.17 and above.\n",
            "  and should_run_async(code)\n"
          ]
        }
      ]
    },
    {
      "cell_type": "markdown",
      "source": [
        "# Artifact Removal"
      ],
      "metadata": {
        "id": "ldaA6n5Adc-S"
      }
    },
    {
      "cell_type": "code",
      "source": [
        "import numpy as np\n",
        "\n",
        "def findIntervalsA(booString):\n",
        "    \"\"\"\n",
        "    This function takes a boolean string and returns the start and end indices of consecutive True values.\n",
        "\n",
        "    Parameters:\n",
        "        booString (numpy array) : A boolean numpy array where True values indicate the presence of a condition.\n",
        "\n",
        "    Returns:\n",
        "        numpy array : A 2D numpy array where each row represents an interval of consecutive True values in the input.\n",
        "        The first column is the start index and the second column is the end index of the interval.\n",
        "\n",
        "    Note:\n",
        "    The function assumes that the input is a 1D boolean numpy array. If the input does not meet this assumption, the function may not work as expected.\n",
        "    \"\"\"\n",
        "    booString = booString.reshape((1, len(booString)))\n",
        "\n",
        "    starts = np.where(np.diff((np.concatenate(([False], booString[0]), axis=0)).astype(int)) > 0)[0]\n",
        "    ends = np.where(np.diff((np.concatenate((booString[0], [False]), axis=0)).astype(int))< 0)[0]\n",
        "\n",
        "    intervals = np.vstack((starts, ends)).T\n",
        "    return intervals\n",
        "\n",
        "def ConsolidateIntervalsFast(intervals, strict='off', epsilon=0):\n",
        "    \"\"\"\n",
        "    Merge together the intervals that are overlapping.\n",
        "\n",
        "    Parameters:\n",
        "        intervals (list of tuples): List of intervals (e.g., [(start1, end1), (start2, end2), ...]).\n",
        "        strict (str, optional): Intervals with common bounds are consolidated ('off') or kept separate ('on').\n",
        "            Default is 'off'.\n",
        "        epsilon (float, optional): Intervals with close enough bounds (distance lesser than epsilon) are also\n",
        "            consolidated. Default is 0.\n",
        "\n",
        "    Returns:\n",
        "        list of tuples: Consolidated intervals.\n",
        "        list of int: For each original interval, the index of the consolidated\n",
        "            interval to which it belongs (empty intervals yield NaN).\n",
        "\n",
        "    Note:\n",
        "        Assumes the intervals are sorted in time and that no interval is completely contained within another.\n",
        "    \"\"\"\n",
        "    if len(intervals) == 0:\n",
        "        raise ValueError(\"Input list of intervals cannot be empty.\")\n",
        "\n",
        "    # Get difference between two consecutive intervals\n",
        "    vector = np.array(intervals).flatten()\n",
        "    d = np.diff(vector)\n",
        "    d = d[1::2]\n",
        "\n",
        "    # Define problematic spots\n",
        "    if strict == 'on':\n",
        "        problematic = d < epsilon\n",
        "    else:\n",
        "        problematic = d <= epsilon\n",
        "    # Leave function if intervals don't need consolidating\n",
        "    if not np.any(problematic):\n",
        "        consolidated = intervals\n",
        "        return consolidated\n",
        "\n",
        "    # Mark already consolidated intervals\n",
        "    problematic_etendu = np.concatenate(([False], problematic, [False]))\n",
        "    done = [intervals[i] for i in range(len(intervals)) if not problematic_etendu[i] and not problematic_etendu[i+1]]\n",
        "\n",
        "\n",
        "    # Initialize consolidated intervals and target list\n",
        "    indices = toIntervals(problematic)\n",
        "    for i in range(len(indices)):\n",
        "      indices[i] = (indices[i][0], indices[i][1] + 1)\n",
        "    fixed= [ (x, y) for x, y in zip([intervals[int(i) - 1][0] for i, _ in indices], [intervals[int(i) - 1][1] for _, i in indices]) ]\n",
        "    #fixed = [tuple([intervals[int(i) - 1][0] for i, _ in indices], [intervals[int(i) - 1][1] for _, i in indices])]\n",
        "    # Concatenate done and fixed vertically\n",
        "    if done != [] and fixed != []:\n",
        "      consolidated = np.vstack((done, fixed))\n",
        "    elif done == []:\n",
        "       consolidated = [list(el) for el in fixed]\n",
        "    else:\n",
        "       consolidated = [list(el) for el in done]\n",
        "    # Sort the rows of consolidated based on the first column\n",
        "    consolidated = np.array(consolidated)\n",
        "\n",
        "    # Sort the rows of consolidated based on the first column\n",
        "    consolidated = consolidated[consolidated[:, 0].argsort()]\n",
        "    consolidated = [tuple(row) for row in consolidated]\n",
        "    target = [None] * len(intervals)\n",
        "    # Initialize variables for the current interval\n",
        "    current_start, current_end = intervals[0]\n",
        "    current_target = 1\n",
        "\n",
        "    # Convert target indices to 1-based indexing\n",
        "    target = [t + 1 if t is not None else None for t in target]\n",
        "    # Return the consolidated intervals\n",
        "    return consolidated\n",
        "\n",
        "def toIntervals(x, in_ = None):\n",
        "    \"\"\"\n",
        "    Convert logical vector to a list of intervals.\n",
        "\n",
        "    Parameters:\n",
        "        x (list) : values, e.g. timestamps\n",
        "        in_ (boolean list, optional) : boolean list of the same length as x;\n",
        "    Returns:\n",
        "        list : A list of tuples where each tuple represents an interval. Each tuple contains two elements: the start and end of the interval.\n",
        "\n",
        "    Note:\n",
        "    _in  can also be omitted, in which case x needs to be a boolean list\n",
        "    and the intervals are defined in terms of indices in the logical vector.\n",
        "    \"\"\"\n",
        "    if len(x) == 0:\n",
        "        raise ValueError('Incorrect number of parameters .')\n",
        "\n",
        "    if in_ is None:\n",
        "        in_ = np.array(in_)\n",
        "        in_ = x\n",
        "        x = np.linspace(1, len(x) + 1, len(x) + 1)\n",
        "    else:\n",
        "        in_ = np.array(in_)\n",
        "        if not np.all(np.isfinite(x)):\n",
        "            raise ValueError('Incorrect x values.')\n",
        "\n",
        "    if in_[-1] == 1:\n",
        "        in_ = np.append(in_, 0)\n",
        "\n",
        "    din = np.diff(np.concatenate(([0], in_)))\n",
        "    start = np.where(din == 1)[0]\n",
        "    stop = np.where(din == -1)[0]\n",
        "\n",
        "    ivs = np.column_stack((start, stop - 1))\n",
        "    if len(x) > 0:\n",
        "        ivs = x[ivs]\n",
        "\n",
        "    return ivs\n",
        "\n",
        "def InIntervals(values, intervals):\n",
        "    \"\"\"\n",
        "    Test which values fall in a list of sorted intervals.\n",
        "\n",
        "    Parameters:\n",
        "        values (list): Sorted list of values to test.\n",
        "        intervals (list of tuples): Sorted list of (start, stop) pairs representing the intervals.\n",
        "\n",
        "    Returns:\n",
        "        list: Boolean values indicating whether each value is in an interval.\n",
        "    \"\"\"\n",
        "    result = []\n",
        "    interval_index = 0\n",
        "\n",
        "    for value in values:\n",
        "        while interval_index < len(intervals) and intervals[interval_index][1] < value:\n",
        "            interval_index += 1\n",
        "\n",
        "        if interval_index < len(intervals) and intervals[interval_index][0] <= value <= intervals[interval_index][1]:\n",
        "            result.append(True)\n",
        "        else:\n",
        "            result.append(False)\n",
        "\n",
        "    return result\n",
        "\n",
        "def removeArtefacts(lfp_sig, originalFreq, amp_thresh, time_win_thresh):\n",
        "    \"\"\"\n",
        "    Removes artefacts from the LFP signal.\n",
        "\n",
        "    Parameters:\n",
        "        lfp_sig (numpy.ndarray): The LFP signal.\n",
        "        originalFreq (float): The sampling frequency.\n",
        "        amp_thresh (tuple): The amplitude thresholds for detecting artefacts.\n",
        "                            The first one corresponds to the threshold for the absolute value of the z-scored signal.\n",
        "                            The second one corresponds to the threshold to the absolute difference between a value and its predecessor of the z-scored signal.\n",
        "        time_win_thresh (tuple): The time windows that will be set to zero before and after the detected artefacts.\n",
        "                                 The first one corresponds to the window for the absolute value of the z-scored signal.\n",
        "                                 The second one corresponds to the window for the absolute difference between a value and its predecessor of the z-scored signal.\n",
        "    Returns:\n",
        "        numpy.ndarray: The corrected LFP signal.\n",
        "        numpy.ndarray: The indices of the artefacts.\n",
        "        numpy.ndarray: The corresponding time.\n",
        "\n",
        "    Note :\n",
        "        This function only set to zero the detected artefacts.\n",
        "    \"\"\"\n",
        "    time = np.linspace(0, len(lfp_sig)/originalFreq, len(lfp_sig))\n",
        "    lfp_sig = np.array(lfp_sig)\n",
        "    # Parameters\n",
        "    threshold1 = amp_thresh[0]  # in sigmas deviating from the mean\n",
        "    aroundArtefact1 = time_win_thresh[0]  # 2, Big and long artefacts\n",
        "    threshold2 = amp_thresh[1]  # for derivative of z-scored signal\n",
        "    aroundArtefact2 = time_win_thresh[1]  # 0.1 Very fast fluctuations (short time scale)\n",
        "\n",
        "    # Performing the computations\n",
        "    timeValues = time\n",
        "    sig_values = lfp_sig.copy()\n",
        "    z_sig = (sig_values - np.mean(sig_values)) / np.std(sig_values)\n",
        "    z_sig = np.ravel(z_sig)\n",
        "    diff_sig = np.concatenate((np.diff(z_sig),[0]), axis=0)\n",
        "    artefactInds = np.zeros(len(sig_values), dtype=bool)\n",
        "    findIntervalsA(np.abs(z_sig)>threshold1)\n",
        "    # First we detect the large global artefacts\n",
        "    artefactInterval = timeValues[findIntervalsA(np.abs(z_sig)>threshold1)]\n",
        "    #if np.size(artefactInterval) == 2:\n",
        "      #artefactInterval = np.ravel(artefactInterval)\n",
        "    if artefactInterval.size != 0:\n",
        "      array_artefactInterval= [ (x, y) for x, y in zip(artefactInterval[:,0]-aroundArtefact1, artefactInterval[:,1]+aroundArtefact1) ]\n",
        "      artefactInterval = ConsolidateIntervalsFast(array_artefactInterval);\n",
        "      artefactInds = InIntervals(timeValues, artefactInterval)\n",
        "    else:\n",
        "      artefactInterval = np.zeros((0, 2))\n",
        "\n",
        "    # Find noise using the derivative of the zscored signal (2)\n",
        "    noisyInterval = timeValues[findIntervalsA(np.abs(diff_sig)>threshold2)]\n",
        "    #if np.size(noisyInterval) == 2:\n",
        "      #noisyInterval = np.ravel(noisyInterval)\n",
        "    if noisyInterval.size != 0:\n",
        "      array_noisyInterval= [ (x, y) for x, y in zip(noisyInterval[:,0]-aroundArtefact2, noisyInterval[:,1]+aroundArtefact2) ]\n",
        "      noisyInterval = ConsolidateIntervalsFast(array_noisyInterval);\n",
        "      artefactInds = np.logical_or(artefactInds, InIntervals(timeValues, noisyInterval))\n",
        "    else:\n",
        "      noisyInterval = np.zeros((0, 2))\n",
        "\n",
        "    artefactInds = np.array(artefactInds)\n",
        "    sig_values = np.ravel(sig_values)\n",
        "    sig_values[artefactInds] = 0\n",
        "\n",
        "    return sig_values, artefactInds, timeValues\n",
        "\n",
        "def artefact_epochs(artefactsIndices, window_length, threshold = 0):\n",
        "    \"\"\"\n",
        "    Get the indices of the epochs containing artefacts\n",
        "\n",
        "    Parameters:\n",
        "        artefactsIndices (list): the indices of the artefacts in the raw data.\n",
        "        window_length (int) : the length of an epoch\n",
        "        threshold (float, optional) : percentage of artefact necessary for an epoch to be detected as an artefact.\n",
        "\n",
        "    Returns:\n",
        "        numpy.ndarray : the indices of the epochs containing a percetage of artefacts greater than the threshold.\n",
        "    \"\"\"\n",
        "    artefactsCountEpochs = artefactsIndices[:len(artefactsIndices)//window_length * window_length].reshape(-1, window_length)\n",
        "    artefactsCountEpochs = [np.count_nonzero(el) for el in artefactsCountEpochs]\n",
        "    art_percentage_per_epoch = np.ravel([(el/(window_length))*100  for el in artefactsCountEpochs])\n",
        "\n",
        "    arte_indices = []\n",
        "    for i, el in enumerate(art_percentage_per_epoch):\n",
        "        if el > threshold:\n",
        "            arte_indices.append(i)\n",
        "    arte_indices = np.ravel(arte_indices)\n",
        "    return arte_indices"
      ],
      "metadata": {
        "id": "hR4XnKm2B97t",
        "colab": {
          "base_uri": "https://localhost:8080/"
        },
        "outputId": "ed7104d5-4d7e-4785-cad6-51d677679b82"
      },
      "execution_count": 81,
      "outputs": [
        {
          "output_type": "stream",
          "name": "stderr",
          "text": [
            "/usr/local/lib/python3.10/dist-packages/ipykernel/ipkernel.py:283: DeprecationWarning: `should_run_async` will not call `transform_cell` automatically in the future. Please pass the result to `transformed_cell` argument and any exception that happen during thetransform in `preprocessing_exc_tuple` in IPython 7.17 and above.\n",
            "  and should_run_async(code)\n"
          ]
        }
      ]
    },
    {
      "cell_type": "code",
      "source": [
        "hpc_clean, hpcNoisyIdx, timeValues = removeArtefacts(lfp, 1000, [4, 8], [1, 0.1])"
      ],
      "metadata": {
        "id": "bjOnShZeH8Uu",
        "colab": {
          "base_uri": "https://localhost:8080/"
        },
        "outputId": "c59f2a4e-0527-42be-8359-527cbfe5b7a8"
      },
      "execution_count": 82,
      "outputs": [
        {
          "output_type": "stream",
          "name": "stderr",
          "text": [
            "/usr/local/lib/python3.10/dist-packages/ipykernel/ipkernel.py:283: DeprecationWarning: `should_run_async` will not call `transform_cell` automatically in the future. Please pass the result to `transformed_cell` argument and any exception that happen during thetransform in `preprocessing_exc_tuple` in IPython 7.17 and above.\n",
            "  and should_run_async(code)\n"
          ]
        }
      ]
    },
    {
      "cell_type": "code",
      "source": [
        "lfp = hpc_clean"
      ],
      "metadata": {
        "id": "4FFLNYhiJMY_",
        "colab": {
          "base_uri": "https://localhost:8080/"
        },
        "outputId": "49272845-ebcd-499b-b85d-9e4eb85ef7be"
      },
      "execution_count": 83,
      "outputs": [
        {
          "output_type": "stream",
          "name": "stderr",
          "text": [
            "/usr/local/lib/python3.10/dist-packages/ipykernel/ipkernel.py:283: DeprecationWarning: `should_run_async` will not call `transform_cell` automatically in the future. Please pass the result to `transformed_cell` argument and any exception that happen during thetransform in `preprocessing_exc_tuple` in IPython 7.17 and above.\n",
            "  and should_run_async(code)\n"
          ]
        }
      ]
    },
    {
      "cell_type": "markdown",
      "source": [
        "# Start Analysis"
      ],
      "metadata": {
        "id": "1VZumUWVcpB2"
      }
    },
    {
      "cell_type": "code",
      "source": [
        "\n",
        "def get_sequences(x, ibreak=1):\n",
        "    \"\"\"\n",
        "    Identifies contiguous sequences.\n",
        "\n",
        "    Parameters:\n",
        "    x (np.ndarray): 1D time series.\n",
        "    ibreak (int): A threshold value for determining breaks between sequences (default is 1).\n",
        "\n",
        "    Returns:\n",
        "    list of tuples: Each tuple contains the start and end integer of each contiguous sequence.\n",
        "    \"\"\"\n",
        "    if len(x) == 0:\n",
        "        return []\n",
        "\n",
        "    diff = np.diff(x)\n",
        "    breaks = np.where(diff > ibreak)[0]\n",
        "\n",
        "    # Append the last index to handle the end of the array\n",
        "    breaks = np.append(breaks, len(x) - 1)\n",
        "\n",
        "    sequences = []\n",
        "    start_idx = 0\n",
        "\n",
        "    for break_idx in breaks:\n",
        "        end_idx = break_idx\n",
        "        sequences.append((x[start_idx], x[end_idx]))\n",
        "        start_idx = end_idx + 1\n",
        "\n",
        "    return sequences"
      ],
      "metadata": {
        "colab": {
          "base_uri": "https://localhost:8080/"
        },
        "id": "k2XjEWA6c0ie",
        "outputId": "e23704eb-4cfc-4cb8-ce89-da945005a5da"
      },
      "execution_count": 84,
      "outputs": [
        {
          "output_type": "stream",
          "name": "stderr",
          "text": [
            "/usr/local/lib/python3.10/dist-packages/ipykernel/ipkernel.py:283: DeprecationWarning: `should_run_async` will not call `transform_cell` automatically in the future. Please pass the result to `transformed_cell` argument and any exception that happen during thetransform in `preprocessing_exc_tuple` in IPython 7.17 and above.\n",
            "  and should_run_async(code)\n"
          ]
        }
      ]
    },
    {
      "cell_type": "code",
      "source": [
        "def get_segments(idx, signal):\n",
        "    \"\"\"\n",
        "    Extracts segments of the signal between specified start and end time indices.\n",
        "\n",
        "    Parameters:\n",
        "    idx (list of tuples): Each tuple contains (start_time, end_time).\n",
        "    signal (np.ndarray): The signal from which to extract segments.\n",
        "\n",
        "    Returns:\n",
        "    list of np.ndarray: Each element is a segment of the signal corresponding to the given time ranges.\n",
        "    \"\"\"\n",
        "    segments = []\n",
        "    for (start_time, end_time) in idx:\n",
        "        if end_time > len(signal):\n",
        "            end_time = len(signal) - 1\n",
        "        segment = signal[start_time:end_time]\n",
        "        segments.append(segment)\n",
        "\n",
        "    return segments"
      ],
      "metadata": {
        "colab": {
          "base_uri": "https://localhost:8080/"
        },
        "id": "LJHqcRQbc2Or",
        "outputId": "bc77d378-cb42-48e3-d616-2205afec48ef"
      },
      "execution_count": 85,
      "outputs": [
        {
          "output_type": "stream",
          "name": "stderr",
          "text": [
            "/usr/local/lib/python3.10/dist-packages/ipykernel/ipkernel.py:283: DeprecationWarning: `should_run_async` will not call `transform_cell` automatically in the future. Please pass the result to `transformed_cell` argument and any exception that happen during thetransform in `preprocessing_exc_tuple` in IPython 7.17 and above.\n",
            "  and should_run_async(code)\n"
          ]
        }
      ]
    },
    {
      "cell_type": "code",
      "source": [
        "def get_tonic(rem_start, rem_end, phasic):\n",
        "  tonic_seg = []\n",
        "  current_start = rem_start\n",
        "\n",
        "  for ph_start, ph_end in phasic:\n",
        "    # A gap between current start and start of a phasic episode\n",
        "    if current_start < ph_start:\n",
        "      tonic_seg.append((current_start, ph_start))\n",
        "\n",
        "    # Update current start\n",
        "    current_start = max(current_start, ph_end)\n",
        "\n",
        "  # After the last phasic episode there might be a remaining tonic episode\n",
        "  if current_start < rem_end:\n",
        "    tonic_seg.append((current_start, rem_end))\n",
        "\n",
        "  return tonic_seg"
      ],
      "metadata": {
        "colab": {
          "base_uri": "https://localhost:8080/"
        },
        "id": "-0SwMT5Ac3uv",
        "outputId": "c09df6ae-cc48-45d4-b8dc-d62ead7ee415"
      },
      "execution_count": 86,
      "outputs": [
        {
          "output_type": "stream",
          "name": "stderr",
          "text": [
            "/usr/local/lib/python3.10/dist-packages/ipykernel/ipkernel.py:283: DeprecationWarning: `should_run_async` will not call `transform_cell` automatically in the future. Please pass the result to `transformed_cell` argument and any exception that happen during thetransform in `preprocessing_exc_tuple` in IPython 7.17 and above.\n",
            "  and should_run_async(code)\n"
          ]
        }
      ]
    },
    {
      "cell_type": "code",
      "source": [
        "def create_hypnogram(phasicREM, length):\n",
        "       binary_hypnogram = np.zeros(length, dtype=int)\n",
        "       for start, end in phasicREM:\n",
        "           binary_hypnogram[start:end] = 1\n",
        "       return binary_hypnogram"
      ],
      "metadata": {
        "colab": {
          "base_uri": "https://localhost:8080/"
        },
        "id": "vRWGF6xkc4zQ",
        "outputId": "d9910ec9-bb42-454e-c11b-f1f73ca167ce"
      },
      "execution_count": 87,
      "outputs": [
        {
          "output_type": "stream",
          "name": "stderr",
          "text": [
            "/usr/local/lib/python3.10/dist-packages/ipykernel/ipkernel.py:283: DeprecationWarning: `should_run_async` will not call `transform_cell` automatically in the future. Please pass the result to `transformed_cell` argument and any exception that happen during thetransform in `preprocessing_exc_tuple` in IPython 7.17 and above.\n",
            "  and should_run_async(code)\n"
          ]
        }
      ]
    },
    {
      "cell_type": "code",
      "source": [
        "# bug\n",
        "def ensure_duration(rem_idx, min_dur):\n",
        "    for rem_start, rem_end in rem_idx:\n",
        "      if(rem_end-rem_start) < min_dur:\n",
        "        #logger.debug(\"Removing REM epoch: ({0}, {1})\".format(rem_start, rem_end))\n",
        "        rem_idx.remove(rem_idx)\n",
        "\n",
        "    if len(rem_idx) == 0:\n",
        "      raise ValueError(\"No REM epochs greater than min_dur.\")\n",
        "    return rem_idx"
      ],
      "metadata": {
        "colab": {
          "base_uri": "https://localhost:8080/"
        },
        "id": "f-OenO_lc6ZT",
        "outputId": "cbabbf63-4b9a-447a-b78f-95346c940131"
      },
      "execution_count": 88,
      "outputs": [
        {
          "output_type": "stream",
          "name": "stderr",
          "text": [
            "/usr/local/lib/python3.10/dist-packages/ipykernel/ipkernel.py:283: DeprecationWarning: `should_run_async` will not call `transform_cell` automatically in the future. Please pass the result to `transformed_cell` argument and any exception that happen during thetransform in `preprocessing_exc_tuple` in IPython 7.17 and above.\n",
            "  and should_run_async(code)\n"
          ]
        }
      ]
    },
    {
      "cell_type": "code",
      "source": [
        "def _detect_troughs(signal, thr):\n",
        "    lidx  = np.where(signal[0:-2] > signal[1:-1])[0]\n",
        "    ridx  = np.where(signal[1:-1] <= signal[2:])[0]\n",
        "    thidx = np.where(signal[1:-1] < thr)[0]\n",
        "    sidx = np.intersect1d(lidx, np.intersect1d(ridx, thidx))+1\n",
        "    return sidx"
      ],
      "metadata": {
        "colab": {
          "base_uri": "https://localhost:8080/"
        },
        "id": "9La68fXic75X",
        "outputId": "ed72ee60-c423-44c4-e487-2d577d3cc204"
      },
      "execution_count": 89,
      "outputs": [
        {
          "output_type": "stream",
          "name": "stderr",
          "text": [
            "/usr/local/lib/python3.10/dist-packages/ipykernel/ipkernel.py:283: DeprecationWarning: `should_run_async` will not call `transform_cell` automatically in the future. Please pass the result to `transformed_cell` argument and any exception that happen during thetransform in `preprocessing_exc_tuple` in IPython 7.17 and above.\n",
            "  and should_run_async(code)\n"
          ]
        }
      ]
    },
    {
      "cell_type": "code",
      "source": [
        "def _despine_axes(ax):\n",
        "    ax.spines[\"top\"].set_visible(False)\n",
        "    ax.spines[\"right\"].set_visible(False)\n",
        "    ax.spines[\"bottom\"].set_visible(False)\n",
        "    ax.spines[\"left\"].set_visible(False)\n",
        "    ax.axes.get_xaxis().set_visible(False)\n",
        "    ax.axes.get_yaxis().set_visible(False)"
      ],
      "metadata": {
        "colab": {
          "base_uri": "https://localhost:8080/"
        },
        "id": "UPzpRNnyc9EX",
        "outputId": "429477a8-c16f-4b90-ea48-39ef920414ac"
      },
      "execution_count": 90,
      "outputs": [
        {
          "output_type": "stream",
          "name": "stderr",
          "text": [
            "/usr/local/lib/python3.10/dist-packages/ipykernel/ipkernel.py:283: DeprecationWarning: `should_run_async` will not call `transform_cell` automatically in the future. Please pass the result to `transformed_cell` argument and any exception that happen during thetransform in `preprocessing_exc_tuple` in IPython 7.17 and above.\n",
            "  and should_run_async(code)\n"
          ]
        }
      ]
    },
    {
      "cell_type": "code",
      "source": [
        "def phasic_detect(rem, fs, thr_dur=900, nfilt=11):\n",
        "    w1 = 5.0\n",
        "    w2 = 12.0\n",
        "\n",
        "    trdiff_list = []\n",
        "    rem_eeg = np.array([])\n",
        "    eeg_seq = {}\n",
        "    sdiff_seq = {}\n",
        "    tridx_seq = {}\n",
        "    filt = np.ones((nfilt,))\n",
        "    filt = filt / filt.sum()\n",
        "    all_empty = True\n",
        "\n",
        "    for idx in rem:\n",
        "        start, end = idx\n",
        "\n",
        "        epoch = rem[idx]\n",
        "\n",
        "        if epoch.size == 0:  # Check if the epoch is empty\n",
        "            continue\n",
        "\n",
        "        all_empty = False\n",
        "\n",
        "        epoch = filter_signal(epoch, fs, 'bandpass', (w1,w2), remove_edges=False)\n",
        "        epoch = hilbert(epoch)\n",
        "\n",
        "        inst_phase = np.angle(epoch)\n",
        "        inst_amp = np.abs(epoch)\n",
        "\n",
        "        # trough indices\n",
        "        tridx = _detect_troughs(inst_phase, -3)\n",
        "\n",
        "        # alternative version:\n",
        "        #tridx = np.where(np.diff(np.sign(np.diff(eegh))))[0]+1\n",
        "\n",
        "        # differences between troughs\n",
        "        trdiff = np.diff(tridx)\n",
        "\n",
        "        # smoothed trough differences\n",
        "        sdiff_seq[idx] = np.convolve(trdiff, filt, 'same')\n",
        "\n",
        "        # dict of trough differences for each REM period\n",
        "        tridx_seq[idx] = tridx\n",
        "\n",
        "        eeg_seq[idx] = inst_amp\n",
        "\n",
        "        # differences between troughs\n",
        "        trdiff_list += list(trdiff)\n",
        "\n",
        "        # amplitude of the entire REM sleep\n",
        "        rem_eeg = np.concatenate((rem_eeg, inst_amp))\n",
        "\n",
        "    if all_empty:  # Check if all epochs were empty\n",
        "        #logger.debug(\"All epochs are empty. Returning empty result.\")\n",
        "        return {}\n",
        "\n",
        "    trdiff = np.array(trdiff_list)\n",
        "    trdiff_sm = np.convolve(trdiff, filt, 'same')\n",
        "\n",
        "    # potential candidates for phasic REM:\n",
        "    # the smoothed difference between troughs is less than\n",
        "    # the 10th percentile:\n",
        "    thr1 = np.percentile(trdiff_sm, 10)\n",
        "    # the minimum difference in the candidate phREM is less than\n",
        "    # the 5th percentile\n",
        "    thr2 = np.percentile(trdiff_sm, 5)\n",
        "    # the peak amplitude is larger than the mean of the amplitude\n",
        "    # of the REM EEG.\n",
        "    thr3 = rem_eeg.mean()\n",
        "\n",
        "    #logger.debug(\"Thresholds: thr1 = {0:.3f}, thr2 = {1:.3f}, thr3 = {2:.3f}\".format(thr1, thr2, thr3))\n",
        "\n",
        "    phrem = {rem_idx:[] for rem_idx in rem.keys()}\n",
        "\n",
        "    for rem_idx in tridx_seq:\n",
        "        rem_start, rem_end = rem_idx\n",
        "        offset = rem_start * fs\n",
        "\n",
        "        # trough indices\n",
        "        tridx = tridx_seq[rem_idx]\n",
        "\n",
        "        # smoothed trough interval\n",
        "        sdiff = sdiff_seq[rem_idx]\n",
        "\n",
        "        # ampplitude of the REM epoch\n",
        "        eegh = eeg_seq[rem_idx]\n",
        "\n",
        "        cand_idx = np.where(sdiff <= thr1)[0]\n",
        "        cand = get_sequences(cand_idx)\n",
        "\n",
        "        #logger.debug(\"Candidates: {0}\".format(str(cand)))\n",
        "        for start, end in cand:\n",
        "            dur = ( (tridx[end]-tridx[start]+1)/fs ) * 1000\n",
        "            if dur > thr_dur and np.min(sdiff[start:end]) < thr2 and np.mean(eegh[tridx[start]:tridx[end]+1]) > thr3:\n",
        "                a = tridx[start]   + offset\n",
        "                b = tridx[end]  + offset\n",
        "\n",
        "                if b > (rem_end * fs):\n",
        "                    b = rem_end*fs\n",
        "\n",
        "                ph_idx = (a, b+1)\n",
        "                phrem[rem_idx].append(ph_idx)\n",
        "    return phrem"
      ],
      "metadata": {
        "colab": {
          "base_uri": "https://localhost:8080/"
        },
        "id": "zksyeE7KcrRZ",
        "outputId": "f921404d-d32a-4594-c09e-c2622c4cad87"
      },
      "execution_count": 91,
      "outputs": [
        {
          "output_type": "stream",
          "name": "stderr",
          "text": [
            "/usr/local/lib/python3.10/dist-packages/ipykernel/ipkernel.py:283: DeprecationWarning: `should_run_async` will not call `transform_cell` automatically in the future. Please pass the result to `transformed_cell` argument and any exception that happen during thetransform in `preprocessing_exc_tuple` in IPython 7.17 and above.\n",
            "  and should_run_async(code)\n"
          ]
        }
      ]
    },
    {
      "cell_type": "code",
      "execution_count": 92,
      "metadata": {
        "colab": {
          "base_uri": "https://localhost:8080/"
        },
        "id": "PsARGxwYYcbZ",
        "outputId": "6bab3ba9-6d2e-4a65-b265-c2dd71763654"
      },
      "outputs": [
        {
          "output_type": "stream",
          "name": "stderr",
          "text": [
            "/usr/local/lib/python3.10/dist-packages/ipykernel/ipkernel.py:283: DeprecationWarning: `should_run_async` will not call `transform_cell` automatically in the future. Please pass the result to `transformed_cell` argument and any exception that happen during thetransform in `preprocessing_exc_tuple` in IPython 7.17 and above.\n",
            "  and should_run_async(code)\n"
          ]
        }
      ],
      "source": [
        "def detect_phasic(eeg, hypno, fs):\n",
        "\n",
        "    rem_seq = get_sequences(np.where(hypno == 5)[0])\n",
        "\n",
        "    min_dur = 3\n",
        "    rem_idx = []\n",
        "    for start, end in rem_seq:\n",
        "        if ((end-start) > min_dur):\n",
        "            rem_idx.append((start * fs, (end+1) * fs))\n",
        "        if len(rem_idx) == 0:\n",
        "            raise ValueError(\"No REM epochs greater than min_dur.\")\n",
        "\n",
        "    # get REM segments\n",
        "    rem_epochs = get_segments(rem_idx, eeg)\n",
        "\n",
        "    # Combine the REM indices with the corresponding downsampled segments\n",
        "    rem = {seq:seg for seq, seg in zip(rem_seq, rem_epochs)}\n",
        "\n",
        "    w1 = 5.0\n",
        "    w2 = 12.0\n",
        "    nfilt = 11\n",
        "    thr_dur = 900\n",
        "\n",
        "    trdiff_list = []\n",
        "    rem_eeg = np.array([])\n",
        "    eeg_seq = {}\n",
        "    sdiff_seq = {}\n",
        "    tridx_seq = {}\n",
        "    filt = np.ones((nfilt,))\n",
        "    filt = filt / filt.sum()\n",
        "    for idx in rem:\n",
        "        start, end = idx\n",
        "\n",
        "        epoch = rem[idx]\n",
        "        epoch = filter_signal(epoch, fs, 'bandpass', (w1,w2), remove_edges=False)\n",
        "        epoch = hilbert(epoch)\n",
        "\n",
        "        inst_phase = np.angle(epoch)\n",
        "        inst_amp = np.abs(epoch)\n",
        "\n",
        "        # trough indices\n",
        "        tridx = _detect_troughs(inst_phase, -3)\n",
        "\n",
        "        # differences between troughs\n",
        "        trdiff = np.diff(tridx)\n",
        "\n",
        "        # smoothed trough differences\n",
        "        sdiff_seq[idx] = np.convolve(trdiff, filt, 'same')\n",
        "\n",
        "        # dict of trough differences for each REM period\n",
        "        tridx_seq[idx] = tridx\n",
        "\n",
        "        eeg_seq[idx] = inst_amp\n",
        "\n",
        "        # differences between troughs\n",
        "        trdiff_list += list(trdiff)\n",
        "\n",
        "        # amplitude of the entire REM sleep\n",
        "        rem_eeg = np.concatenate((rem_eeg, inst_amp))\n",
        "\n",
        "    trdiff = np.array(trdiff_list)\n",
        "    trdiff_sm = np.convolve(trdiff, filt, 'same')\n",
        "\n",
        "    # potential candidates for phasic REM:\n",
        "    # the smoothed difference between troughs is less than\n",
        "    # the 10th percentile:\n",
        "    thr1 = np.percentile(trdiff_sm, 10)\n",
        "    # the minimum smoothed difference in the candidate phREM is less than\n",
        "    # the 5th percentile\n",
        "    thr2 = np.percentile(trdiff_sm, 5)\n",
        "    # the peak amplitude is larger than the mean of the amplitude\n",
        "    # of the REM EEG.\n",
        "    thr3 = rem_eeg.mean()\n",
        "\n",
        "    phasicREM = {rem_idx:[] for rem_idx in rem.keys()}\n",
        "\n",
        "    for rem_idx in tridx_seq:\n",
        "        rem_start, rem_end = rem_idx\n",
        "        offset = rem_start * fs\n",
        "\n",
        "        # trough indices\n",
        "        tridx = tridx_seq[rem_idx]\n",
        "\n",
        "        # smoothed trough interval\n",
        "        sdiff = sdiff_seq[rem_idx]\n",
        "\n",
        "        # amplitude of the REM epoch\n",
        "        eegh = eeg_seq[rem_idx]\n",
        "\n",
        "        # get the candidates for phREM\n",
        "        cand_idx = np.where(sdiff <= thr1)[0]\n",
        "        cand = get_sequences(cand_idx)\n",
        "\n",
        "        for start, end in cand:\n",
        "            # Duration of the candidate in milliseconds\n",
        "            dur = ( (tridx[end]-tridx[start]+1)/fs ) * 1000\n",
        "            if dur < thr_dur:\n",
        "                continue # Failed Threshold 1\n",
        "\n",
        "            min_sdiff = np.min(sdiff[start:end])\n",
        "            if min_sdiff > thr2:\n",
        "                continue # Failed Threshold 2\n",
        "\n",
        "            mean_amp =  np.mean(eegh[tridx[start]:tridx[end]+1])\n",
        "            if mean_amp < thr3:\n",
        "                continue # Failed Threshold 3\n",
        "\n",
        "            t_a = tridx[start] + offset\n",
        "            t_b = np.min((tridx[end] + offset, rem_end * fs))\n",
        "\n",
        "            ph_idx = (t_a, t_b+1)\n",
        "            phasicREM[rem_idx].append(ph_idx)\n",
        "\n",
        "    return phasicREM\n",
        "\n",
        "def _detect_troughs(signal, thr):\n",
        "    lidx  = np.where(signal[0:-2] > signal[1:-1])[0]\n",
        "    ridx  = np.where(signal[1:-1] <= signal[2:])[0]\n",
        "    thidx = np.where(signal[1:-1] < thr)[0]\n",
        "    sidx = np.intersect1d(lidx, np.intersect1d(ridx, thidx))+1\n",
        "    return sidx"
      ]
    },
    {
      "cell_type": "code",
      "source": [
        "def get_start_end(hypno: np.ndarray, sleep_state_id: int):\n",
        "    \"\"\"Convert sleep states into lists of start and end time indices.\"\"\"\n",
        "    seq = get_sequences(np.where(hypno == sleep_state_id)[0])\n",
        "    start = []\n",
        "    end = []\n",
        "    for s, e in seq:\n",
        "        start.append(s)\n",
        "        end.append(e)\n",
        "    return (start, end)"
      ],
      "metadata": {
        "colab": {
          "base_uri": "https://localhost:8080/"
        },
        "id": "5Mv8CAmh4smL",
        "outputId": "ad0f6967-0a5b-454c-a03e-af88f6579a12"
      },
      "execution_count": 93,
      "outputs": [
        {
          "output_type": "stream",
          "name": "stderr",
          "text": [
            "/usr/local/lib/python3.10/dist-packages/ipykernel/ipkernel.py:283: DeprecationWarning: `should_run_async` will not call `transform_cell` automatically in the future. Please pass the result to `transformed_cell` argument and any exception that happen during thetransform in `preprocessing_exc_tuple` in IPython 7.17 and above.\n",
            "  and should_run_async(code)\n"
          ]
        }
      ]
    },
    {
      "cell_type": "code",
      "source": [
        "def _detect_troughs(signal, thr):\n",
        "    lidx  = np.where(signal[0:-2] > signal[1:-1])[0]\n",
        "    ridx  = np.where(signal[1:-1] <= signal[2:])[0]\n",
        "    thidx = np.where(signal[1:-1] < thr)[0]\n",
        "    sidx = np.intersect1d(lidx, np.intersect1d(ridx, thidx))+1\n",
        "    return sidx"
      ],
      "metadata": {
        "colab": {
          "base_uri": "https://localhost:8080/"
        },
        "id": "PBcpdotM56wb",
        "outputId": "8f8a83a2-6c7e-49bb-b375-ae49be85aaca"
      },
      "execution_count": 94,
      "outputs": [
        {
          "output_type": "stream",
          "name": "stderr",
          "text": [
            "/usr/local/lib/python3.10/dist-packages/ipykernel/ipkernel.py:283: DeprecationWarning: `should_run_async` will not call `transform_cell` automatically in the future. Please pass the result to `transformed_cell` argument and any exception that happen during thetransform in `preprocessing_exc_tuple` in IPython 7.17 and above.\n",
            "  and should_run_async(code)\n"
          ]
        }
      ]
    },
    {
      "cell_type": "code",
      "source": [
        "fs = 2500\n",
        "targetFs = 500\n",
        "n_down = fs/targetFs"
      ],
      "metadata": {
        "colab": {
          "base_uri": "https://localhost:8080/"
        },
        "id": "agIdEZLE48WS",
        "outputId": "cce70235-3e82-417c-a996-ed4466f12b44"
      },
      "execution_count": 95,
      "outputs": [
        {
          "output_type": "stream",
          "name": "stderr",
          "text": [
            "/usr/local/lib/python3.10/dist-packages/ipykernel/ipkernel.py:283: DeprecationWarning: `should_run_async` will not call `transform_cell` automatically in the future. Please pass the result to `transformed_cell` argument and any exception that happen during thetransform in `preprocessing_exc_tuple` in IPython 7.17 and above.\n",
            "  and should_run_async(code)\n"
          ]
        }
      ]
    },
    {
      "cell_type": "code",
      "source": [
        "def preprocess(signal: np.ndarray, n_down: int, target_fs=500) -> np.ndarray:\n",
        "    \"\"\"Downsample and remove artifacts.\"\"\"\n",
        "\n",
        "    #logger.debug(\"STARTED: Resampling to 500 Hz.\")\n",
        "    # Downsample to 500 Hz\n",
        "    data = resample(signal, down=n_down, method='fft', npad='auto')\n",
        "    #logger.debug(\"FINISHED: Resampling to 500 Hz.\")\n",
        "    #logger.debug(\"Resampled: {0} -> {1}.\".format(str(signal.shape), str(data.shape)))\n",
        "\n",
        "    #logger.debug(\"STARTED: Remove artifacts.\")\n",
        "    # Remove artifacts\n",
        "    art_std, _ = yasa.art_detect(data, target_fs , window=1, method='std', threshold=4)\n",
        "    art_up = yasa.hypno_upsample_to_data(art_std, 1, data, target_fs)\n",
        "    data[art_up] = 0\n",
        "    #logger.debug(\"FINISHED: Remove artifacts.\")\n",
        "\n",
        "    data -= data.mean()\n",
        "    return data"
      ],
      "metadata": {
        "colab": {
          "base_uri": "https://localhost:8080/"
        },
        "id": "OQ_GJ9uJ5kLv",
        "outputId": "10ccd838-d668-4eca-fe20-a8f9c054283b"
      },
      "execution_count": 96,
      "outputs": [
        {
          "output_type": "stream",
          "name": "stderr",
          "text": [
            "/usr/local/lib/python3.10/dist-packages/ipykernel/ipkernel.py:283: DeprecationWarning: `should_run_async` will not call `transform_cell` automatically in the future. Please pass the result to `transformed_cell` argument and any exception that happen during thetransform in `preprocessing_exc_tuple` in IPython 7.17 and above.\n",
            "  and should_run_async(code)\n"
          ]
        }
      ]
    },
    {
      "cell_type": "code",
      "source": [
        "hypno = states"
      ],
      "metadata": {
        "colab": {
          "base_uri": "https://localhost:8080/"
        },
        "id": "-Hb3IylM6CHp",
        "outputId": "c9410e50-8efd-4919-f8c0-62e445892a1e"
      },
      "execution_count": 97,
      "outputs": [
        {
          "output_type": "stream",
          "name": "stderr",
          "text": [
            "/usr/local/lib/python3.10/dist-packages/ipykernel/ipkernel.py:283: DeprecationWarning: `should_run_async` will not call `transform_cell` automatically in the future. Please pass the result to `transformed_cell` argument and any exception that happen during thetransform in `preprocessing_exc_tuple` in IPython 7.17 and above.\n",
            "  and should_run_async(code)\n"
          ]
        }
      ]
    },
    {
      "cell_type": "code",
      "source": [
        "lfpHPC = lfp"
      ],
      "metadata": {
        "colab": {
          "base_uri": "https://localhost:8080/"
        },
        "id": "BTIepfIY6WDD",
        "outputId": "a1a60ba9-23ec-4554-8257-b8f907b29ba7"
      },
      "execution_count": 98,
      "outputs": [
        {
          "output_type": "stream",
          "name": "stderr",
          "text": [
            "/usr/local/lib/python3.10/dist-packages/ipykernel/ipkernel.py:283: DeprecationWarning: `should_run_async` will not call `transform_cell` automatically in the future. Please pass the result to `transformed_cell` argument and any exception that happen during thetransform in `preprocessing_exc_tuple` in IPython 7.17 and above.\n",
            "  and should_run_async(code)\n"
          ]
        }
      ]
    },
    {
      "cell_type": "code",
      "source": [
        "start, end = get_start_end(hypno=hypno, sleep_state_id=5)\n",
        "rem_interval = nap.IntervalSet(start=start, end=end)"
      ],
      "metadata": {
        "colab": {
          "base_uri": "https://localhost:8080/"
        },
        "id": "F3jnZQyocl7p",
        "outputId": "e0d18d21-df75-4b81-cfea-0022fb1a166e"
      },
      "execution_count": 99,
      "outputs": [
        {
          "output_type": "stream",
          "name": "stderr",
          "text": [
            "/usr/local/lib/python3.10/dist-packages/ipykernel/ipkernel.py:283: DeprecationWarning: `should_run_async` will not call `transform_cell` automatically in the future. Please pass the result to `transformed_cell` argument and any exception that happen during thetransform in `preprocessing_exc_tuple` in IPython 7.17 and above.\n",
            "  and should_run_async(code)\n"
          ]
        }
      ]
    },
    {
      "cell_type": "code",
      "source": [
        "# Detect phasic intervals\n",
        "lfpHPC_down = preprocess(lfpHPC, n_down)\n",
        "phREM = detect_phasic(lfpHPC_down, hypno, targetFs)"
      ],
      "metadata": {
        "colab": {
          "base_uri": "https://localhost:8080/"
        },
        "id": "JLgNzyPL7j6I",
        "outputId": "88d834f6-7213-453a-a836-a1e666558676"
      },
      "execution_count": 100,
      "outputs": [
        {
          "output_type": "stream",
          "name": "stderr",
          "text": [
            "/usr/local/lib/python3.10/dist-packages/ipykernel/ipkernel.py:283: DeprecationWarning: `should_run_async` will not call `transform_cell` automatically in the future. Please pass the result to `transformed_cell` argument and any exception that happen during thetransform in `preprocessing_exc_tuple` in IPython 7.17 and above.\n",
            "  and should_run_async(code)\n",
            "WARNING:yasa:Hypnogram is SHORTER than data by 0.52 seconds. Padding hypnogram with last value to match data.size.\n"
          ]
        }
      ]
    },
    {
      "cell_type": "code",
      "source": [
        "# Create phasic REM IntervalSet\n",
        "start, end = [], []\n",
        "for rem_idx in phREM:\n",
        "  for s, e in phREM[rem_idx]:\n",
        "    start.append(s/targetFs)\n",
        "    end.append(e/targetFs)\n",
        "phasic_interval = nap.IntervalSet(start, end)\n",
        "\n",
        "tonic_interval = rem_interval.set_diff(phasic_interval)"
      ],
      "metadata": {
        "colab": {
          "base_uri": "https://localhost:8080/"
        },
        "id": "tgOeSK_j7o21",
        "outputId": "edfd8815-1efb-4adb-80a5-dde4e5ed2fe7"
      },
      "execution_count": 101,
      "outputs": [
        {
          "output_type": "stream",
          "name": "stderr",
          "text": [
            "/usr/local/lib/python3.10/dist-packages/ipykernel/ipkernel.py:283: DeprecationWarning: `should_run_async` will not call `transform_cell` automatically in the future. Please pass the result to `transformed_cell` argument and any exception that happen during thetransform in `preprocessing_exc_tuple` in IPython 7.17 and above.\n",
            "  and should_run_async(code)\n"
          ]
        }
      ]
    },
    {
      "cell_type": "code",
      "source": [
        "t = np.arange(0, len(lfpHPC)/fs, 1/fs)\n",
        "lfp = nap.TsdFrame(t=t, d=lfpHPC, columns=['HPC'])"
      ],
      "metadata": {
        "colab": {
          "base_uri": "https://localhost:8080/"
        },
        "id": "swH16Qxy78g0",
        "outputId": "e2f24ee3-2182-4d98-8423-52f75f4131e7"
      },
      "execution_count": 102,
      "outputs": [
        {
          "output_type": "stream",
          "name": "stderr",
          "text": [
            "/usr/local/lib/python3.10/dist-packages/ipykernel/ipkernel.py:283: DeprecationWarning: `should_run_async` will not call `transform_cell` automatically in the future. Please pass the result to `transformed_cell` argument and any exception that happen during thetransform in `preprocessing_exc_tuple` in IPython 7.17 and above.\n",
            "  and should_run_async(code)\n"
          ]
        }
      ]
    },
    {
      "cell_type": "code",
      "source": [
        "lfp.restrict(phasic_interval)"
      ],
      "metadata": {
        "colab": {
          "base_uri": "https://localhost:8080/"
        },
        "id": "GAxfq1Sw8LUF",
        "outputId": "60da5b95-75de-4b4e-c3ab-167f918742e0"
      },
      "execution_count": 103,
      "outputs": [
        {
          "output_type": "stream",
          "name": "stderr",
          "text": [
            "/usr/local/lib/python3.10/dist-packages/ipykernel/ipkernel.py:283: DeprecationWarning: `should_run_async` will not call `transform_cell` automatically in the future. Please pass the result to `transformed_cell` argument and any exception that happen during thetransform in `preprocessing_exc_tuple` in IPython 7.17 and above.\n",
            "  and should_run_async(code)\n"
          ]
        },
        {
          "output_type": "execute_result",
          "data": {
            "text/plain": [
              "Time (s)         HPC\n",
              "----------  --------\n",
              "952.468     -196.712\n",
              "952.4684    -187.953\n",
              "952.4688    -183.481\n",
              "952.4692    -185.508\n",
              "952.4696    -162.732\n",
              "952.47      -164.523\n",
              "952.4704    -158.461\n",
              "...\n",
              "7068.6216   -115.036\n",
              "7068.622    -106.561\n",
              "7068.6224   -103.538\n",
              "7068.6228   -127.857\n",
              "7068.6232   -120.349\n",
              "7068.6236   -114.824\n",
              "7068.624    -106.954\n",
              "dtype: float64, shape: (79197, 1)"
            ]
          },
          "metadata": {},
          "execution_count": 103
        }
      ]
    }
  ]
}